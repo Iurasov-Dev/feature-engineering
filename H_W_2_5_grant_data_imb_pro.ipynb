{
 "cells": [
  {
   "cell_type": "markdown",
   "metadata": {},
   "source": [
    "Основные цели этого задания:\n",
    "\n",
    "- Попрактиковаться в борьбе с дисбалансом классов\n",
    "\n",
    "- Научиться заполнять пропуски в данных\n",
    "\n",
    "- Научиться использовать категориальные признаки.\n",
    "\n",
    "Задача: \n",
    "\n",
    "по различным признакам, связанным с заявкой на грант, предсказать, будет ли заявка принята. "
   ]
  },
  {
   "cell_type": "code",
   "execution_count": 1,
   "metadata": {},
   "outputs": [],
   "source": [
    "import pandas as pd\n",
    "from sklearn.model_selection import train_test_split\n",
    "from summarytools import dfSummary\n",
    "import numpy as np\n",
    "from sklearn.linear_model import LogisticRegression, LogisticRegressionCV\n",
    "from sklearn.metrics import f1_score, precision_recall_curve, roc_curve, roc_auc_score\n",
    "from sklearn.preprocessing import StandardScaler\n",
    "from sklearn.utils import shuffle\n",
    "from sklearn.ensemble import RandomForestClassifier\n",
    "from sklearn.model_selection import GridSearchCV\n",
    "from catboost import CatBoostClassifier\n",
    "from sklearn.metrics import balanced_accuracy_score, roc_auc_score\n",
    "import plotly.graph_objects as go"
   ]
  },
  {
   "cell_type": "markdown",
   "metadata": {},
   "source": [
    "План решения:\n",
    "\n",
    "1. _Загрузите данные из csv файла. Ознакомьтесь с ними, проверьте наличие пропусков, узнайте типы признаков._"
   ]
  },
  {
   "cell_type": "code",
   "execution_count": 2,
   "metadata": {},
   "outputs": [
    {
     "data": {
      "text/plain": [
       "(4113, 39)"
      ]
     },
     "execution_count": 2,
     "metadata": {},
     "output_type": "execute_result"
    }
   ],
   "source": [
    "# Загрузка данных\n",
    "df = pd.read_csv('grant_data_imb.csv')\n",
    "df.shape"
   ]
  },
  {
   "cell_type": "code",
   "execution_count": 3,
   "metadata": {},
   "outputs": [
    {
     "data": {
      "text/html": [
       "<style type=\"text/css\">\n",
       "#T_bbb62 thead>tr>th {\n",
       "  text-align: left;\n",
       "}\n",
       "#T_bbb62_row0_col0, #T_bbb62_row1_col0, #T_bbb62_row2_col0, #T_bbb62_row3_col0, #T_bbb62_row4_col0, #T_bbb62_row5_col0, #T_bbb62_row6_col0, #T_bbb62_row7_col0, #T_bbb62_row8_col0, #T_bbb62_row9_col0, #T_bbb62_row10_col0, #T_bbb62_row11_col0, #T_bbb62_row12_col0, #T_bbb62_row13_col0, #T_bbb62_row14_col0, #T_bbb62_row15_col0, #T_bbb62_row16_col0, #T_bbb62_row17_col0, #T_bbb62_row18_col0, #T_bbb62_row19_col0, #T_bbb62_row20_col0, #T_bbb62_row21_col0, #T_bbb62_row22_col0, #T_bbb62_row23_col0, #T_bbb62_row24_col0, #T_bbb62_row25_col0, #T_bbb62_row26_col0, #T_bbb62_row27_col0, #T_bbb62_row28_col0, #T_bbb62_row29_col0, #T_bbb62_row30_col0, #T_bbb62_row31_col0, #T_bbb62_row32_col0, #T_bbb62_row33_col0, #T_bbb62_row34_col0, #T_bbb62_row35_col0, #T_bbb62_row36_col0, #T_bbb62_row37_col0, #T_bbb62_row38_col0 {\n",
       "  text-align: left;\n",
       "  font-size: 12px;\n",
       "  vertical-align: middle;\n",
       "  width: 5%;\n",
       "  max-width: 50px;\n",
       "  min-width: 20px;\n",
       "}\n",
       "#T_bbb62_row0_col1, #T_bbb62_row1_col1, #T_bbb62_row2_col1, #T_bbb62_row3_col1, #T_bbb62_row4_col1, #T_bbb62_row5_col1, #T_bbb62_row6_col1, #T_bbb62_row7_col1, #T_bbb62_row8_col1, #T_bbb62_row9_col1, #T_bbb62_row10_col1, #T_bbb62_row11_col1, #T_bbb62_row12_col1, #T_bbb62_row13_col1, #T_bbb62_row14_col1, #T_bbb62_row15_col1, #T_bbb62_row16_col1, #T_bbb62_row17_col1, #T_bbb62_row18_col1, #T_bbb62_row19_col1, #T_bbb62_row20_col1, #T_bbb62_row21_col1, #T_bbb62_row22_col1, #T_bbb62_row23_col1, #T_bbb62_row24_col1, #T_bbb62_row25_col1, #T_bbb62_row26_col1, #T_bbb62_row27_col1, #T_bbb62_row28_col1, #T_bbb62_row29_col1, #T_bbb62_row30_col1, #T_bbb62_row31_col1, #T_bbb62_row32_col1, #T_bbb62_row33_col1, #T_bbb62_row34_col1, #T_bbb62_row35_col1, #T_bbb62_row36_col1, #T_bbb62_row37_col1, #T_bbb62_row38_col1 {\n",
       "  text-align: left;\n",
       "  font-size: 12px;\n",
       "  vertical-align: middle;\n",
       "  width: 15%;\n",
       "  max-width: 200px;\n",
       "  min-width: 100px;\n",
       "  word-break: break-word;\n",
       "}\n",
       "#T_bbb62_row0_col2, #T_bbb62_row1_col2, #T_bbb62_row2_col2, #T_bbb62_row3_col2, #T_bbb62_row4_col2, #T_bbb62_row5_col2, #T_bbb62_row6_col2, #T_bbb62_row7_col2, #T_bbb62_row8_col2, #T_bbb62_row9_col2, #T_bbb62_row10_col2, #T_bbb62_row11_col2, #T_bbb62_row12_col2, #T_bbb62_row13_col2, #T_bbb62_row14_col2, #T_bbb62_row15_col2, #T_bbb62_row16_col2, #T_bbb62_row17_col2, #T_bbb62_row18_col2, #T_bbb62_row19_col2, #T_bbb62_row20_col2, #T_bbb62_row21_col2, #T_bbb62_row22_col2, #T_bbb62_row23_col2, #T_bbb62_row24_col2, #T_bbb62_row25_col2, #T_bbb62_row26_col2, #T_bbb62_row27_col2, #T_bbb62_row28_col2, #T_bbb62_row29_col2, #T_bbb62_row30_col2, #T_bbb62_row31_col2, #T_bbb62_row32_col2, #T_bbb62_row33_col2, #T_bbb62_row34_col2, #T_bbb62_row35_col2, #T_bbb62_row36_col2, #T_bbb62_row37_col2, #T_bbb62_row38_col2 {\n",
       "  text-align: left;\n",
       "  font-size: 12px;\n",
       "  vertical-align: middle;\n",
       "  width: 30%;\n",
       "  min-width: 100px;\n",
       "}\n",
       "#T_bbb62_row0_col3, #T_bbb62_row1_col3, #T_bbb62_row2_col3, #T_bbb62_row3_col3, #T_bbb62_row4_col3, #T_bbb62_row5_col3, #T_bbb62_row6_col3, #T_bbb62_row7_col3, #T_bbb62_row8_col3, #T_bbb62_row9_col3, #T_bbb62_row10_col3, #T_bbb62_row11_col3, #T_bbb62_row12_col3, #T_bbb62_row13_col3, #T_bbb62_row14_col3, #T_bbb62_row15_col3, #T_bbb62_row16_col3, #T_bbb62_row17_col3, #T_bbb62_row18_col3, #T_bbb62_row19_col3, #T_bbb62_row20_col3, #T_bbb62_row21_col3, #T_bbb62_row22_col3, #T_bbb62_row23_col3, #T_bbb62_row24_col3, #T_bbb62_row25_col3, #T_bbb62_row26_col3, #T_bbb62_row27_col3, #T_bbb62_row28_col3, #T_bbb62_row29_col3, #T_bbb62_row30_col3, #T_bbb62_row31_col3, #T_bbb62_row32_col3, #T_bbb62_row33_col3, #T_bbb62_row34_col3, #T_bbb62_row35_col3, #T_bbb62_row36_col3, #T_bbb62_row37_col3, #T_bbb62_row38_col3 {\n",
       "  text-align: left;\n",
       "  font-size: 12px;\n",
       "  vertical-align: middle;\n",
       "  width: 25%;\n",
       "  min-width: 100px;\n",
       "}\n",
       "#T_bbb62_row0_col4, #T_bbb62_row1_col4, #T_bbb62_row2_col4, #T_bbb62_row3_col4, #T_bbb62_row4_col4, #T_bbb62_row5_col4, #T_bbb62_row6_col4, #T_bbb62_row7_col4, #T_bbb62_row8_col4, #T_bbb62_row9_col4, #T_bbb62_row10_col4, #T_bbb62_row11_col4, #T_bbb62_row12_col4, #T_bbb62_row13_col4, #T_bbb62_row14_col4, #T_bbb62_row15_col4, #T_bbb62_row16_col4, #T_bbb62_row17_col4, #T_bbb62_row18_col4, #T_bbb62_row19_col4, #T_bbb62_row20_col4, #T_bbb62_row21_col4, #T_bbb62_row22_col4, #T_bbb62_row23_col4, #T_bbb62_row24_col4, #T_bbb62_row25_col4, #T_bbb62_row26_col4, #T_bbb62_row27_col4, #T_bbb62_row28_col4, #T_bbb62_row29_col4, #T_bbb62_row30_col4, #T_bbb62_row31_col4, #T_bbb62_row32_col4, #T_bbb62_row33_col4, #T_bbb62_row34_col4, #T_bbb62_row35_col4, #T_bbb62_row36_col4, #T_bbb62_row37_col4, #T_bbb62_row38_col4 {\n",
       "  text-align: left;\n",
       "  font-size: 12px;\n",
       "  vertical-align: middle;\n",
       "  width: 20%;\n",
       "  min-width: 150px;\n",
       "}\n",
       "#T_bbb62_row0_col5, #T_bbb62_row1_col5, #T_bbb62_row2_col5, #T_bbb62_row3_col5, #T_bbb62_row4_col5, #T_bbb62_row5_col5, #T_bbb62_row6_col5, #T_bbb62_row7_col5, #T_bbb62_row8_col5, #T_bbb62_row9_col5, #T_bbb62_row10_col5, #T_bbb62_row11_col5, #T_bbb62_row12_col5, #T_bbb62_row13_col5, #T_bbb62_row14_col5, #T_bbb62_row15_col5, #T_bbb62_row16_col5, #T_bbb62_row17_col5, #T_bbb62_row18_col5, #T_bbb62_row19_col5, #T_bbb62_row20_col5, #T_bbb62_row21_col5, #T_bbb62_row22_col5, #T_bbb62_row23_col5, #T_bbb62_row24_col5, #T_bbb62_row25_col5, #T_bbb62_row26_col5, #T_bbb62_row27_col5, #T_bbb62_row28_col5, #T_bbb62_row29_col5, #T_bbb62_row30_col5, #T_bbb62_row31_col5, #T_bbb62_row32_col5, #T_bbb62_row33_col5, #T_bbb62_row34_col5, #T_bbb62_row35_col5, #T_bbb62_row36_col5, #T_bbb62_row37_col5, #T_bbb62_row38_col5 {\n",
       "  text-align: left;\n",
       "  font-size: 12px;\n",
       "  vertical-align: middle;\n",
       "  width: 10%;\n",
       "}\n",
       "</style>\n",
       "<table id=\"T_bbb62\">\n",
       "  <caption><strong>Data Frame Summary</strong><br>df<br>Dimensions: 4,113 x 39<br>Duplicates: 65</caption>\n",
       "  <thead>\n",
       "    <tr>\n",
       "      <th id=\"T_bbb62_level0_col0\" class=\"col_heading level0 col0\" >No</th>\n",
       "      <th id=\"T_bbb62_level0_col1\" class=\"col_heading level0 col1\" >Variable</th>\n",
       "      <th id=\"T_bbb62_level0_col2\" class=\"col_heading level0 col2\" >Stats / Values</th>\n",
       "      <th id=\"T_bbb62_level0_col3\" class=\"col_heading level0 col3\" >Freqs / (% of Valid)</th>\n",
       "      <th id=\"T_bbb62_level0_col4\" class=\"col_heading level0 col4\" >Graph</th>\n",
       "      <th id=\"T_bbb62_level0_col5\" class=\"col_heading level0 col5\" >Missing</th>\n",
       "    </tr>\n",
       "  </thead>\n",
       "  <tbody>\n",
       "    <tr>\n",
       "      <td id=\"T_bbb62_row0_col0\" class=\"data row0 col0\" >1</td>\n",
       "      <td id=\"T_bbb62_row0_col1\" class=\"data row0 col1\" ><strong>Grant.Status</strong><br>[int64]</td>\n",
       "      <td id=\"T_bbb62_row0_col2\" class=\"data row0 col2\" >Mean (sd) : 0.2 (0.4)<br>min < med < max:<br>0.0 < 0.0 < 1.0<br>IQR (CV) : 0.0 (0.5)</td>\n",
       "      <td id=\"T_bbb62_row0_col3\" class=\"data row0 col3\" >2 distinct values</td>\n",
       "      <td id=\"T_bbb62_row0_col4\" class=\"data row0 col4\" ><img src = \"data:image/png;base64, iVBORw0KGgoAAAANSUhEUgAAAKoAAABGCAYAAABc8A97AAAAOXRFWHRTb2Z0d2FyZQBNYXRwbG90bGliIHZlcnNpb24zLjguMCwgaHR0cHM6Ly9tYXRwbG90bGliLm9yZy81sbWrAAAACXBIWXMAAA9hAAAPYQGoP6dpAAABtklEQVR4nO3dQYqDQBBG4aohSNx0I4KH8RA5bA7hbSS0iyiBpGc3m2GidjLM/PC+rVbh4qEIgp5zNuC/+/jrCwC2OKyd4O61mVWF+28557lwFvjyNFR3r9u2PYUQmpLl0zRd3P1MrHjV2h21CiE0fd/PMcZlz+KU0nEYhmYcx8rMCBUvWX30m5nFGJeu664F++uCGeAbXqYggVAhgVAhgVAhgVAhgVAhgVAhgVAhgVAhgVAhgVAhgVAhgVAhgVAhgVAhgVAhgVAhgVAhgVAhgVAhgVAhgVAhgVAhgVAhgVAhgVAhgVAhgVAhgVAhgVAhgVAhgVAhgVAhgVAhgVAhgVAhgVAhgVAhgVAhgVAhgVAhgVAhgVAhgVAhgVAhgVAhYdNv0IEt3L02s6pw/JZznn86SKh4C3ev27Y9hRCakvlpmi7ufv4pVkLFu1QhhKbv+znGuOwZTCkdh2FoxnGszIxQ8ftijEvXddeC0frZQV6mIIFQIYFQIYFQIYFQIYFQIYFQIYFQIYFQIYFQIYFQIYFQIYFQIWHT11MppePexSml4/1+P5hZcPfdFwY54fF4HEpbWTvnE+dCTn21JaLfAAAAAElFTkSuQmCC\"></img></td>\n",
       "      <td id=\"T_bbb62_row0_col5\" class=\"data row0 col5\" >0<br>(0.0%)</td>\n",
       "    </tr>\n",
       "    <tr>\n",
       "      <td id=\"T_bbb62_row1_col0\" class=\"data row1 col0\" >2</td>\n",
       "      <td id=\"T_bbb62_row1_col1\" class=\"data row1 col1\" ><strong>Sponsor.Code</strong><br>[object]</td>\n",
       "      <td id=\"T_bbb62_row1_col2\" class=\"data row1 col2\" >1. 4D<br>2. 2B<br>3. 21A<br>4. nan<br>5. 24D<br>6. 40D<br>7. 34B<br>8. 32D<br>9. 97A<br>10. 59C<br>11. other</td>\n",
       "      <td id=\"T_bbb62_row1_col3\" class=\"data row1 col3\" >1,006 (24.5%)<br>915 (22.2%)<br>375 (9.1%)<br>257 (6.2%)<br>114 (2.8%)<br>91 (2.2%)<br>81 (2.0%)<br>73 (1.8%)<br>46 (1.1%)<br>44 (1.1%)<br>1,111 (27.0%)</td>\n",
       "      <td id=\"T_bbb62_row1_col4\" class=\"data row1 col4\" ><img src = \"data:image/png;base64, iVBORw0KGgoAAAANSUhEUgAAAJsAAAD+CAYAAAAtWHdlAAAAOXRFWHRTb2Z0d2FyZQBNYXRwbG90bGliIHZlcnNpb24zLjguMCwgaHR0cHM6Ly9tYXRwbG90bGliLm9yZy81sbWrAAAACXBIWXMAAA9hAAAPYQGoP6dpAAAEeUlEQVR4nO3dO24bVwCG0SuBcKKGBGFAy/ACuIgsNovgArwPQdAUluJGKfyALTuxxMc3FH1O5yq3+DDEDO4fXTw+Pg4oXM59AH4fYiMjNjJiIyM2MmIjIzYyYiMjNjIXY4yrMcabuQ/yEx8fHx/v5z4Eh7N4+/btX8vlcj33QZ6apun24uLib8Gdj8VyuVxvNpv71Wr1MPdhvri7u/tzu92ub25u3owxxHYmFmOMsVqtHq6vrz/MfZgnruY+AIflBYGM2MiIjYzYyIiNjNjIiI2M2MiIjYzYyIiNjNjIiI2M2Mgsxvh0f2zug3zr1M7DYSymabrdbrfrcWL3x6Zpuh1jfJz7HByODQKZC//LLCqn9GTzJDtzJ7OusqY6fyexrrKm+j2c0rrqpN6GOTwfdcmIjYzYyIiNjNjIiI2M2MiIjYzYyIiNjNjIiI2M2MicxOBl7v8+jZMZvBi4nD/XwskYvJDZ58nmScSL7Dx4MVDhpXYavBiosIt9Bi8GKryIj7pkxEZGbGTERkZsZMRGRmxkxEZGbGTERkZsZMRGRmxkdhq8GKiwi50HLwYqvJRr4WQMXsh4QSDzkp9RP5vs5dnrKmsq9vWsdZU1FYfwknWVNRV78YJARmxkxEZGbGTERkZsZMRGRmxkxEZGbGTERkZsZMRG5lnrKmsqDuHZ6yprKvblWjgZ6yoyP3uyeYJxFD8MXgxbOJbvBi+GLRzTzwYvhi0chY+6ZMRGRmxkxEZGbGTERkZsZMRGRmxkxEZGbGTERkZsZL4bvBi2cEw/DF4MWzgW18LJGLyQefpk81TjaL4bvBi7cEyXXwYvm83m/nN0u/w5SPilr4OXz/82duFofNQlIzYyYiMjNjJiIyM2MmIjIzYyYiMjNjJiIyM2MmIjIzYyz/pzQnAI366rLKs4KhsEMtZVZDzZyFhXkbGuImNdRcZHXTJiIyM2MmIjIzYyYiMjNjJiIyM2MmIjIzYyYiMjNjIGL2QMXsi4Fk7G4IWMJxsZgxcyBi9kDF7I+KhLRmxkxEZGbGTERkZsZMRGRmxkxEZGbGTERkZsZMRGxuCFjMELGdfCyRi8kPGCQObbn1E/oRzV13WVZRXHdrlcLtfv3r0bllUc2+UYY1xdXf0z90E4f14QyIiNjNjIiI2M2MiIjYzYyIiNjNjIiI2M2MiIjYzYyFyOMcb9/f0fcx+E83c5TdPt+/fvLas4OtfCyVhXkfFkI2PwQsbghYzBCxkfdcmIjYzYyIiNjNjIiI2M2MiIjYzYyIiNjNjIiI2M2MgYvJAxeCHjWjgZgxcyT/9Q2inz5H3lvg5e5j7IrxjkvH6L5XK53mw296vV6mHuw/yXu7u7P7fb7frm5ubNGENsr9RijDFWq9XD9fX1h7kP8wtXcx+A/fioS0ZsZMRGRmxkxEZGbGTERkZsZMRGRmxkxEZGbGTERmYxxqcrPHMf5P+c+vl4nsU0Tbfb7XY9TvwKj0HO6+daOBmDFzJeEMiIjYzYyIiNjNjIiI2M2MiIjYzYyPwLKygLjy7kd5MAAAAASUVORK5CYII=\"></img></td>\n",
       "      <td id=\"T_bbb62_row1_col5\" class=\"data row1 col5\" >257<br>(6.2%)</td>\n",
       "    </tr>\n",
       "    <tr>\n",
       "      <td id=\"T_bbb62_row2_col0\" class=\"data row2 col0\" >3</td>\n",
       "      <td id=\"T_bbb62_row2_col1\" class=\"data row2 col1\" ><strong>Grant.Category.Code</strong><br>[object]</td>\n",
       "      <td id=\"T_bbb62_row2_col2\" class=\"data row2 col2\" >1. 10A<br>2. 30B<br>3. 50A<br>4. nan<br>5. 10B<br>6. 20C<br>7. 30C<br>8. 30D<br>9. 20A<br>10. 30G<br>11. other</td>\n",
       "      <td id=\"T_bbb62_row2_col3\" class=\"data row2 col3\" >2,050 (49.8%)<br>707 (17.2%)<br>375 (9.1%)<br>257 (6.2%)<br>211 (5.1%)<br>180 (4.4%)<br>147 (3.6%)<br>93 (2.3%)<br>49 (1.2%)<br>35 (0.9%)<br>9 (0.2%)</td>\n",
       "      <td id=\"T_bbb62_row2_col4\" class=\"data row2 col4\" ><img src = \"data:image/png;base64, iVBORw0KGgoAAAANSUhEUgAAAJsAAAD+CAYAAAAtWHdlAAAAOXRFWHRTb2Z0d2FyZQBNYXRwbG90bGliIHZlcnNpb24zLjguMCwgaHR0cHM6Ly9tYXRwbG90bGliLm9yZy81sbWrAAAACXBIWXMAAA9hAAAPYQGoP6dpAAAEcklEQVR4nO3dS04cVwCG0dutlhMmjRCSl5DMWACL8GKzCBbAMHtAiB4E2xMyiBPFMo9+VH2tNuesoIQ+3aJK9cPi6elpQGF57Avg/RAbGbGRERsZsZERGxmxkREbGbGRWYwxzsYYH459ISfm69PT0+OxL+LUrC4vLz+t1+uLY1/IKdlsNveLxeIPwe1mtV6vL66vrx/Pz88/H/tiTsHDw8OvNzc3F3d3dx/GGGLbwWqMMc7Pzz9//Pjxr2NfzAk5O/YFnCIPCGTERkZsZMRGRmxkxEZGbGTERkZsZMRGRmxkxEZGbGTERmY1xj/faB37Qk6Fn9X+VpvN5v7m5uZi+EZra5vN5n6M8fXY13FqbBD2Y4Owh4U/mUWlPtmcCO9Yuq6ySnrfsnWVVRL1usoT7zvmpS4ZsZERGxmxkREbGbGRERsZsZERGxmxkREbGbGRERuZbPBiKEI6eDEUed98Fk7G4IXMISebU4qd7D14MV5hV3sNXoxX2MchgxfjFXbipS4ZsZERGxmxkREbGbGRERsZsZERGxmxkREbGbGRERuZvQYvxivsY+/Bi/EKu/JZOBmDFzIeEMjscht12+QgW6+rrKk41FbrKmsqprDLusqaioN4QCAjNjJiIyM2MmIjIzYyYiMjNjJiIyM2MmIjIzYyYiOz1brKmoopbL2usqbiUD4LJ2NdRWabk82JxiTeHLwYujCVVwcvhi5MaZvBi6ELk/BSl4zYyIiNjNjIiI2M2MiIjYzYyIiNjNjIiI2M2MiIjcyrgxdDF6b05uDF0IWp+CycjMELmbdONqcak3l18GLswpReHLwYuzC1twYvxi5MxktdMmIjIzYyYiMjNjJiIyM2MmIjIzYyYiMjNjJiIyM2MmIj8+K6yrKKqb26rrKsYko2CGSsq8i8drI51ZjUi+sqyyqm9uy6yrKKOby2rrKsYlJe6pIRGxmxkREbGbGRERsZsZERGxmxkREbGbGRERsZsZF5dvBi7MIcXhy8GLswNZ+FkzF4IfPcyeZEYxY/DF4MXZjLd4MXQxfm9NzgxdCFWXipS0ZsZMRGRmxkxEZGbGTERkZsZMRGRmxkxEZGbGTERua7wYuhC3P6YfBi6MJcfBZOxuCFjAcEMv+/jbp9Mqv/1lVWVcxtuV6vL66ursa3Od9L/woSDrYcY4yzs7Mvx74Qfn4eEMiIjYzYyIiNjNjIiI2M2MiIjYzYyIiNjNjIiI2M2Mgsxxjj8fHxl2NfCD+/5Wazub+9vbWqYnY+CydjXUXm35NtONWY2+ry8vLTGGMYuzC35Xq9vjB2oeA9GxmxkREbGbGRERsZsZERGxmxkREbGbGRERsZsZERGxmxkREbmdW3ocsYxi7MzGfhZAxeyPidjcxysVj8vlgs/J9RZrccY/w2xvDnF5id2ygZsZERGxmxkREbGbGRERsZsZERGxmxkREbGbGRERsZsZERG5nlGOPPMcaXY18IPz8bBDJuo2TERkZsZMRGRmxkxEZGbGTERkZsZMRG5m+1Ve/KFFvW8QAAAABJRU5ErkJggg==\"></img></td>\n",
       "      <td id=\"T_bbb62_row2_col5\" class=\"data row2 col5\" >257<br>(6.2%)</td>\n",
       "    </tr>\n",
       "    <tr>\n",
       "      <td id=\"T_bbb62_row3_col0\" class=\"data row3 col0\" >4</td>\n",
       "      <td id=\"T_bbb62_row3_col1\" class=\"data row3 col1\" ><strong>Contract.Value.Band...see.note.A</strong><br>[object]</td>\n",
       "      <td id=\"T_bbb62_row3_col2\" class=\"data row3 col2\" >1. nan<br>2. A <br>3. B <br>4. C <br>5. D <br>6. G <br>7. E <br>8. F <br>9. H <br>10. J <br>11. other</td>\n",
       "      <td id=\"T_bbb62_row3_col3\" class=\"data row3 col3\" >2,160 (52.5%)<br>961 (23.4%)<br>305 (7.4%)<br>159 (3.9%)<br>151 (3.7%)<br>135 (3.3%)<br>98 (2.4%)<br>75 (1.8%)<br>33 (0.8%)<br>18 (0.4%)<br>18 (0.4%)</td>\n",
       "      <td id=\"T_bbb62_row3_col4\" class=\"data row3 col4\" ><img src = \"data:image/png;base64, iVBORw0KGgoAAAANSUhEUgAAAJsAAAD+CAYAAAAtWHdlAAAAOXRFWHRTb2Z0d2FyZQBNYXRwbG90bGliIHZlcnNpb24zLjguMCwgaHR0cHM6Ly9tYXRwbG90bGliLm9yZy81sbWrAAAACXBIWXMAAA9hAAAPYQGoP6dpAAAEIElEQVR4nO3dTU5bVwCG4WNkRc3ElmWJxXgRWWwX4d0ghAclysQdlFQlGATB9/VPn2eW2RV6dYyvzhdm+/1+QOHm1A/A/4fYyIiNjNjIiI2M2MiIjYzYyIiNzGyM8XWM8eXUD3Lhfuz3+8dTP8S5m6/X62+LxWJ16ge5ZLvd7n42m/0puLfNF4vFarPZPC6Xy++nfphL9PDw8Md2u13d3d19GWOI7Q3zMcZYLpffb29v/zr1w1ywr6d+gEvgCwIZsZERGxmxkREbGbGRERsZsZERGxmxkREbGbGRERsZsZGZj/HPnaxTP8il8rN7v/lut7vfbrer4U7Wb9vtdvdjjB+nfo5zZ4NwHDYI7zDzX2ZROceTzSlxpc5uXWWpdL3Oal1lqXTdznFd5VvxlfJSl4zYyIiNjNjIiI2M2MiIjYzYyIiNjNjIiI2M2MiIjcxZDV7O5TmYxtkNXoxHrpdr4WQMXsh89GRz6vDbPjR4MUbhM949eDFG4bM+Ong5i2+sXCYvdcmIjYzYyIiNjNjIiI2M2MiIjYzYyIiNjNjIiI2M2Mi8e/BijMJnfWjwYozCZ7gWTsbghYwvCGTe+hj1kclRvbqusqTi2A6uqyypmMJb6ypLKo7KFwQyYiMjNjJiIyM2MmIjIzYyYiMjNjJiIyM2MmIjIzYyB9dVllRM4dV1lSUVx+ZaOBnrKjJONjIGL2QMXsgYvJDxUpeM2MiIjYzYyIiNjNjIiI2M2MiIjYzYyIiNjNjIiI2MwQsZgxcyroWTMXgh89rJ5lTj6A4OXoxdmMKLwYuxC1N5bfBi7MLRealLRmxkxEZGbGTERkZsZMRGRmxkxEZGbGTERkZsZMRGRmxkXqyrLKuYysF1lWUVU7BBIGNdRebQyeZUYxIv1lWWVUzl2brKsoopHVpXWVYxCS91yYiNjNjIiI2M2MiIjYzYyIiNjNjIiI2M2MiIjYzYyDwbvBi7MKUXgxdjF6biWjgZgxcyv55sTjUm82zwYuzClG5+Dl42m83jU3SH/hwkfNq/g5enfxu7MBkvdcmIjYzYyIiNjNjIiI2M2MiIjYzYyIiNjNjIiI2M2Mi8+AsvMJX/Dl6MXZiUa+FkDF7I+IJA5ufH6PDxydTm6/X62xhjWFUxtZvFYrGyqqLgdzYyYiMjNjJiIyM2MmIjIzYyYiMjNjJiIyM2MmIjIzYyYiMjNjLzp0XVGFZVTMy1cDLWVWScbGQMXsgYvJDx6oOM2MiIjYzYyIiNjNjIiI2M2MiIjYzYyIiNjNjIiI2M2MiIjYzBCxnXwskYvJBxspExeCFj8ELGqw8yYiMjNjJiIyM2MmIjIzYyYiMjNjJiIyM2MmIjIzYyYiMjNjIGL2RcCydj8ELG72xkxEZGbGTERkZsZMRGRmxkxEZGbGT+Bo2O4tqexPn8AAAAAElFTkSuQmCC\"></img></td>\n",
       "      <td id=\"T_bbb62_row3_col5\" class=\"data row3 col5\" >2,160<br>(52.5%)</td>\n",
       "    </tr>\n",
       "    <tr>\n",
       "      <td id=\"T_bbb62_row4_col0\" class=\"data row4 col0\" >5</td>\n",
       "      <td id=\"T_bbb62_row4_col1\" class=\"data row4 col1\" ><strong>RFCD.Code.1</strong><br>[float64]</td>\n",
       "      <td id=\"T_bbb62_row4_col2\" class=\"data row4 col2\" >Mean (sd) : 314904.7 (47163.3)<br>min < med < max:<br>210000.0 < 320801.0 < 999999.0<br>IQR (CV) : 40801.0 (6.7)</td>\n",
       "      <td id=\"T_bbb62_row4_col3\" class=\"data row4 col3\" >549 distinct values</td>\n",
       "      <td id=\"T_bbb62_row4_col4\" class=\"data row4 col4\" ><img src = \"data:image/png;base64, iVBORw0KGgoAAAANSUhEUgAAAKoAAABGCAYAAABc8A97AAAAOXRFWHRTb2Z0d2FyZQBNYXRwbG90bGliIHZlcnNpb24zLjguMCwgaHR0cHM6Ly9tYXRwbG90bGliLm9yZy81sbWrAAAACXBIWXMAAA9hAAAPYQGoP6dpAAACJklEQVR4nO3dQcraQBiH8XcalaiQIILuvEChC5ceoof9jtBFTuAN3AkhTDA1Ncbppl2V9tOon/7t89vPMIuHSMzA60IIBjy7T48+AHCO3j03d84NzWxwxRaHEML+VueBrruF6pwbTqfTr0mSTLruUZZl4Zx7I1bc84k6SJJkslqt9mma1pcu9t7HWZZN8jwfmBmh/ufu+tNvZpamaT2bzb53XD686WEgi5cpSCBUSCBUSCBUSCBUSCBUSCBUSCBUSCBUSCBUSCBUSCBUSCBUSCBUSCBUSCBUSCBUSCBUSCBUSCBUSCBUSCBUSCBUSCBUSCBUSCBUSCBUSCBUSCBUSCBUSCBUSCBUSCBUSCBUSCBUSCBUSHh32MQVs6KS0+nU77AO+MM/Q71mVlTTNHHbtp/ruv5mZl2nogBm9v4TtfOsqM1mM1mv16Pj8RhdcT7AzM6cM9VlVlRRFMyIws3wMgUJhAoJhAoJhAoJhAoJhAoJhAoJhAoJhAoJhAoJhAoJZ33rf5S2bftmljjnuiw/hBD2Nz4SHuRpQ62qqt80zZfFYhFFUXTRzS0zs7IsC+fcG7G+hqcN9XA49OI4Hi2Xy3o+nxeXrPXex1mWTfI8H5gZob6Apw31t/F4fPEVw1+4ZvhCeJmCBEKFBEKFBEKFBEKFBEKFBEKFBEKFhLP+8Pfex5duvNvtYjOzqqri7XY7+sj13vu4bduedb8ngI/3I4Tw10/lPwFe44dBdpVA8wAAAABJRU5ErkJggg==\"></img></td>\n",
       "      <td id=\"T_bbb62_row4_col5\" class=\"data row4 col5\" >260<br>(6.3%)</td>\n",
       "    </tr>\n",
       "    <tr>\n",
       "      <td id=\"T_bbb62_row5_col0\" class=\"data row5 col0\" >6</td>\n",
       "      <td id=\"T_bbb62_row5_col1\" class=\"data row5 col1\" ><strong>RFCD.Percentage.1</strong><br>[float64]</td>\n",
       "      <td id=\"T_bbb62_row5_col2\" class=\"data row5 col2\" >Mean (sd) : 74.7 (26.9)<br>min < med < max:<br>5.0 < 80.0 < 100.0<br>IQR (CV) : 50.0 (2.8)</td>\n",
       "      <td id=\"T_bbb62_row5_col3\" class=\"data row5 col3\" >21 distinct values</td>\n",
       "      <td id=\"T_bbb62_row5_col4\" class=\"data row5 col4\" ><img src = \"data:image/png;base64, iVBORw0KGgoAAAANSUhEUgAAAKoAAABGCAYAAABc8A97AAAAOXRFWHRTb2Z0d2FyZQBNYXRwbG90bGliIHZlcnNpb24zLjguMCwgaHR0cHM6Ly9tYXRwbG90bGliLm9yZy81sbWrAAAACXBIWXMAAA9hAAAPYQGoP6dpAAACwklEQVR4nO3dv27aUBSA8XMhEPPPFokKG0s3InVg5AE69mH7CBkYujZDFyYWhEDIFDcIY+hQJROQXl9b+Fjfb02OYkWfwL46ks3pdBKg6Cq3vgDgf9zd+gJQHsaYhojUU47vT6fT66UfEioyYYxpPD4+fvN9v5tmfrPZrI0x3y/FSqjISt33/e54PH4NgmBnMxiGoTeZTLqr1aouIoSK/AVBsOv1en9SjDau/ZCHKahAqFCBUKECoUIFQoUKhAoVCBUqECpUIFSoQKhQgVChAqFCBUKFCoQKFQgVKhAqVCBUqECoUIFQoQKhQgVChQqEChUIFSoQKlQgVKhAqFCBUKECoUIFQoUKhAoVCBUqECpUIFSoQKhQgVChAqFCBUKFCoQKFQgVKvCeqQvyfF0i7BHqGXm/LhH2CPW8XF+XCHuEekVer0uEPR6moAKhQgVChQqlvUd1PF7yj8djLcvrgZtShup6vBTHsZckydNut3sWkTQPU8hYKUMVh+MlEZHZbNZ9eXlpHg6Hah4XB3tlDVVE0h8vrddrjpcKhocpqECoUKHUX/23kiRJTUR8Y0yacRZaziDUjEVRVIvj+MtgMKhWq1XrBzkWWs4j1Izt9/s7z/Oao9Fo1+/31zazLLRcRqg5abVaLLRkiIcpqECoUIGv/oJxPDEQ+ffhc0w5W9gTh0KH6rBYonKpxPXEIEmSWhRFn9vt9rRSqcS280U+cShsqC6LJVqXSlxODETedxQ+jUajX2U7ccg1VNdVu3a73RuPxxvbxRLtSyVpTwzedhTKeOLwYagOsXkPDw9fgyBopZh9/1S8v79/tv2ns1SSjuP9ca63W1dDdf36FZGn4XD4s9Pp/LadXy6X3nQ6bYZh2FosFnub2e1264mIRFHkLRaLpu3fdpm/1azr/Hw+77jcH799sCyXyx+2s2EYeh/9zl/QhEE2qaCYXQAAAABJRU5ErkJggg==\"></img></td>\n",
       "      <td id=\"T_bbb62_row5_col5\" class=\"data row5 col5\" >260<br>(6.3%)</td>\n",
       "    </tr>\n",
       "    <tr>\n",
       "      <td id=\"T_bbb62_row6_col0\" class=\"data row6 col0\" >7</td>\n",
       "      <td id=\"T_bbb62_row6_col1\" class=\"data row6 col1\" ><strong>RFCD.Code.2</strong><br>[float64]</td>\n",
       "      <td id=\"T_bbb62_row6_col2\" class=\"data row6 col2\" >Mean (sd) : 161386.7 (161577.1)<br>min < med < max:<br>0.0 < 240202.0 < 440207.0<br>IQR (CV) : 320702.0 (1.0)</td>\n",
       "      <td id=\"T_bbb62_row6_col3\" class=\"data row6 col3\" >526 distinct values</td>\n",
       "      <td id=\"T_bbb62_row6_col4\" class=\"data row6 col4\" ><img src = \"data:image/png;base64, iVBORw0KGgoAAAANSUhEUgAAAKoAAABGCAYAAABc8A97AAAAOXRFWHRTb2Z0d2FyZQBNYXRwbG90bGliIHZlcnNpb24zLjguMCwgaHR0cHM6Ly9tYXRwbG90bGliLm9yZy81sbWrAAAACXBIWXMAAA9hAAAPYQGoP6dpAAACZUlEQVR4nO3dT8raQByH8d/UP0SlCWLRnRcodOHSTW/Qw3bbXRd6AW/gRgTRiPYNxiTdFUrhVSfa5Buez9oZgzwYRieMK4rCgLr7UPUFAPdo33qBc65nZl3P+S9FUbx5jgX+eDdU51xvNBp9C8Nw6DP58XjcO+e+EyvKuvWN2g3DcDifz9+iKEoemTiO42CxWAx3u13XzAgVpdy89ZuZRVGUjMfjXx7z9zzGAP9gMQUJhAoJhAoJhAoJhAoJhAoJhAoJhAoJhAoJhAoJhAoJhAoJhAoJhAoJhAoJhAoJhAoJhAoJhAoJhAoJhAoJhAoJhAoJhAoJhAoJhAoJhAoJhAoJhAoJhAoJhAoJhAoJhAoJhAoJhAoJhAoJdx02AR1NPReMUBukyeeCEWqzNPZcMEJtoCaeC8ZiChL4Rq2ZkouhMM/zzjOvpy4ItUbKLobSNA2yLPucJMlPM/O59dcWodaL92LIzGy9Xg9Xq1X/er22XnFxVSLUGvJdDO33+9ouhspiMQUJhAoJhAoJhAoJhAoJhAoJhAoJhAoJhAoJhAoJ/IX6AiV2QDV291NZhPpkZXZAVb37KcuyjpmFzjnfKV72zBWhPp/3Dqgqdz+dz+dOmqZfptNpq9VqPbxzy8zscDicnHM/zMxn/LuRE+qL+OyAqnL30+VyaQdB0J/NZslkMtk/On6z2XxcLpdfp9PpJ5/Qbz1YSKj4y2Aw8N5i6Bv6PQ8WEiqeyjd0u/FgIT9PQQKhQsJdt/44joNHJ47jOMiyrG3lfu5QFOZ53vb5zE6nU2Bmdj6fg+122/+f46t873s+q9/T5PFOFB+FJAAAAABJRU5ErkJggg==\"></img></td>\n",
       "      <td id=\"T_bbb62_row6_col5\" class=\"data row6 col5\" >260<br>(6.3%)</td>\n",
       "    </tr>\n",
       "    <tr>\n",
       "      <td id=\"T_bbb62_row7_col0\" class=\"data row7 col0\" >8</td>\n",
       "      <td id=\"T_bbb62_row7_col1\" class=\"data row7 col1\" ><strong>RFCD.Percentage.2</strong><br>[float64]</td>\n",
       "      <td id=\"T_bbb62_row7_col2\" class=\"data row7 col2\" >Mean (sd) : 17.6 (19.3)<br>min < med < max:<br>0.0 < 10.0 < 90.0<br>IQR (CV) : 30.0 (0.9)</td>\n",
       "      <td id=\"T_bbb62_row7_col3\" class=\"data row7 col3\" >19 distinct values</td>\n",
       "      <td id=\"T_bbb62_row7_col4\" class=\"data row7 col4\" ><img src = \"data:image/png;base64, iVBORw0KGgoAAAANSUhEUgAAAKoAAABGCAYAAABc8A97AAAAOXRFWHRTb2Z0d2FyZQBNYXRwbG90bGliIHZlcnNpb24zLjguMCwgaHR0cHM6Ly9tYXRwbG90bGliLm9yZy81sbWrAAAACXBIWXMAAA9hAAAPYQGoP6dpAAACdUlEQVR4nO3dP47aQBiG8W8CrAaQbPFH0HGBlVIg0XCAlDlsjpCCIjU3oENCyAh2CcY4VdIEAvYErV/r+dXMmOKRwf6KcXmeG1B1nz76CwCPaN77gHOubWYvJfc/5Xn+XnIt8Mc/Q3XOtQeDwdcoinplNt/tdlvn3DdiRah7d9SXKIp68/n8PY7jY5GNkyTxi8Wit9lsXsyMUBHk7k+/mVkcx8fRaPRWYv92iTXAX3iYggRChQRChQRChQRChQRChQRChQRChQRChQRChQRChQRChQRChQRChQRChQRChQRChQRChQRChQRChQRChQRChQRChQRChQRChQRChQRChQRChQRChQRChQRChQRChQRChQRChQRChQRChQRChQRChQRChYSHzplSFHg0phnHY1ZKLUMNPRrTjOMxq6aWoVrA0ZhmHI9ZRXUN1cyCjsY043jMSuFhChIIFRIIFRIIFRIIFRJq/dT/UQKHDQwariDUG7Isa5lZ5JwrutT3+/0vcRx3y1yXQcN1lQ414M4UXS6XVtnrHg6HVpqmnyeTSaPRaBQaGKRp6s3sdTab/RgOh7siaxk03FbZUEPGoGma+izLXo/H43czK/zC/3Q6Nb33nel0ehyPx9sia1erVW+5XHa892nJYQODhisqG6oFjEF/x3I+nxshX6Db7RaebG23W0J7giqHamblxqDEUj+8noIEQoUEQoUEQoUEQoUEQoWEp76eChhDmgVOl1AvTws1ZAxpFj5dQr08LdSQMaTZ/5suoR4eCjVJEl904/1+X3jNNYfDwa/X606Za5dZG7o+ZG2SJD7LsqaV/7uk7Gee5zd/eX8BcrrsTemPjK8AAAAASUVORK5CYII=\"></img></td>\n",
       "      <td id=\"T_bbb62_row7_col5\" class=\"data row7 col5\" >260<br>(6.3%)</td>\n",
       "    </tr>\n",
       "    <tr>\n",
       "      <td id=\"T_bbb62_row8_col0\" class=\"data row8 col0\" >9</td>\n",
       "      <td id=\"T_bbb62_row8_col1\" class=\"data row8 col1\" ><strong>RFCD.Code.3</strong><br>[float64]</td>\n",
       "      <td id=\"T_bbb62_row8_col2\" class=\"data row8 col2\" >Mean (sd) : 96437.2 (148599.3)<br>min < med < max:<br>0.0 < 0.0 < 440207.0<br>IQR (CV) : 270208.0 (0.6)</td>\n",
       "      <td id=\"T_bbb62_row8_col3\" class=\"data row8 col3\" >439 distinct values</td>\n",
       "      <td id=\"T_bbb62_row8_col4\" class=\"data row8 col4\" ><img src = \"data:image/png;base64, iVBORw0KGgoAAAANSUhEUgAAAKoAAABGCAYAAABc8A97AAAAOXRFWHRTb2Z0d2FyZQBNYXRwbG90bGliIHZlcnNpb24zLjguMCwgaHR0cHM6Ly9tYXRwbG90bGliLm9yZy81sbWrAAAACXBIWXMAAA9hAAAPYQGoP6dpAAACcElEQVR4nO3Yv27aUBiG8e/wTzZBx7JQYWPpWKkDIxeRi80ldOAKMnTpxIaEkBEOFo7tLk2lqmqJj0PCKz2/me/YwyMbf65pGgNuXe+jbwB4jcGlHzjnYjMbBZ5/bprmFDgL/PbfUJ1z8XQ6vffepyGHHw6HvXPugVjR1aUn6sh7n65Wq1OSJEWbg7Msi9brdbrb7UZmRqjo5OKr38wsSZJiNps9BZwfB8wAf+FjChIIFRIIFRIIFRIIFRIIFRIIFRIIFRIIFRIIFRIIFRIIFRIIFRIIFRIIFRIIFRIIFRIIFRIIFRIIFRIIFRIIFRIIFRIIFRIIFRIIFRIIFRIIFRIIFRIIFRIIFRIIFRIIFRIIFRIIFRIIFRIIFRIIFRIIFRIIFRIIFRIIFRIIFRIIFRIIFRIIFRIIFRIIFRIIFRIIFRIIFRIIFRIIFRIGH30D+JNzLjazUYcjemZWB86em6Y5dbj21RDqDXHOxdPp9N57n4bMV1U1zPP882Qy+dHr9cq284fDYe+ce7jFWAn1toy89+lqtTolSVK0Hd5sNunj4+On5XL5fT6f79vMZlkWrdfrdLfbjcyMUHFZkiTFbDZ7aju33+9jM7O7u7ugeTOLA2beBR9TkECokECokMB/1CvosGLydV0P3/p+XquqqqGZeedc6BFXW40R6hvrsmIqyzKqqupLURTfzCzkYyhYnufDsiy/LhaLfr/fb71xuPZqjFDfXvCK6dd6afz8/Ny/1s39y/l8HkRRNF4ul0Xb1ZbZ9Vdjrwo1y7KozYVfZqqqGli3V4kiX9d1pwdAnufRdrsdt507Ho9R6PzL7K36CQxswYCjvDYaAAAAAElFTkSuQmCC\"></img></td>\n",
       "      <td id=\"T_bbb62_row8_col5\" class=\"data row8 col5\" >260<br>(6.3%)</td>\n",
       "    </tr>\n",
       "    <tr>\n",
       "      <td id=\"T_bbb62_row9_col0\" class=\"data row9 col0\" >10</td>\n",
       "      <td id=\"T_bbb62_row9_col1\" class=\"data row9 col1\" ><strong>RFCD.Percentage.3</strong><br>[float64]</td>\n",
       "      <td id=\"T_bbb62_row9_col2\" class=\"data row9 col2\" >Mean (sd) : 7.1 (11.9)<br>min < med < max:<br>0.0 < 0.0 < 70.0<br>IQR (CV) : 15.0 (0.6)</td>\n",
       "      <td id=\"T_bbb62_row9_col3\" class=\"data row9 col3\" >16 distinct values</td>\n",
       "      <td id=\"T_bbb62_row9_col4\" class=\"data row9 col4\" ><img src = \"data:image/png;base64, iVBORw0KGgoAAAANSUhEUgAAAKoAAABGCAYAAABc8A97AAAAOXRFWHRTb2Z0d2FyZQBNYXRwbG90bGliIHZlcnNpb24zLjguMCwgaHR0cHM6Ly9tYXRwbG90bGliLm9yZy81sbWrAAAACXBIWXMAAA9hAAAPYQGoP6dpAAACm0lEQVR4nO3YMVPiQBiH8XcPZRbwdg3MYGdrcTNXWNJf64e1vc6CT2BLZeMwIoYBiSDmupu5OU9NIkf+zPOreTdbPEk2uDzPDai7L7veAPARB+/9wDnXMrNmyfVXeZ4vS84Cv70ZqnOu1ev1LkIISZnFZ7PZ1Dl3Sayo6r0najOEkAwGg2WMMSuycJqmfjgcJpPJpGlmhIpK3n31m5nFGLN+v/9YYv1WiRngL3xMQQKhQgKhQgKhQgKhQgKhQgKhQgKhQgKhQgKhQgKhQgKhQgKhQgKhQgKhQgKhQgKhQgKhQgKhQgKhQgKhQgKhQgKhQgKhQgKhQgKhQgKhQgKhQgKhQgKhQgKhQgKhQgKhQgKhQgKhQgKhQgKhQgKhQgKhQgKhQgKhQgKhQgKhQgKhQgKhQgKhQgKhQgKhQgKhQgKhQgKhQsLBrjfwFudcy8yaJcdXeZ4vP3M/2J3ahuqca/V6vYsQQlJmfjabTZ1zl8S6H2obqpk1QwjJYDBYxhizIoNpmvrhcJhMJpOmmRHqHqhzqGZmFmPM+v3+Y4nR1qdvBjtT+1B3hfNxvRDqKzgf1w+hvo7zcc1sNdTNZnNoZsE5V2Y8vLy8HH7ylgrhfFwfWwt1sVgcrtfr76enp41Go1HoqWRmtl6v/Waz+ZZl2ZWZlYkFe2Rroa5WqwPvffv8/Dw7OTmZFp2/ublJrq+v28/Pz41t7A9atn5G7XQ6pV6f0+m00utT/diBP+3lx9Sujx0Vb5JKf23t699qHwo1TVNfdOH5fO7NzBaLhR+Px+3/OX9/f3/kvW+fnZ254+Pjp6LXvru786PRqJ2maWc8Hq+KzN7e3n6tcpM8PDzMnXM/zazwrJn5brf7I8Z4VGK26rWresrz/J/X/QVGbObO6upOhwAAAABJRU5ErkJggg==\"></img></td>\n",
       "      <td id=\"T_bbb62_row9_col5\" class=\"data row9 col5\" >260<br>(6.3%)</td>\n",
       "    </tr>\n",
       "    <tr>\n",
       "      <td id=\"T_bbb62_row10_col0\" class=\"data row10 col0\" >11</td>\n",
       "      <td id=\"T_bbb62_row10_col1\" class=\"data row10 col1\" ><strong>RFCD.Code.4</strong><br>[float64]</td>\n",
       "      <td id=\"T_bbb62_row10_col2\" class=\"data row10 col2\" >Mean (sd) : 6835.2 (45889.1)<br>min < med < max:<br>0.0 < 0.0 < 440105.0<br>IQR (CV) : 0.0 (0.1)</td>\n",
       "      <td id=\"T_bbb62_row10_col3\" class=\"data row10 col3\" >75 distinct values</td>\n",
       "      <td id=\"T_bbb62_row10_col4\" class=\"data row10 col4\" ><img src = \"data:image/png;base64, iVBORw0KGgoAAAANSUhEUgAAAKoAAABGCAYAAABc8A97AAAAOXRFWHRTb2Z0d2FyZQBNYXRwbG90bGliIHZlcnNpb24zLjguMCwgaHR0cHM6Ly9tYXRwbG90bGliLm9yZy81sbWrAAAACXBIWXMAAA9hAAAPYQGoP6dpAAABsUlEQVR4nO3XQUrDQBSH8fdCDQmEGdpCL+AtunfrYd267y08QrFTrK2VOO4EEW0zQeofv986780sPhLiOWcD/rrq0hcAzjE59YC7t2ZWF+4/5pz3hbPAhx9Ddfd2Pp/fhhCmJcu32+2ju98RK8Y69UatQwjT5XK5jzEehixOKTWr1Wq6Xq9rMyNUjHLy029mFmM8LBaL54L9bcEM8AU/U5BAqJBAqJBAqJBAqJBAqJBAqJBAqJBAqJBAqJBAqJBAqJBAqJBAqJBAqJBAqJBAqJBAqJBAqJBAqJBAqJBAqJBAqJBAqJBAqJBAqJBAqJBAqJBAqJBAqJBAqJBAqJBAqJBAqJBAqJBAqJBAqJBAqJBAqJBAqJBAqJBAqJBAqJBAqJBAqJBAqJBAqJBAqJBAqJBAqJBAqJBAqJBAqJBAqJBAqJBAqJBAqJBAqJBAqJBAqJBAqJBAqJAwufQF8Jm7t2ZWj1hRmdlb4ewx57wfcfavOSvUlFIzdHFKqen7fmJmwd0HX+yfamaz2U2MsSsZ7vv+arfbXXdd91BV1evQ+c1m8+Tu92Z2KDl/pJec87fnvgMLbkIqtmup8AAAAABJRU5ErkJggg==\"></img></td>\n",
       "      <td id=\"T_bbb62_row10_col5\" class=\"data row10 col5\" >260<br>(6.3%)</td>\n",
       "    </tr>\n",
       "    <tr>\n",
       "      <td id=\"T_bbb62_row11_col0\" class=\"data row11 col0\" >12</td>\n",
       "      <td id=\"T_bbb62_row11_col1\" class=\"data row11 col1\" ><strong>RFCD.Percentage.4</strong><br>[float64]</td>\n",
       "      <td id=\"T_bbb62_row11_col2\" class=\"data row11 col2\" >Mean (sd) : 0.4 (3.2)<br>min < med < max:<br>0.0 < 0.0 < 70.0<br>IQR (CV) : 0.0 (0.1)</td>\n",
       "      <td id=\"T_bbb62_row11_col3\" class=\"data row11 col3\" >11 distinct values</td>\n",
       "      <td id=\"T_bbb62_row11_col4\" class=\"data row11 col4\" ><img src = \"data:image/png;base64, iVBORw0KGgoAAAANSUhEUgAAAKoAAABGCAYAAABc8A97AAAAOXRFWHRTb2Z0d2FyZQBNYXRwbG90bGliIHZlcnNpb24zLjguMCwgaHR0cHM6Ly9tYXRwbG90bGliLm9yZy81sbWrAAAACXBIWXMAAA9hAAAPYQGoP6dpAAABlklEQVR4nO3XwYoaURCG0bpBRCF0o8I8zOxnm4fNNnvfRmJLiJMBudllEzKOPSHmh3PWXUVBf7TYeu8F/7sP9z4A3mJx7YHW2rqqljP3v/TezzNn4ZdXQ22trXe73adhGDZzlp9Op6+ttc9i5b2ufVGXwzBsHh8fz+M4Pt+yeJqm1X6/3xwOh2VVCZV3ufrTX1U1juPzw8PD9xn71zNm4Df+TBFBqEQQKhGESgShEkGoRBAqEYRKBKESQahEECoRhEoEoRJBqEQQKhGESgShEkGoRBAqEYRKBKESQahEECoRhEoEoRJBqEQQKhGESgShEkGoRBAqEYRKBKESQahEECoRhEoEoRJBqEQQKhGESgShEkGoRBAqEYRKBKESQahEECoRhEoEoRJBqEQQKhGESgShEkGoRBAqEYRKBKESQahEECoRhEoEoRJBqERY3PuA17TW1lW1nDn+0ns//817uJ83hTpN0+rWxdM0rS6Xy6KqhtbazYdV1Wq73T6N4/hxzvDxePzWWvtSVc9z5vnnfvTe//iufgInJzkqCtQ0dgAAAABJRU5ErkJggg==\"></img></td>\n",
       "      <td id=\"T_bbb62_row11_col5\" class=\"data row11 col5\" >260<br>(6.3%)</td>\n",
       "    </tr>\n",
       "    <tr>\n",
       "      <td id=\"T_bbb62_row12_col0\" class=\"data row12 col0\" >13</td>\n",
       "      <td id=\"T_bbb62_row12_col1\" class=\"data row12 col1\" ><strong>RFCD.Code.5</strong><br>[float64]</td>\n",
       "      <td id=\"T_bbb62_row12_col2\" class=\"data row12 col2\" >Mean (sd) : 1768.0 (23598.3)<br>min < med < max:<br>0.0 < 0.0 < 419999.0<br>IQR (CV) : 0.0 (0.1)</td>\n",
       "      <td id=\"T_bbb62_row12_col3\" class=\"data row12 col3\" >20 distinct values</td>\n",
       "      <td id=\"T_bbb62_row12_col4\" class=\"data row12 col4\" ><img src = \"data:image/png;base64, iVBORw0KGgoAAAANSUhEUgAAAKoAAABGCAYAAABc8A97AAAAOXRFWHRTb2Z0d2FyZQBNYXRwbG90bGliIHZlcnNpb24zLjguMCwgaHR0cHM6Ly9tYXRwbG90bGliLm9yZy81sbWrAAAACXBIWXMAAA9hAAAPYQGoP6dpAAABaUlEQVR4nO3XT2oCMRiH4aSI6GYGETyMh+hhewhvIyUuqi1Iuuum1D/jov3R59km+cjiZYbU3nuBv+7pty8At5hd21BrXZZS5hPnf/TejxPPwpeLodZal+v1+nkYhtWU4YfD4bXW+iJWHnXtizofhmG13W6P4zie7hncWlvsdrvVfr+fl1KEykOu/vpLKWUcx9Nms3mbMH854Qx84zFFBKESQahEECoRhEoEoRJBqEQQKhGESgShEkGoRBAqEYRKBKESQahEECoRhEoEoRJBqEQQKhGESgShEkGoRBAqEYRKBKESQahEECoRhEoEoRJBqEQQKhGESgShEkGoRBAqEYRKBKESQahEECoRhEoEoRJBqEQQKhGESgShEkGoRBAqEYRKBKESQahEECoRhEoEoRJBqEQQKhGESgShEkGoRBAqEYRKBKESQahEmN2yqbW2uHdwa21xPp9npZSh1nr3xfh33nvvp58WPwF79y3yrjldnwAAAABJRU5ErkJggg==\"></img></td>\n",
       "      <td id=\"T_bbb62_row12_col5\" class=\"data row12 col5\" >260<br>(6.3%)</td>\n",
       "    </tr>\n",
       "    <tr>\n",
       "      <td id=\"T_bbb62_row13_col0\" class=\"data row13 col0\" >14</td>\n",
       "      <td id=\"T_bbb62_row13_col1\" class=\"data row13 col1\" ><strong>RFCD.Percentage.5</strong><br>[float64]</td>\n",
       "      <td id=\"T_bbb62_row13_col2\" class=\"data row13 col2\" >1. 0.0<br>2. nan<br>3. 20.0<br>4. 10.0<br>5. 40.0<br>6. 30.0<br>7. 25.0<br>8. 35.0<br>9. 15.0</td>\n",
       "      <td id=\"T_bbb62_row13_col3\" class=\"data row13 col3\" >3,831 (93.1%)<br>260 (6.3%)<br>10 (0.2%)<br>4 (0.1%)<br>3 (0.1%)<br>2 (0.0%)<br>1 (0.0%)<br>1 (0.0%)<br>1 (0.0%)</td>\n",
       "      <td id=\"T_bbb62_row13_col4\" class=\"data row13 col4\" ><img src = \"data:image/png;base64, iVBORw0KGgoAAAANSUhEUgAAAJsAAADPCAYAAADifqNtAAAAOXRFWHRTb2Z0d2FyZQBNYXRwbG90bGliIHZlcnNpb24zLjguMCwgaHR0cHM6Ly9tYXRwbG90bGliLm9yZy81sbWrAAAACXBIWXMAAA9hAAAPYQGoP6dpAAADEElEQVR4nO3cPWobURhG4W+MyU8jYQxeQrIHLyKLzSK0iOzBGE+Rv0YpQjpDRiQ+Isrz1FPc4uDLiHm9HI/HgcLVuQ/A/0NsZMRGRmxkxEZGbGTERmaZmbcz8+rcB+Gf9f14PH7Z8uD17e3th91ud/PSJ+Iyrev6uCzLxy3BXe92u5v7+/sv+/3+a3E4LsfT09Obw+Fw8/Dw8Gpmfh/bzMx+v/96d3f3+cVPxyV6u/VBLwhkxEZGbGTERkZsZMRGRmxkxEZGbGTERkZsZMRGRmxkrmd+fipy7oPw7zm1m+t1XR8Ph8PNnPCpCPyyruvjzHzf8qzPwvlTmz8LX/yvDyqn/GXbXDA8Z/Pg5ZRhAzxn0+Dl1GEDPOeUwYu3Vf6IH3XJiI2M2MiIjYzYyIiNjNjIiI2M2MiIjYzYyIiNjNjIbBq8GMTwN2wevJwybIDn+CycjMELGS8IZMRG5mpZlvfLsnjb5MVdzcy7mXl97oNw+VyjZMRGRmxkxEZGbGTERkZsZMRGRmxkxEZGbGTERkZsZMRGRmxkrmbm08x8O/dBuHwGL2Rco2TERsbghYzBCxnXKBmxkREbGbGRERsZsZERGxmxkREbGbGRERsZsZERGxmxkREbGYMXMgYvZFyjZMRGxuCFjMELGdcoGbGRERsZsZERGxmxkREbGbGRERsZsZERGxmxkREbGbGRERsZsZGxriJjXUXGNUpGbGSsq8hYV5FxjZIRGxmxkREbGbGRERsZsZERGxmxkREbGbGRERsZsZERGxmxkTF4IWPwQsY1SkZsZAxeyBi8kHGNkhEbGbGRERsZsZERGxmxkREbGbGRERsZsZERGxmxkREbGbGRERsZ6yoy1lVkXKNkxEbGuoqMdRUZ1ygZsZERGxmxkREbGbGRERsZsZERGxmxkREbGbGRERsZsZERGxmDFzIGL2Rco2TERsbghYzBCxnXKBmxkREbGbGRERsZsZERGxmxkREbGbGRERsZsZERGxmxkREbGbGRsa4iY11FxjVKRmxkxEZGbGTERkZsZMRG5gf3jZN0hs2NOgAAAABJRU5ErkJggg==\"></img></td>\n",
       "      <td id=\"T_bbb62_row13_col5\" class=\"data row13 col5\" >260<br>(6.3%)</td>\n",
       "    </tr>\n",
       "    <tr>\n",
       "      <td id=\"T_bbb62_row14_col0\" class=\"data row14 col0\" >15</td>\n",
       "      <td id=\"T_bbb62_row14_col1\" class=\"data row14 col1\" ><strong>SEO.Code.1</strong><br>[float64]</td>\n",
       "      <td id=\"T_bbb62_row14_col2\" class=\"data row14 col2\" >Mean (sd) : 729027.7 (34662.1)<br>min < med < max:<br>610102.0 < 730110.0 < 999999.0<br>IQR (CV) : 10197.0 (21.0)</td>\n",
       "      <td id=\"T_bbb62_row14_col3\" class=\"data row14 col3\" >341 distinct values</td>\n",
       "      <td id=\"T_bbb62_row14_col4\" class=\"data row14 col4\" ><img src = \"data:image/png;base64, iVBORw0KGgoAAAANSUhEUgAAAKoAAABGCAYAAABc8A97AAAAOXRFWHRTb2Z0d2FyZQBNYXRwbG90bGliIHZlcnNpb24zLjguMCwgaHR0cHM6Ly9tYXRwbG90bGliLm9yZy81sbWrAAAACXBIWXMAAA9hAAAPYQGoP6dpAAACd0lEQVR4nO3aPY7aQByG8f+EDxmQZmQhQccFIqWg5BB72D1CCk7ADeiQkGUEiwMYp4qUYrOLPwh+l+fXz0fxyMOMcEVRGNB23x69AeAW3Udv4F6ccwMz69eY4lQUxbGp/aCeLxmqc24wHo9fvPdx1Tl2u13inHsl1nb4kqGaWd97Hy8Wi2MIISs7OE3TaLlcxtvttm9mhNoCXzVUMzMLIWSTyeSt4vBBo5tBLVymIIFQIYFQIYFQIYFQIYFQIYFQIYFQIYFQIYFQIYFQIYFQIYFQIYFQIYFQIYFQIYFQIYFQIYFQIYFQIYFQIYFQIYFQIYFQIYFQIYFQIYFQIYFQIYFQIYFQIYFQIYFQIYFQIYFQIYFQIYFQIYFQIYFQIYFQIYFQIYFQIYFQIYFQIYFQIYFQIYFQIYFQIYFQIYFQIYFQIYFQIaH76A20VZ7nPTPzzrkqw09FURwb3tJTI9R3HA6H3vl8/jGbzTqdTicrO3632yXOuVdibQ6hvuN0OnWjKBrO5/NsOp0mZcamaRotl8t4u932zYxQG0KoHxiNRtlkMnmrMHTQ+GaeHJcpSLjrF9U5NzCzfo0puJTAzO4YqnNuMB6PX7z3cdU5uJTgj3t+Ufve+3ixWBxDCKVvzlxK8LdPQ61xfPvr9doLISQVLySW57m3am+Z/nq99qqsiXb6MNQ6x/f5fI7yPP+eZdlPMysdap23zLpro30++6JWPr7X63W8Wq2Gl8ulU2Vjdd4y666N9rnpN2oIofR7YpIkjbwlVnnLbGpttMdNoaZpGpWdeL/fR2Zmh8Mh2mw2w/85/pFrp2ka5Xneter/E3hWv4qi+Oep/RtgD+B9QbSpsgAAAABJRU5ErkJggg==\"></img></td>\n",
       "      <td id=\"T_bbb62_row14_col5\" class=\"data row14 col5\" >276<br>(6.7%)</td>\n",
       "    </tr>\n",
       "    <tr>\n",
       "      <td id=\"T_bbb62_row15_col0\" class=\"data row15 col0\" >16</td>\n",
       "      <td id=\"T_bbb62_row15_col1\" class=\"data row15 col1\" ><strong>SEO.Percentage.1</strong><br>[float64]</td>\n",
       "      <td id=\"T_bbb62_row15_col2\" class=\"data row15 col2\" >Mean (sd) : 70.6 (26.9)<br>min < med < max:<br>5.0 < 70.0 < 100.0<br>IQR (CV) : 50.0 (2.6)</td>\n",
       "      <td id=\"T_bbb62_row15_col3\" class=\"data row15 col3\" >24 distinct values</td>\n",
       "      <td id=\"T_bbb62_row15_col4\" class=\"data row15 col4\" ><img src = \"data:image/png;base64, iVBORw0KGgoAAAANSUhEUgAAAKoAAABGCAYAAABc8A97AAAAOXRFWHRTb2Z0d2FyZQBNYXRwbG90bGliIHZlcnNpb24zLjguMCwgaHR0cHM6Ly9tYXRwbG90bGliLm9yZy81sbWrAAAACXBIWXMAAA9hAAAPYQGoP6dpAAACr0lEQVR4nO3cu27iQBiG4X+WEMxBJigSdLQUK21ByUXsxe4lpKDYmjYVHUqCjCBhMYet0gGJPbbwN3qfNhnFll6N4vF43Ol0MqDqftz6AoDvuLv1BSAczrmmmd3nHL47nU4fl35IqCiEc675+Pj4O47jXp7xq9Vq6Zz7cylWQkVR7uM47k0mk49ut7vNMjBJkmg6nfZeX1/vzYxQUb5ut7vt9/vvOYY2r/2QhylIIFRIIFRIIFRIIFRIIFRIIFRIIFRIIFRIIFRIIFRIIFRIIFRIIFRIIFRIIFRIIFRIIFRIIFRIIFRIIFRIIFRIIFRIIFRIIFRIIFRIIFRIIFRI4JC0C8o86xPZEeoZZZ/1iewI9bxSz/pEdoR6RVlnfSI7HqYggVAhgVAhgVAhgVAhgVAhgVAhgVAhgVAhgVAhgVAhIdh3/Z7b9OLj8Vgv8nrgJ8hQfbfppWkaHQ6Hn9vt9snM8mxKQcGCDNU8tumZmc3n895sNmvt9/taGReH7EIN1czyb9NbLpds06sYHqYgIegZ9VYOh0PdzGLnXJ7hfG91BqEWbLPZ1NM0/TUcDmu1Wi3z/8d8b3UeoRZst9vdRVHUGo/H28FgsMwylu+tLiPUkrTbbb63KhAPU5DAjBqYUA/OINSAhHxwRqVD9ZgdZN/Vey5txZ1Opz+ZTFahHZxR2VB9ZgfVd/W+S1uf991oNJ5Ce5CrbKjm8b5e9V29z9KWme59f0eVQzWzfO/r1d/V513aUr/va1iegoRSZ1Q2L6MopYXK5mU9visOZU4sX4bqs0SUd6nELOwHgyoqasWhrInlaqhFLBGlafrXzDLf+KfNZhMtFotWljHr9TrKO9Z3/K3G+o5/e3vrRFHUGo1G7uHh4V/Wv/3y8hI9Pz+3kiRpLxaLXZaxSZJEX/3Of91KZlMBfYgoAAAAAElFTkSuQmCC\"></img></td>\n",
       "      <td id=\"T_bbb62_row15_col5\" class=\"data row15 col5\" >276<br>(6.7%)</td>\n",
       "    </tr>\n",
       "    <tr>\n",
       "      <td id=\"T_bbb62_row16_col0\" class=\"data row16 col0\" >17</td>\n",
       "      <td id=\"T_bbb62_row16_col1\" class=\"data row16 col1\" ><strong>SEO.Code.2</strong><br>[float64]</td>\n",
       "      <td id=\"T_bbb62_row16_col2\" class=\"data row16 col2\" >Mean (sd) : 443260.5 (356778.4)<br>min < med < max:<br>0.0 < 730101.0 < 780199.0<br>IQR (CV) : 730211.0 (1.2)</td>\n",
       "      <td id=\"T_bbb62_row16_col3\" class=\"data row16 col3\" >308 distinct values</td>\n",
       "      <td id=\"T_bbb62_row16_col4\" class=\"data row16 col4\" ><img src = \"data:image/png;base64, iVBORw0KGgoAAAANSUhEUgAAAKoAAABGCAYAAABc8A97AAAAOXRFWHRTb2Z0d2FyZQBNYXRwbG90bGliIHZlcnNpb24zLjguMCwgaHR0cHM6Ly9tYXRwbG90bGliLm9yZy81sbWrAAAACXBIWXMAAA9hAAAPYQGoP6dpAAAB9ElEQVR4nO3dQWrCQBiG4X9aK1FKhih4id7Afbc9bI/QhYuuvYE7UWREa6jGdCW0C3USDfZr32cbRmfxIowZ+F1Zlgb8dne33gAQo3XrDeDvcM51zKxdc/lnWZabYw8JFVfhnOv0+/2XNE2zOuuXy+XCOfd6LFZCxbW00zTNhsPhxnufV1kYQkhGo1E2n8/bZkaoaJ73Ph8MBh81lnZOPeQwBQmECgmECgmECgmECgmECgmECgmECgmECgmECgmECgmECglnL6U0eccQiHUy1KbvGAKxzv2iNnrHEIgVdR+1qTuGQCwOU5BAqJBAqJBAqJBAqJBAqJBAqJBAqJBAqJBAqJBAqJBAqJBAqJBAqJBAqJBAqJBAqJBAqJBAqJBAqJBAqJBAqJBAqJBAqJBAqJBAqJBAqJBAqJBAqJBAqJBAqJBAqJBAqJBAqJBAqJBAqJAQNWwC/8OFM8XS/X7/cM39fEeoMLPLZ4ptt9ukKIqnPM/fzKzOBJ2TCBUHtWeKmZlNJpNsPB53d7vdfRObI1T8UHem2GKxaHSmGIcpSCBUSCBUSCBUSCBUSCBUSODvqT/mgrdLjb5ZulRUqCGEpOoHhxCSoihaZpY65ypvDLUkvV7v2Xv/WHXh4c3SbDZ7r/PFq9UqMTNbr9fJdDrtVlkb09cXF+N91JHN+lUAAAAASUVORK5CYII=\"></img></td>\n",
       "      <td id=\"T_bbb62_row16_col5\" class=\"data row16 col5\" >276<br>(6.7%)</td>\n",
       "    </tr>\n",
       "    <tr>\n",
       "      <td id=\"T_bbb62_row17_col0\" class=\"data row17 col0\" >18</td>\n",
       "      <td id=\"T_bbb62_row17_col1\" class=\"data row17 col1\" ><strong>SEO.Percentage.2</strong><br>[float64]</td>\n",
       "      <td id=\"T_bbb62_row17_col2\" class=\"data row17 col2\" >Mean (sd) : 21.2 (20.1)<br>min < med < max:<br>0.0 < 20.0 < 90.0<br>IQR (CV) : 40.0 (1.1)</td>\n",
       "      <td id=\"T_bbb62_row17_col3\" class=\"data row17 col3\" >21 distinct values</td>\n",
       "      <td id=\"T_bbb62_row17_col4\" class=\"data row17 col4\" ><img src = \"data:image/png;base64, iVBORw0KGgoAAAANSUhEUgAAAKoAAABGCAYAAABc8A97AAAAOXRFWHRTb2Z0d2FyZQBNYXRwbG90bGliIHZlcnNpb24zLjguMCwgaHR0cHM6Ly9tYXRwbG90bGliLm9yZy81sbWrAAAACXBIWXMAAA9hAAAPYQGoP6dpAAACjklEQVR4nO3dv27aUBiG8fdAiMyfGiEk2Fg6VurAyEX0Yrt268AVsHZiQUgIjHBDMcYdqlZFTQP4YPCHnt+c43h4RM7JifK5LMsElF3l3i8AnOPp1Bc45+qSnnM+f5dl2UvOtcAfb4bqnKt3u91PYRh28jx8vV4vnXOfiRW+Tn2iPodh2BmNRi/tdnt7yYOjKArG43FnsVg8SyJUeDn5o1+S2u32ttfrfc/x/HqONcA/OEzBBEKFCYQKEwgVJhAqTCBUmECoMIFQYQKhwgRChQmEChMIFSYQKkwgVJhAqDCBUGECocIEQoUJhAoTCBUmECpMIFSYQKgwgVBhAqHCBEKFCYQKEwgVJhAqTCBUmECoMIFQYQKhwgRChQmEChPO+h/+FnmOHZIYPVQqDxmq79ghidFDZfOQocpj7JDkP3qIIXLX96ihSvIaOyTlHD3EELliPHSod8IQuQIQakEYInddpQ7VY68XHg6H2rXfB/dT2lB99npJkgRpmn7YbrdfJeXdo6JEShuqPPZ60+m0M5lMGvv9vlrUy+G2yhyqpHx7veVyyT7vwXCFChNK/4l6L2ma1iSFzrlLl3KQKwChviKO41qSJB8Hg0G1Wq1etD/mIFcMQn3Fbrd7CoKgMRwOt/1+f3nJWg5yxSDUNzSbTQ5yJcFhCiYQKkwgVJhAqDCBUGECocIEQoUJhf4e1eMaUuIqEn8pLFSfa0iJq0gcKyxUn2tIiatIHCv8CjXPNaTEVSSOcZiCCfxRSsl4HkClXx8+hzuslQr85xlnhRpFUXDpgzebTSBJcRwH8/m8ccv1Vr/3bDZ753MATdO0Fsfx+1ar9a1SqSS3WvvbarXaOOe+SLr43SX9yLLsv+t+AlF/KSUgBE4FAAAAAElFTkSuQmCC\"></img></td>\n",
       "      <td id=\"T_bbb62_row17_col5\" class=\"data row17 col5\" >276<br>(6.7%)</td>\n",
       "    </tr>\n",
       "    <tr>\n",
       "      <td id=\"T_bbb62_row18_col0\" class=\"data row18 col0\" >19</td>\n",
       "      <td id=\"T_bbb62_row18_col1\" class=\"data row18 col1\" ><strong>SEO.Code.3</strong><br>[float64]</td>\n",
       "      <td id=\"T_bbb62_row18_col2\" class=\"data row18 col2\" >Mean (sd) : 233810.5 (340800.4)<br>min < med < max:<br>0.0 < 0.0 < 780199.0<br>IQR (CV) : 730102.0 (0.7)</td>\n",
       "      <td id=\"T_bbb62_row18_col3\" class=\"data row18 col3\" >246 distinct values</td>\n",
       "      <td id=\"T_bbb62_row18_col4\" class=\"data row18 col4\" ><img src = \"data:image/png;base64, iVBORw0KGgoAAAANSUhEUgAAAKoAAABGCAYAAABc8A97AAAAOXRFWHRTb2Z0d2FyZQBNYXRwbG90bGliIHZlcnNpb24zLjguMCwgaHR0cHM6Ly9tYXRwbG90bGliLm9yZy81sbWrAAAACXBIWXMAAA9hAAAPYQGoP6dpAAAB9ElEQVR4nO3dT2rCQBiH4W/6R6KUDCp4id7Afbc9bI/QhYuuvYE7UWREa6jGdKW0FDSZJLS/8j5rZ5zFS5yAw7iiKAz4625+ewFAGXfXPuCc65pZJ3L+j6IodpFjgbOLoTrnusPh8DlN037M5Ov1euWceyFW1HXtidpJ07Q/Ho933vusysQhhGQymfSXy2XHzAgVtVz96Tcz895no9HoPWL+bsQY4AdepiCBUCGBUCGBUCGBUCGBUCGBUCGBUCGBUCGBUCGBUCGBUCGBUCGBUCGBUCGBUCGBUCGBUCGBUCGBUCGBUCGBUCGBUCGBUCGBUCGBUCGBUCGBUCGBUCGBUCGBUCGBUCGBUCGBUCGBUCGBUCGBUCGh1K0oQBltXp5HqGhE25fnESqa0urleYSKRrV1eR4vU5BAqJBAqJBAqJBAqJBAqJBAqJBAqJBAqJBAqJBAqJBAqJBAqJBAqJBAqJBAqJBAqJDAP/xxVvNwXno8Hu+bXM9XhAozq384b7/fJ3meP2ZZ9mpmMUdRLiJUnEQfzjMzm81m/el02jscDrdtLI5Q8U3s4bzVanXxcF5dhPrP1NhntrrHrKtUqCGEpOrEIYQkz/M7M0udc5UXhijJYDB48t4/VB142mMuFou3mC/ebDaJmdl2u03m83mvytgyfX0CzAZ91IaUapkAAAAASUVORK5CYII=\"></img></td>\n",
       "      <td id=\"T_bbb62_row18_col5\" class=\"data row18 col5\" >276<br>(6.7%)</td>\n",
       "    </tr>\n",
       "    <tr>\n",
       "      <td id=\"T_bbb62_row19_col0\" class=\"data row19 col0\" >20</td>\n",
       "      <td id=\"T_bbb62_row19_col1\" class=\"data row19 col1\" ><strong>SEO.Percentage.3</strong><br>[float64]</td>\n",
       "      <td id=\"T_bbb62_row19_col2\" class=\"data row19 col2\" >Mean (sd) : 7.3 (12.0)<br>min < med < max:<br>0.0 < 0.0 < 80.0<br>IQR (CV) : 15.0 (0.6)</td>\n",
       "      <td id=\"T_bbb62_row19_col3\" class=\"data row19 col3\" >20 distinct values</td>\n",
       "      <td id=\"T_bbb62_row19_col4\" class=\"data row19 col4\" ><img src = \"data:image/png;base64, iVBORw0KGgoAAAANSUhEUgAAAKoAAABGCAYAAABc8A97AAAAOXRFWHRTb2Z0d2FyZQBNYXRwbG90bGliIHZlcnNpb24zLjguMCwgaHR0cHM6Ly9tYXRwbG90bGliLm9yZy81sbWrAAAACXBIWXMAAA9hAAAPYQGoP6dpAAACiklEQVR4nO3ZMW/aQBiH8fcgIAPpWRYSbCwdK3XIyIfIh83arQOfIGunLBESAiMcXBzjLk2Wqkk4Q/AfPb+Z987DI+4MrqoqA5qude4HAD7i6r0POOd6ZtYNXH9XVdU2cBZ49WaozrnecDi89d4nIYuv1+ulc+6OWFHXe9+oXe99Mp1Ot3Ec54csnKZpNJvNksVi0TUzQkUt7x79ZmZxHOej0egpYP1ewAzwD16mIIFQIYFQIYFQIYFQIYFQIYFQIYFQIYFQIYFQIYFQIYFQIYFQIYFQIYFQIYFQIYFQIYFQIYFQIYFQIYFQIYFQIYFQIYFQIYFQIYFQIYFQIYFQIYFQIYFQIYFQIYFQIYFQIYFQIYFQIYFQIYFQIYFQIYFQIYFQIYFQIYFQIYFQIYFQIYFQIYFQIYFQIYFQIYFQIYFQIYFQIeHq3A/wFudcz8y6geO7qqq2x3wenE9jQ3XO9YbD4a33PgmZX6/XS+fcHbFehsaGamZd730ynU63cRznhwymaRrNZrNksVh0zYxQL0CTQzUzsziO89Fo9HToXFmW3sy8cy50a64ODdL4UENkWdYpiuL7ZDJpt9vtg76NX3B1aJaLDHW3211FUdS/ubnJx+Px8tB5rg7Nc9JQy7LsWPjx6/f7fafO/oPBIOja8Fevzt44rpOFWvf4LYoiKsvyW57nP80sNDZciJOFWvf4fXh4SO7v7/vPz8/tUzwftJz8jhp6/C6XS45evOIvVEi4yLf+Y6j5Itgys33g1nVmzS70998PhZqmaXTowpvNJjIzy7Isms/n/c+cr7v34+Pjl9AXwbIsO1mWfb2+vv7VarWKz5p9sVqtNs65H2YW9PvxGf2uquq/z/wH/VrZpt8C9mcAAAAASUVORK5CYII=\"></img></td>\n",
       "      <td id=\"T_bbb62_row19_col5\" class=\"data row19 col5\" >276<br>(6.7%)</td>\n",
       "    </tr>\n",
       "    <tr>\n",
       "      <td id=\"T_bbb62_row20_col0\" class=\"data row20 col0\" >21</td>\n",
       "      <td id=\"T_bbb62_row20_col1\" class=\"data row20 col1\" ><strong>SEO.Code.4</strong><br>[float64]</td>\n",
       "      <td id=\"T_bbb62_row20_col2\" class=\"data row20 col2\" >Mean (sd) : 32557.9 (149974.4)<br>min < med < max:<br>0.0 < 0.0 < 780108.0<br>IQR (CV) : 0.0 (0.2)</td>\n",
       "      <td id=\"T_bbb62_row20_col3\" class=\"data row20 col3\" >64 distinct values</td>\n",
       "      <td id=\"T_bbb62_row20_col4\" class=\"data row20 col4\" ><img src = \"data:image/png;base64, iVBORw0KGgoAAAANSUhEUgAAAKoAAABGCAYAAABc8A97AAAAOXRFWHRTb2Z0d2FyZQBNYXRwbG90bGliIHZlcnNpb24zLjguMCwgaHR0cHM6Ly9tYXRwbG90bGliLm9yZy81sbWrAAAACXBIWXMAAA9hAAAPYQGoP6dpAAABwUlEQVR4nO3XQWqDQBSH8fdKEIUwgxFyid7Afbc9bA7honeRMi6aUJHpqtmUNnFS2v7L99vqe7r4GNFzzgb8dXe//QLANTaXbnD3xsyqwv2vOedj4Sxw9mWo7t50XfcYQmhLlk/T9OzuB2LFrS6dqFUIoe37/hhjPK1ZnFKqh2Fox3GszIxQcZOLn34zsxjjab/fvxTsbwpmgA/4mYIEQoUEQoUEQoUEQoUEQoUEQoUEQoUEQoUEQoUEQoUEQoUEQoUEQoUEQoUEQoUEQoUEQoUEQoUEQoUEQoUEQoUEQoUEQoUEQoUEQoUEQoUEQoUEQoUEQoUEQoUEQoUEQoUEQoUEQoUEQoUEQoUEQoUEQoUEQoUEQoUEQoUEQoUEQoUEQoUEQoUEQoUEQoUEQoUEQoUEQoUEQoUEQoUEQoUEQoUEQoUEQoUEQoUEQoUEQoWEzW+/AP4Pd2/MrCocf805Hz+7SKj4Fu7edF33GEJoS+anaXp298NnsRIqzm48EcN2u933fT/FGE9rBlNK9TAM7TiOlZmVh5pSqtc8+H1mWZaNmQV3XzuOn1fvdruHGOO2ZHie53pZlvt5np/MbFWo13gDfjRO8Xwkw2YAAAAASUVORK5CYII=\"></img></td>\n",
       "      <td id=\"T_bbb62_row20_col5\" class=\"data row20 col5\" >276<br>(6.7%)</td>\n",
       "    </tr>\n",
       "    <tr>\n",
       "      <td id=\"T_bbb62_row21_col0\" class=\"data row21 col0\" >22</td>\n",
       "      <td id=\"T_bbb62_row21_col1\" class=\"data row21 col1\" ><strong>SEO.Percentage.4</strong><br>[float64]</td>\n",
       "      <td id=\"T_bbb62_row21_col2\" class=\"data row21 col2\" >1. 0.0<br>2. nan<br>3. 10.0<br>4. 20.0<br>5. 25.0<br>6. 5.0<br>7. 30.0<br>8. 15.0<br>9. 40.0</td>\n",
       "      <td id=\"T_bbb62_row21_col3\" class=\"data row21 col3\" >3,664 (89.1%)<br>276 (6.7%)<br>64 (1.6%)<br>44 (1.1%)<br>27 (0.7%)<br>20 (0.5%)<br>8 (0.2%)<br>7 (0.2%)<br>3 (0.1%)</td>\n",
       "      <td id=\"T_bbb62_row21_col4\" class=\"data row21 col4\" ><img src = \"data:image/png;base64, iVBORw0KGgoAAAANSUhEUgAAAJsAAADPCAYAAADifqNtAAAAOXRFWHRTb2Z0d2FyZQBNYXRwbG90bGliIHZlcnNpb24zLjguMCwgaHR0cHM6Ly9tYXRwbG90bGliLm9yZy81sbWrAAAACXBIWXMAAA9hAAAPYQGoP6dpAAADZklEQVR4nO3dsW0bdxyG4R8JwrEaEgQBj5B0GkBDeNgMwQFUZgdBEIvIdsMUcYKUcki+NKjnGYD4Fy/ufIf75MXxeBwoLK99AN4PsZERGxmxkREbGbGRERuZxczczcyHax+En9634/H4esoPrHa73ef1er0914m4TYfD4XmxWPx+SnCr9Xq9fXh4eN1sNl/OeThux8vLy8f9fr99enr6MDP/P7aZmc1m8+XTp09/nu103KK7U3/AAwIZsZERGxmxkREbGbGRERsZsZERGxmxkREbGbGRERuZ1czfn5Bc+yD8vM7Vx+pwODzv9/vtnOETEm7X4XB4nplvp/yGz8J5q5M/C1/4Wx9UfuTKdnLZvG9vHrycY/DA+/amwcu5Bg+8bz8yePG0ykm81CUjNjJiIyM2MmIjIzYyYiMjNjJiIyM2MmIjIzYyYiPzpsGLQQzn8ObByzkGD7xvPgsnY/BCxgMCmf/eRt0muah/11XWU1zacr1eb+/v7+f7nM8ynotZzszc3d19vfZBuH0eEMiIjYzYyIiNjNjIiI2M2MiIjYzYyIiNjNjIiI2M2MgsZ2ZeX19/ufZBuH3Lw+Hw/Pj4aD3FxfksnIx1FRlXNjIGL2QMXsgYvJDxUpeM2MiIjYzYyIiNjNjIiI2M2MiIjYzYyIiNjNjIiI2MwQsZgxcyPgsnY/BC5p8r27iqcWmr3W73eWbG2IVLW67X662xCwXv2ciIjYzYyIiNjNjIiI2M2MiIjYzYyIiNjNjIiI2M2MiIjYzYyIiNzOr7qmrGsooLs0EgY11FxpWNjHUVGesqMl59kBEbGbGRERsZsZERGxmxkREbGbGRERsZsZERGxmxkREbGbGRMXgh47NwMgYvZPybjcxysVj8tlgsPl77INy+5cz8OjP+c1suzm2UjNjIiI2M2MiIjYzYyIiNjNjIiI2M2MiIjYzYyIiNjNjIiI2M2MgsZ+aPmfl67YNw+wxeyLiNkhEbGesqMtZVZNxGyYiNjNjIiI2M2MiIjYzYyIiNjNjIiI2M2MiIjYzYyIiNjNjIGLyQMXgh4zZKRmxkDF7IGLyQcRslIzYyYiMjNjJiIyM2MmIjIzYyYiMjNjJiIyM2MmIjIzYyYiMjNjLWVWSsq8i4jZIRGxmxkREbGbGRERsZsZH5C/De9cKA9KgJAAAAAElFTkSuQmCC\"></img></td>\n",
       "      <td id=\"T_bbb62_row21_col5\" class=\"data row21 col5\" >276<br>(6.7%)</td>\n",
       "    </tr>\n",
       "    <tr>\n",
       "      <td id=\"T_bbb62_row22_col0\" class=\"data row22 col0\" >23</td>\n",
       "      <td id=\"T_bbb62_row22_col1\" class=\"data row22 col1\" ><strong>SEO.Code.5</strong><br>[float64]</td>\n",
       "      <td id=\"T_bbb62_row22_col2\" class=\"data row22 col2\" >Mean (sd) : 9602.6 (82817.7)<br>min < med < max:<br>0.0 < 0.0 < 780105.0<br>IQR (CV) : 0.0 (0.1)</td>\n",
       "      <td id=\"T_bbb62_row22_col3\" class=\"data row22 col3\" >28 distinct values</td>\n",
       "      <td id=\"T_bbb62_row22_col4\" class=\"data row22 col4\" ><img src = \"data:image/png;base64, iVBORw0KGgoAAAANSUhEUgAAAKoAAABGCAYAAABc8A97AAAAOXRFWHRTb2Z0d2FyZQBNYXRwbG90bGliIHZlcnNpb24zLjguMCwgaHR0cHM6Ly9tYXRwbG90bGliLm9yZy81sbWrAAAACXBIWXMAAA9hAAAPYQGoP6dpAAABiElEQVR4nO3XQWrbUBSG0XeLMTYUCdvgxXjeaRebRXg3JkiDOgTM66yTkDpWBulfzplK9+oNPiRUvfcG/7pvX30A+IjVvRuqattaWy/c/9p7vy6chT/+GmpVbQ+Hw89hGHZLls/z/FxVT2Lls+69UdfDMOxOp9N1HMeXRxZP07Q5n8+7y+Wybq0JlU+5++lvrbVxHF+Ox+OvBfu3C2bgDT9TRBAqEYRKBKESQahEECoRhEoEoRJBqEQQKhGESgShEkGoRBAqEYRKBKESQahEECoRhEoEoRJBqEQQKhGESgShEkGoRBAqEYRKBKESQahEECoRhEoEoRJBqEQQKhGESgShEkGoRBAqEYRKBKESQahEECoRhEoEoRJBqEQQKhGESgShEkGoRBAqEYRKBKESQahEECoRhEoEoRJBqEQQKhGESgShEkGoRBAqEVZffQD+H1W1ba2tF46/9t6v7138UKjTNG0efeo0TZvb7bZqrQ1V9eg4eTb7/f7HOI7flwzP8/xcVU/vxfob+a03MHU2LOMAAAAASUVORK5CYII=\"></img></td>\n",
       "      <td id=\"T_bbb62_row22_col5\" class=\"data row22 col5\" >276<br>(6.7%)</td>\n",
       "    </tr>\n",
       "    <tr>\n",
       "      <td id=\"T_bbb62_row23_col0\" class=\"data row23 col0\" >24</td>\n",
       "      <td id=\"T_bbb62_row23_col1\" class=\"data row23 col1\" ><strong>SEO.Percentage.5</strong><br>[float64]</td>\n",
       "      <td id=\"T_bbb62_row23_col2\" class=\"data row23 col2\" >1. 0.0<br>2. nan<br>3. 20.0<br>4. 10.0<br>5. 5.0<br>6. 25.0<br>7. 30.0<br>8. 50.0</td>\n",
       "      <td id=\"T_bbb62_row23_col3\" class=\"data row23 col3\" >3,786 (92.0%)<br>276 (6.7%)<br>18 (0.4%)<br>14 (0.3%)<br>10 (0.2%)<br>4 (0.1%)<br>3 (0.1%)<br>2 (0.0%)</td>\n",
       "      <td id=\"T_bbb62_row23_col4\" class=\"data row23 col4\" ><img src = \"data:image/png;base64, iVBORw0KGgoAAAANSUhEUgAAAJsAAAC4CAYAAAD0WZ4UAAAAOXRFWHRTb2Z0d2FyZQBNYXRwbG90bGliIHZlcnNpb24zLjguMCwgaHR0cHM6Ly9tYXRwbG90bGliLm9yZy81sbWrAAAACXBIWXMAAA9hAAAPYQGoP6dpAAAC8klEQVR4nO3dMW5aaRhG4e8ilJk0IITkJczswYvIYrMIFpE9WJYpkkwapkjSuIIkHBTyPDXFXxzxA7qvvZxOp4HC6tYH4M8hNjJiIyM2MmIjIzYyy8y8nZk3tz4Iv6Uvp9Pp07kvXu/3+3ebzWZ3zRNxn47H4/OyLO/PDW692Wx2j4+Pn7bb7edrH4778fLy8vfhcNg9PT29mZnzYpuZ2W63nx8eHj5e9XTco7eXvNgXBDJiIyM2MmIjIzYyYiMjNjJiIyM2MmIjIzYyYiMjNjLrma+Pi9z6IPxefqSZ9fF4fD4cDru58HEROB6PzzPz5dzXeyycn3HRY+GLP79A5ZJ3tosqhtfOHrxcOm6A184avPzIuAFeu2Tw4tsqP8WPumTERkZsZMRGRmxkxEZGbGTERkZsZMRGRmxkxEZGbGTOGrwYxPArnD14uXTcAK95LJyMwQsZXxDIfL9GxxXJta33+/27mRnLKa5ttdlsdt+mfFbxXJXPbGTERkZsZMRGRmxkxEZGbGTERkZsZMRGRmxkxEZGbGTERkZsZNbfVlMzllNcmcfCyVhXkfHORsbghYzBCxk/fZARGxmxkREbGbGRERsZsZERGxmxkREbGbGRERsZsZERGxmxkTF4IeOxcDIGL2R8ZiMjNjKrZVn+XZbFP6/l6lYz88/M/HXrg3D/XKNkxEZGbGTERkZsZMRGRmxkxEZGbGTERkZsZMRGRmxkxEZGbGRWM/NhZv679UG4fwYvZFyjZMRGxuCFjMELGdcoGbGRERsZsZERGxmxkREbGbGRERsZsZERGxmxkREbGbGRERsZsZGxriJjXUXGNUpGbGSsq8hYV5FxjZIRGxmxkREbGbGRERsZsZERGxmxkREbGbGRERsZsZERGxmxkTF4IWPwQsY1SkZsZAxeyBi8kHGNkhEbGbGRERsZsZERGxmxkREbGbGRERsZsZERGxmxkREbGbGRERsZ6yoy1lVkXKNkxEZGbGTERkZsZMRG5n960a55pG50GwAAAABJRU5ErkJggg==\"></img></td>\n",
       "      <td id=\"T_bbb62_row23_col5\" class=\"data row23 col5\" >276<br>(6.7%)</td>\n",
       "    </tr>\n",
       "    <tr>\n",
       "      <td id=\"T_bbb62_row24_col0\" class=\"data row24 col0\" >25</td>\n",
       "      <td id=\"T_bbb62_row24_col1\" class=\"data row24 col1\" ><strong>Person.ID.1</strong><br>[float64]</td>\n",
       "      <td id=\"T_bbb62_row24_col2\" class=\"data row24 col2\" >Mean (sd) : 171788.4 (254226.4)<br>min < med < max:<br>362.0 < 71234.5 < 1145967.0<br>IQR (CV) : 93137.5 (0.7)</td>\n",
       "      <td id=\"T_bbb62_row24_col3\" class=\"data row24 col3\" >1,669 distinct values</td>\n",
       "      <td id=\"T_bbb62_row24_col4\" class=\"data row24 col4\" ><img src = \"data:image/png;base64, iVBORw0KGgoAAAANSUhEUgAAAKoAAABGCAYAAABc8A97AAAAOXRFWHRTb2Z0d2FyZQBNYXRwbG90bGliIHZlcnNpb24zLjguMCwgaHR0cHM6Ly9tYXRwbG90bGliLm9yZy81sbWrAAAACXBIWXMAAA9hAAAPYQGoP6dpAAACwElEQVR4nO3Xv07bUBiG8e8kkJ78qZ2QYDaWDhmQOkRiyQV05GK5BaQMLCwMXTJULAhhIkeYpLFcd0FdqhZsE5EXPb853znGeuTDcUVRGLDrGu/9AMBr7L30A+dc28xaFdffFEWxqjgL/PHfUJ1z7eFweBYEwaDK4svlcuGcOydW1PXSF7UVBMFgOp2uwjBcl1k4SRI/m80GcRy3zIxQUcuLR7+ZWRiG6yiKniqs364wA/yFyxQkECokECokECokECokECokECokECokECokECokECokECokECokECokECokECokECokECokECokECokECokECokECokECokECokECokECokECokECokECokECokECokECokECokECokECokECokECokECokECokECokECokECokECokECokECokECokECokECokECokECokECokECokECokECokECokECok7G1z8TzP980scM5VXWJTFMXqDR8JorYWapqm+1mWfT0+Pm42m811lTWWy+XCOXdOrNhaqJvNZs9735lMJuujo6NF2fkkSfxsNhvEcdwyM6lQnXNtM2tVHG+Y2a8a23/IU2irR7+ZWbfbXUdR9FRxvP2mD1NCjdj8wcHBtzAMu2UH8zzfT9P0S6/XmzcajazC3h/2FNp6qIqcc+3hcHgWBMGg7GyWZd7MTk5PTy9Ho9GyzOzNzc3g+vr6cDKZfK96Cl1cXERxHI+cc6X2frazX/OdDrXmZazOSw96vV40nU6XYRiW+v/6ObaO9z4re5IsFou2WfVTqM69YNe/5q8KNUkSX3bhx8dHb2aWpqm/u7vrlJ2/vb39/F4vPcsyn+f5SZZll2ZW6SJY5e+u+84eHh563vvOeDx2/X7/Z5nZ+/t7P5/PD8fj8Y9+v/9Ydu/VavXp6urqsMbX/GdRFP98178BfDT4BKC7/VAAAAAASUVORK5CYII=\"></img></td>\n",
       "      <td id=\"T_bbb62_row24_col5\" class=\"data row24 col5\" >287<br>(7.0%)</td>\n",
       "    </tr>\n",
       "    <tr>\n",
       "      <td id=\"T_bbb62_row25_col0\" class=\"data row25 col0\" >26</td>\n",
       "      <td id=\"T_bbb62_row25_col1\" class=\"data row25 col1\" ><strong>Role.1</strong><br>[object]</td>\n",
       "      <td id=\"T_bbb62_row25_col2\" class=\"data row25 col2\" >1. CHIEF_INVESTIGATOR<br>2. EXT_CHIEF_INVESTIGATOR<br>3. PRINCIPAL_SUPERVISOR<br>4. nan<br>5. DELEGATED_RESEARCHER<br>6. STUD_CHIEF_INVESTIGATOR<br>7. HONVISIT<br>8. EXTERNAL_ADVISOR</td>\n",
       "      <td id=\"T_bbb62_row25_col3\" class=\"data row25 col3\" >3,640 (88.5%)<br>230 (5.6%)<br>144 (3.5%)<br>46 (1.1%)<br>36 (0.9%)<br>10 (0.2%)<br>6 (0.1%)<br>1 (0.0%)</td>\n",
       "      <td id=\"T_bbb62_row25_col4\" class=\"data row25 col4\" ><img src = \"data:image/png;base64, iVBORw0KGgoAAAANSUhEUgAAAJsAAAC4CAYAAAD0WZ4UAAAAOXRFWHRTb2Z0d2FyZQBNYXRwbG90bGliIHZlcnNpb24zLjguMCwgaHR0cHM6Ly9tYXRwbG90bGliLm9yZy81sbWrAAAACXBIWXMAAA9hAAAPYQGoP6dpAAADP0lEQVR4nO3dQUobYRzG4f8MwTabCSHgEdpdDuAhPGwPkQO47B0kOItG3aSL2lJQMZBv3kjyPAcI3+JHPkfm1W6/3xck9Kc+AJdDbMSIjRixESM2YsRGTFdV86q6OvVB+NSe9/v97tgPma1Wq9thGJYtTsR5Gsdx23Xdj2ODmw3DsLy5udktFovHVofjfDw8PHzdbDbL+/v7q6o6LraqqsVi8Xh9ff2ryek4R/MWH+IBgRixESM2YsRGjNiIERsxYiNGbMSIjRixESM2YsRGjNiImVX9eY3k1Afhc2rZxmwcx+1ms1lWo9dIOD/jOG6r6vnYz/FaOIdo8lp4588vkHLoN1uTsrlsBw1eWg0euGwfDl5aDh64bIcOXjypcjS/1CVGbMSIjRixESM2YsRGjNiIERsxYiNGbMSIjRixESM2Yj4cvBjD0MpBg5dWgwcum9fCiTF4IcYDAjHvXaOuTZp7c11lTcUUXq2rrKmYynvrKmsqmvOAQIzYiBEbMWIjRmzEiI0YsREjNmLERozYiBEbMWIjRmzEvFpXWVMxlTfXVdZUTMFr4cRYVxHz/zebbzMm9W/wYuTC1PphGJbr9bpeFlb+FSST6auq5vP506kPwvnzS11ixEaM2IgRGzFiI0ZsxIiNGLERIzZixEaM2IgRGzFiI6avqtrtdl9OfRDOXz+O4/bu7s7Ihcl5LZwYgxdiPCAQ8/caLVcoU5utVqvbqirLKqbWD8OwtKwiwc9sxIiNGLERIzZixEaM2IgRGzFiI0ZsxIiNGLERIzZixEaM2IgRGzGzl1VVlWUVE/NaODHWVcT4mY2Yvuu6713X+R+jTK6vqm9V5W99MDnXKDFiI0ZsxIiNGLERIzZixEaM2IgRGzFiI0ZsxIiNGLERIzZixEaM2Ijpq+pnVT2d+iCcP4MXYlyjxIiNGOsqYqyriHGNEiM2YsRGjNiIERsxYiNGbMSIjRixESM2YsRGjNiIERsxYiNGbMQYvBBj8EKMa5QYsRFj8EKMwQsxrlFixEaM2IgRGzFiI0ZsxIiNGLERIzZixEaM2IgRGzFiI0ZsxIiNGLERY11FjHUVMa5RYsRGjNiIERsxYiNGbMT8BqPy70y+E6NDAAAAAElFTkSuQmCC\"></img></td>\n",
       "      <td id=\"T_bbb62_row25_col5\" class=\"data row25 col5\" >46<br>(1.1%)</td>\n",
       "    </tr>\n",
       "    <tr>\n",
       "      <td id=\"T_bbb62_row26_col0\" class=\"data row26 col0\" >27</td>\n",
       "      <td id=\"T_bbb62_row26_col1\" class=\"data row26 col1\" ><strong>Year.of.Birth.1</strong><br>[float64]</td>\n",
       "      <td id=\"T_bbb62_row26_col2\" class=\"data row26 col2\" >Mean (sd) : 1962.7 (9.4)<br>min < med < max:<br>1930.0 < 1965.0 < 1985.0<br>IQR (CV) : 15.0 (208.3)</td>\n",
       "      <td id=\"T_bbb62_row26_col3\" class=\"data row26 col3\" >12 distinct values</td>\n",
       "      <td id=\"T_bbb62_row26_col4\" class=\"data row26 col4\" ><img src = \"data:image/png;base64, iVBORw0KGgoAAAANSUhEUgAAAKoAAABGCAYAAABc8A97AAAAOXRFWHRTb2Z0d2FyZQBNYXRwbG90bGliIHZlcnNpb24zLjguMCwgaHR0cHM6Ly9tYXRwbG90bGliLm9yZy81sbWrAAAACXBIWXMAAA9hAAAPYQGoP6dpAAACiUlEQVR4nO3dMY7aQBSA4TdhQQYkWwgJOi4QKQUlh8hhc4QUFKm5AR0CISO8a2GMUyXKSpvdYM+E90b/V6/ZKX4h2zzNuKZpBNDu06MXAPyLp0cvAK8554YiMujwEZemaV58rUcLQlXEOTecTqdf0zSdtP2M0+l0dM59iy1WQtVlkKbpZLVavWRZVt57cZ7nyXq9nhwOh4GIECrCyrKsnM1mzy0vH3pdjBKEGkCH+8z0drv1fa8nBoTqWZf7zKqqkrquP5dl+V1E2n6jRolQ/Wt9n7ndbiebzWZ0vV57oRZnFaEG0uY+83g8Rnl/6QMv/GECocIEQoUJhAoTCBUm8NQfmbqu+yKSOufaXK52oIVQI1IURb+qqi+LxaLX6/XunhXQPNBCqBG5XC5PSZKMlstlOZ/Pj/dcq32ghVAjNB6P2w61qP3BgYcpmECoMIFQYQKhwgRChQk89f8FU/q6EOobmNLXh1DfxpS+MoT6Dqb09SBU/NZxoEUk4FALoUJEug+0iIQdaiFUiEi3gRaR8EMthIpXOgy0iAQcauGFP0wgVJhAqDCBUGECocIEQoUJhAoTon2P2vHQBkb1lIky1K6HNjCqp0+UoUrHQxsY1dMn1lBFpP2hDYzq6cPDFEwgVJhAqDCBUGECocIEQoUJhAoTCBUmECpMIFSYoPonVDYqwy9qQ2WjMvxJbajCRmXmhDzjSnOoIsJGZVaEPuNKfaiwIfQZV4QKr0KdccXrKZhAqDCBUGECocIEQoUJQZ/62QQCvgQLlU0g4FPIb1Q2gYA3wV/4swkEfPgwVEbtoMG7ofoYtdvv9z/aLOx8PiciIkVRJLvdbvS/rn3k/7a67q7X53mefPQ3PwHziIwdhC4GVgAAAABJRU5ErkJggg==\"></img></td>\n",
       "      <td id=\"T_bbb62_row26_col5\" class=\"data row26 col5\" >288<br>(7.0%)</td>\n",
       "    </tr>\n",
       "    <tr>\n",
       "      <td id=\"T_bbb62_row27_col0\" class=\"data row27 col0\" >28</td>\n",
       "      <td id=\"T_bbb62_row27_col1\" class=\"data row27 col1\" ><strong>Country.of.Birth.1</strong><br>[object]</td>\n",
       "      <td id=\"T_bbb62_row27_col2\" class=\"data row27 col2\" >1. Australia<br>2. nan<br>3. Great Britain<br>4. Western Europe<br>5. Asia Pacific<br>6. North America<br>7. Eastern Europe<br>8. Middle East and Africa<br>9. The Americas<br>10. New Zealand<br>11. other</td>\n",
       "      <td id=\"T_bbb62_row27_col3\" class=\"data row27 col3\" >2,530 (61.5%)<br>666 (16.2%)<br>304 (7.4%)<br>158 (3.8%)<br>149 (3.6%)<br>121 (2.9%)<br>60 (1.5%)<br>40 (1.0%)<br>32 (0.8%)<br>31 (0.8%)<br>22 (0.5%)</td>\n",
       "      <td id=\"T_bbb62_row27_col4\" class=\"data row27 col4\" ><img src = \"data:image/png;base64, iVBORw0KGgoAAAANSUhEUgAAAJsAAAD+CAYAAAAtWHdlAAAAOXRFWHRTb2Z0d2FyZQBNYXRwbG90bGliIHZlcnNpb24zLjguMCwgaHR0cHM6Ly9tYXRwbG90bGliLm9yZy81sbWrAAAACXBIWXMAAA9hAAAPYQGoP6dpAAAEF0lEQVR4nO3cUWobVwCG0Ssh0vplhBB4GV6AF5HFdhFagPdhjPVQp3lRH5qUQuQQx5pPJXPOCi7m88ga7u/V6XQaUFhf+wAsh9jIiI2M2MiIjYzYyIiNjNjIiI3MaoxxM8b4cO2DLNTn0+n0cu1DVDb7/f7jNE27ax9kiY7H49NqtfpjKcFtpmna3d/fv2y320/XPsySPD8//344HHaPj48fxhjLiG2MMbbb7afb29s/r32YBbq59gFKviCQERsZsZERGxmxkREbGbGRERsZsZERGxmxkREbGbGRERuZzRj/3K269kGWZok/883xeHw6HA67sbC7Vf8Hx+PxaYzx+drnqNggXNeiNggr/zKLSvVkW9RvMOcl66qlrYg4b/Z11RJXRJxXrat808VLXTpiIyM2MmIjIzYyYiMjNjJiIyM2MmIjIzYyYiMjNjKzD16WOOzgvGTwsrRhB+e5Fk7G4IXMW59snlD8tDcNXgxXeI8fHrwYrvBebx28GK7w07zUJSM2MmIjIzYyYiMjNjJiIyM2MmIjIzYyYiMjNjJiI/PDgxfDFd7rTYMXwxXew7VwMgYvZHxBIPO9j1EfmVzUq+sqSyou7ey6ypKKOXxvXWVJxUX5gkBGbGTERkZsZMRGRmxkxEZGbGTERkZsZMRGRmxkxEbm7LrKkoo5vLqusqTi0lwLJ2NdRcaTjYzBCxmDFzIGL2S81CUjNjJiIyM2MmIjIzYyYiMjNjJiIyM2MmIjIzYyYiNj8ELG4IWMa+FkDF7IvPZk81Tj4s4OXoxdmMM3gxdjF+by2uDF2IWL81KXjNjIiI2M2MiIjYzYyIiNjNjIiI2M2MiIjYzYyIiNjNjIfLOusqxiLmfXVZZVzMEGgYx1FZn/Ptk8zZjVv+sqiyrmtp6maXd3dze+zPnOLePhItZjjHFzc/PXtQ/Cr89LXTJiIyM2MmIjIzYyYiMjNjJiIyM2MmIjIzYyYiMjNjLrMcZ4eXn57doH4de3Ph6PTw8PD0YuzM61cDIGL2Q82cgYvJAxeCFj8ELGS10yYiMjNjJiIyM2MmIjIzYyYiMjNjJiIyM2MmIjIzYyBi9kDF7IuBZOxuCFjC8IZL5+jA4focxts9/vP44xhmUVc1tP07SzrKLgbzYyYiMjNjJiIyM2MmIjIzYyYiMjNjJiIyM2MmIjIzYyYiMjNjKbL6uqMSyrmJlr4WSsq8h4spExeCFj8ELGqw8yYiMjNjJiIyM2MmIjIzYyYiMjNjJiIyM2MmIjIzYyYiMjNjIGL2RcCydj8ELGk42MwQsZgxcyXn2QERsZsZERGxmxkREbGbGRERsZsZERGxmxkREbGbGRERsZsZExeCHjWjgZgxcy/mYjIzYyYiMjNjJiIyM2MmIjIzYyYiPzN31m0QNMrRPBAAAAAElFTkSuQmCC\"></img></td>\n",
       "      <td id=\"T_bbb62_row27_col5\" class=\"data row27 col5\" >666<br>(16.2%)</td>\n",
       "    </tr>\n",
       "    <tr>\n",
       "      <td id=\"T_bbb62_row28_col0\" class=\"data row28 col0\" >29</td>\n",
       "      <td id=\"T_bbb62_row28_col1\" class=\"data row28 col1\" ><strong>Home.Language.1</strong><br>[object]</td>\n",
       "      <td id=\"T_bbb62_row28_col2\" class=\"data row28 col2\" >1. nan<br>2. English<br>3. Other</td>\n",
       "      <td id=\"T_bbb62_row28_col3\" class=\"data row28 col3\" >3,719 (90.4%)<br>316 (7.7%)<br>78 (1.9%)</td>\n",
       "      <td id=\"T_bbb62_row28_col4\" class=\"data row28 col4\" ><img src = \"data:image/png;base64, iVBORw0KGgoAAAANSUhEUgAAAJsAAABFCAYAAABdVZTTAAAAOXRFWHRTb2Z0d2FyZQBNYXRwbG90bGliIHZlcnNpb24zLjguMCwgaHR0cHM6Ly9tYXRwbG90bGliLm9yZy81sbWrAAAACXBIWXMAAA9hAAAPYQGoP6dpAAABoUlEQVR4nO3dMW7acBjG4c8RipoFCyFxGB+ih+0hfBuE8FCiLO7QtGq62Y5fWvw8G4Ol//ATyMgvNOM4FiQ83fsAbEdTVS9V9Xzvg/DfeBvH8Tbnwt3xePy63+8Pn30iHtMwDJemab7NCW633+8PXdfd2rZ9XeNwPI7r9fql7/vD+Xx+rqrpsVVVtW37ejqdvn/66XhEL3MvdINAjNiIERsxYiNGbMSIjRixESM2YsRGjNiIERsxYiNGbMSIjZhd1c/nlO59EP59SzvZDcNw6fv+UAueU2I7hmG4VNXbnGttEJhq9gahMeUjZc472+yy2bbJ66ol6xq2bdK6aum6hm2bs65y18osvtQlRmzEiI0YsREjNmLERozYiBEbMWIjRmzEiI0YsREjNmLERsykdZUVFktMXlctWdewbTYIxFhXEeMGgZi/P0Z9RLKaD1M+Mz3W9PRrytd13e09Oj/FwCp+T/neX5vpsRo3CMSIjRixESM2YsRGjNiIERsxYiNGbMSIjRixESM2YsRGjNiI8UdpxPw55TPTY1U2CMSY8hHzA+Nelus7IIhrAAAAAElFTkSuQmCC\"></img></td>\n",
       "      <td id=\"T_bbb62_row28_col5\" class=\"data row28 col5\" >3,719<br>(90.4%)</td>\n",
       "    </tr>\n",
       "    <tr>\n",
       "      <td id=\"T_bbb62_row29_col0\" class=\"data row29 col0\" >30</td>\n",
       "      <td id=\"T_bbb62_row29_col1\" class=\"data row29 col1\" ><strong>Dept.No..1</strong><br>[float64]</td>\n",
       "      <td id=\"T_bbb62_row29_col2\" class=\"data row29 col2\" >Mean (sd) : 2440.7 (740.1)<br>min < med < max:<br>28.0 < 2653.0 < 4418.0<br>IQR (CV) : 515.0 (3.3)</td>\n",
       "      <td id=\"T_bbb62_row29_col3\" class=\"data row29 col3\" >97 distinct values</td>\n",
       "      <td id=\"T_bbb62_row29_col4\" class=\"data row29 col4\" ><img src = \"data:image/png;base64, iVBORw0KGgoAAAANSUhEUgAAAKoAAABGCAYAAABc8A97AAAAOXRFWHRTb2Z0d2FyZQBNYXRwbG90bGliIHZlcnNpb24zLjguMCwgaHR0cHM6Ly9tYXRwbG90bGliLm9yZy81sbWrAAAACXBIWXMAAA9hAAAPYQGoP6dpAAACsklEQVR4nO3dvY7aQBSG4TOwIC8gI0QCHU3KSCkouYhc7F5CkCi23iJNqu1WWMgWDggDTpE/pdkEjx38mffpB0boFbLHlo7L89yAumtdewPAv7i79gbwJ+fcvZl1PT7ikOf5rqz91AWh1ohz7n48Hn8Mw3BU9DOSJNk45x6aFiuh1ks3DMPRYrHYDYfD/aWL4zgOVqvVKIqirpkRKqo1HA73k8nka8Hl96Vupia4mYIEQoUEQoUEQoUEbqYq4HEWGp7P507Z+2kCQi2Zz1lolmXB6XR6v9/vP5lZ0bv+RiLU8hU+C31+fh49PT31jsdju6rNqSLUihQ5C91sNo08Ay0DN1OQQKiQQKiQQKiQQKiQQKiQQKiQQKiQQKiQQKiQQKiQQKiQQKiQQKiQQKiQQKiQQKiQQKiQQKiQQKiQQKiQQKiQQKiQQKiQQKiQQKiQQKiQQKiQQKiQQKiQQKiQQKiQQKiQQKiQQKiQQKiQQKiQQKiQwPiehjmdTh0zC51zRZYf8jzflbylUhBqg6Rp2smy7MNsNmu32+2LhrGZmSVJsnHOPdQxVkJtkMPhcBcEQW8+n++n0+nmkrVxHAer1WoURVHXzAgV1ev3+xdPDfyhtpMDKw3VY8ryTy0zOxdc63W9xYToeqksVJ8py2bfbwrSNH03GAy+tFqt7NL1PtdbTIiunyr/UQtPWTb7NWn57Xw+/3yF6y0mRNdM5deoRaYsm/2etHzN6y0mRNcHB/6QQKiQQKiQQKiQQKiQQKiQ0NhHqJ5vEd3k0yXP38yswrevGhmq71tEt/h0yfc3M6v27au/hqr4zNvnLSKz23y65PubxXEcLJfLSRRFb5xzSZEtvBb4q6GW8cx7vV4/XrrWzGy73QZmZmmaBi8vL70ia335fPf/XlvWdxe12+0qfRf2G4suV3H0GgpVAAAAAElFTkSuQmCC\"></img></td>\n",
       "      <td id=\"T_bbb62_row29_col5\" class=\"data row29 col5\" >448<br>(10.9%)</td>\n",
       "    </tr>\n",
       "    <tr>\n",
       "      <td id=\"T_bbb62_row30_col0\" class=\"data row30 col0\" >31</td>\n",
       "      <td id=\"T_bbb62_row30_col1\" class=\"data row30 col1\" ><strong>Faculty.No..1</strong><br>[float64]</td>\n",
       "      <td id=\"T_bbb62_row30_col2\" class=\"data row30 col2\" >Mean (sd) : 23.8 (11.3)<br>min < med < max:<br>1.0 < 25.0 < 187.0<br>IQR (CV) : 0.0 (2.1)</td>\n",
       "      <td id=\"T_bbb62_row30_col3\" class=\"data row30 col3\" >18 distinct values</td>\n",
       "      <td id=\"T_bbb62_row30_col4\" class=\"data row30 col4\" ><img src = \"data:image/png;base64, iVBORw0KGgoAAAANSUhEUgAAAKoAAABGCAYAAABc8A97AAAAOXRFWHRTb2Z0d2FyZQBNYXRwbG90bGliIHZlcnNpb24zLjguMCwgaHR0cHM6Ly9tYXRwbG90bGliLm9yZy81sbWrAAAACXBIWXMAAA9hAAAPYQGoP6dpAAACEElEQVR4nO3dMY7aUBRG4XtDIAZFNoiEkpYiUhbAIrLYWUIKWhp2QIdkLFs4ZsaYlwVEyWADYv7J+fr7eMWRkSVL10MIBrx1Hx59AeASH+95uLsPzWxwxREvIYTqVveBrruF6u7D6XT6I47jSdcziqLI3P2JWHHPJ+ogjuPJcrmskiQ5th3O8zxarVaTNE0HZkao/7m7/vWbmSVJcpzNZr86jg9vehnI4mUKEggVEggVEggVEggVEggVEggVEggVEggVEggVEggVEggVEggVEggVEggVEggVEggVEggVEggVEggVEggVEggVEggVEggVEggVEggVEggVEggVEggVEggVEggVEggVEggVEggVEggVEggVEggVEggVEggVEggVEggVEggVEggVEl7dhXrFKvP4fD73O8wBf/hnqNesMq/rOmqa5tvxePxpZl2X9gJm9voTtfMq8+12O9lsNqPT6dS74n6AmV24Br3LKvMsy1hhjpvhZQoSCBUSCBUSCBUSCBUSCBUSCBUSCBUSCBUSCBUSCBUSCBUSCBUSCBUSLvrM71GapumbWezuXcZfQgjVja+EB3mzoZZl2a/r+vt8Pu/1er1WH22bmRVFkbn7E7G+DxeFmud51Pbgw+EQmZmVZRntdrtR2/n9fv85iqLRYrHw8Xj83Ga2qqpP6/X6a5qmX9y9aPvbeIjnEMJfH0i/ATivdWalFdS4AAAAAElFTkSuQmCC\"></img></td>\n",
       "      <td id=\"T_bbb62_row30_col5\" class=\"data row30 col5\" >449<br>(10.9%)</td>\n",
       "    </tr>\n",
       "    <tr>\n",
       "      <td id=\"T_bbb62_row31_col0\" class=\"data row31 col0\" >32</td>\n",
       "      <td id=\"T_bbb62_row31_col1\" class=\"data row31 col1\" ><strong>With.PHD.1</strong><br>[object]</td>\n",
       "      <td id=\"T_bbb62_row31_col2\" class=\"data row31 col2\" >1. Yes <br>2. nan</td>\n",
       "      <td id=\"T_bbb62_row31_col3\" class=\"data row31 col3\" >2,332 (56.7%)<br>1,781 (43.3%)</td>\n",
       "      <td id=\"T_bbb62_row31_col4\" class=\"data row31 col4\" ><img src = \"data:image/png;base64, iVBORw0KGgoAAAANSUhEUgAAAJsAAAAuCAYAAAA/ZmtKAAAAOXRFWHRTb2Z0d2FyZQBNYXRwbG90bGliIHZlcnNpb24zLjguMCwgaHR0cHM6Ly9tYXRwbG90bGliLm9yZy81sbWrAAAACXBIWXMAAA9hAAAPYQGoP6dpAAABNklEQVR4nO3bQWqDQByF8TdFQrMZEcHDeIgetoeY24g4iyZkM13URTzAvBH7/U7wRz6EBF8opQhwCJLukm6tD7mwVynl0fqIM+jGcfyKMQ6tD7mqnPMaQvgmOKmLMQ7zPD/6vn+2PuZqtm37TCkNy7LcJBGbJPV9/5ym6af1MRd1b33AWXy0PgD/B7HBhthgQ2ywITbYEBtsiA02xAYbYoMNscGG2GBDbLAhNtgQG2yIDTad9PeRX+tDrojnetTlnNeU0iA+8qsi57xKerW+4wwYvNTH4GUXmPLBhTfbEW+hipjyvWF2VxdTvh2zu/qY8h3xi7wi/tSFDbHBhthgQ2ywITbYEBtsiA02xAYbYoMNscGG2GBDbLAhNtgQG2yIDTZM+XY8g/qY8r1hdlcXg5cjBi8V/QIKW2rfxJVRAgAAAABJRU5ErkJggg==\"></img></td>\n",
       "      <td id=\"T_bbb62_row31_col5\" class=\"data row31 col5\" >1,781<br>(43.3%)</td>\n",
       "    </tr>\n",
       "    <tr>\n",
       "      <td id=\"T_bbb62_row32_col0\" class=\"data row32 col0\" >33</td>\n",
       "      <td id=\"T_bbb62_row32_col1\" class=\"data row32 col1\" ><strong>No..of.Years.in.Uni.at.Time.of.Grant.1</strong><br>[object]</td>\n",
       "      <td id=\"T_bbb62_row32_col2\" class=\"data row32 col2\" >1. >=0 to 5<br>2. nan<br>3. >5 to 10<br>4. Less than 0<br>5. >10 to 15<br>6. more than 15</td>\n",
       "      <td id=\"T_bbb62_row32_col3\" class=\"data row32 col3\" >1,337 (32.5%)<br>759 (18.5%)<br>739 (18.0%)<br>496 (12.1%)<br>418 (10.2%)<br>364 (8.8%)</td>\n",
       "      <td id=\"T_bbb62_row32_col4\" class=\"data row32 col4\" ><img src = \"data:image/png;base64, iVBORw0KGgoAAAANSUhEUgAAAJsAAACKCAYAAAC96ziyAAAAOXRFWHRTb2Z0d2FyZQBNYXRwbG90bGliIHZlcnNpb24zLjguMCwgaHR0cHM6Ly9tYXRwbG90bGliLm9yZy81sbWrAAAACXBIWXMAAA9hAAAPYQGoP6dpAAAClklEQVR4nO3bQWrbUABF0e9iQjuxMYEsJovoYrsI7yaEaNCWTtxBx0ljS1wl6JwV/MHlCwm93eVyGVD4svYB2A6xkREbGbGR2Y0xvo0x7tY+yAL+XC6XX2sfgtft7+/vvx8Oh9PaB5lrmqbn3W73Q3Af1/5wOJweHx9/HY/H32sf5lYvLy9fz+fz6enp6W6MIbYPaj/GGMfj8ffDw8PPtQ8z07e1D8DbvCCQERsZsZERGxmxkREbGbGRERsZsZERGxmxkREbGbGR2Y/x7xedtQ8yx2c//1bsp2l6Pp/Pp/HJf9GZpul5jPFn7XPwOr+Fk9kZKVNZ62ZzC23QKoMX45Rtygcvxinbtdbg5VO/+XIbH3XJiI2M2MiIjYzYyIiNjNjIiI2M2MiIjYzYyIiNjNjIiI1Mvq6yhNquVdZVllDbZINAxrqKzBo3m1tto/J1lWXVdqXrKsuqbVtjXWVZtVE+6pIRGxmxkREbGbGRERsZsZERGxmxkREbGbGRERsZsZERG5l0XWVZtW35usqyartsEMhYV5FZ+mZza/GqRddVllO8ZbF1leUU/7P0uspyilf5qEtGbGTERkZsZMRGRmxkxEZGbGTERkZsZMRGRmxkxEZmscGLMQv/s+jgxZiFt/gtnIzBCxkvCGSWeIx6dPIus9dVFlW816x1lUUV11hiXWVRxbt4QSAjNjJiIyM2MmIjIzYyYiMjNjJiIyM2MmIjIzYyYiMza11lUcU1Zq+rLKp4L7+Fk7GuIjPnZnOjcZWbBy+GLlzrpsGLoQu3mDN4MXThKj7qkhEbGbGRERsZsZERGxmxkREbGbGRERsZsZERGxmxkREbmZvWVVZV3OLmdZVVFdeyQSBjXUXGCwIZsZERG5m/401DpgXjoD8AAAAASUVORK5CYII=\"></img></td>\n",
       "      <td id=\"T_bbb62_row32_col5\" class=\"data row32 col5\" >759<br>(18.5%)</td>\n",
       "    </tr>\n",
       "    <tr>\n",
       "      <td id=\"T_bbb62_row33_col0\" class=\"data row33 col0\" >34</td>\n",
       "      <td id=\"T_bbb62_row33_col1\" class=\"data row33 col1\" ><strong>Number.of.Successful.Grant.1</strong><br>[float64]</td>\n",
       "      <td id=\"T_bbb62_row33_col2\" class=\"data row33 col2\" >Mean (sd) : 1.1 (1.5)<br>min < med < max:<br>0.0 < 1.0 < 13.0<br>IQR (CV) : 2.0 (0.7)</td>\n",
       "      <td id=\"T_bbb62_row33_col3\" class=\"data row33 col3\" >13 distinct values</td>\n",
       "      <td id=\"T_bbb62_row33_col4\" class=\"data row33 col4\" ><img src = \"data:image/png;base64, iVBORw0KGgoAAAANSUhEUgAAAKoAAABGCAYAAABc8A97AAAAOXRFWHRTb2Z0d2FyZQBNYXRwbG90bGliIHZlcnNpb24zLjguMCwgaHR0cHM6Ly9tYXRwbG90bGliLm9yZy81sbWrAAAACXBIWXMAAA9hAAAPYQGoP6dpAAACQklEQVR4nO3ZvY7aUBRF4XP5kxmIEUIxHU36FC55iDzstOn9BBRppqJBSJaxhQcCcpwqUaQoYbiGjHdmfTX32EJLGA6urmsD2q7z2jcAvETv0gucc0MzG3jOP9V1ffA8C/z011Cdc8PZbPYpDMOpz/CiKDLn3COxoqlLn6iDMAyny+XyMJlMjtcMzvM8SJJkmqbpwMwIFY1cfPSbmU0mk2MURc8e84ceZ4Df8GMKEggVEggVEggVEggVEggVEggVEggVEggVEggVEggVEggVEggVEggVEggVEggVEggVEggVEggVEggVEggVEggVEggVEggVEggVEggVEggVEggVEggVEggVEggVEggVEggVEggVEggVEggVEggVEggVEggVEggVEggVEggVEggVEggVEggVEggVEggVEggVEggVEggVEggVEggVEnr3HF5VVd/MQuec74hTXdeHG94SRN0t1LIs++fz+eNiseh2u92jz4yiKDLn3COx4m6hnk6nXhAED3EcH+fzeXbt+TzPgyRJpmmaDsyMUN+4uz76zcxGo9ExiqJnz+PDm94MZPFjChIIFRLu/uhvouHWoGNm3xpcno1Di7Q21CZbg6qq+mVZfhiPx0+dTufsc302Du3S2lCbbA3W6/V0tVq9j+P4CxuH/0NrQ/3BZ2uQZdnQ9+wv2Di0SOtDfS0Nvx/z/fbGXhRqnufBtYP3+31gZlaWZbDdbh/+5fmm195sNu+a/Ku22+32zrnPZub1j9wb9bWu6z++X98BO4C+mfA9R+UAAAAASUVORK5CYII=\"></img></td>\n",
       "      <td id=\"T_bbb62_row33_col5\" class=\"data row33 col5\" >287<br>(7.0%)</td>\n",
       "    </tr>\n",
       "    <tr>\n",
       "      <td id=\"T_bbb62_row34_col0\" class=\"data row34 col0\" >35</td>\n",
       "      <td id=\"T_bbb62_row34_col1\" class=\"data row34 col1\" ><strong>Number.of.Unsuccessful.Grant.1</strong><br>[float64]</td>\n",
       "      <td id=\"T_bbb62_row34_col2\" class=\"data row34 col2\" >Mean (sd) : 2.4 (3.0)<br>min < med < max:<br>0.0 < 1.0 < 24.0<br>IQR (CV) : 2.0 (0.8)</td>\n",
       "      <td id=\"T_bbb62_row34_col3\" class=\"data row34 col3\" >24 distinct values</td>\n",
       "      <td id=\"T_bbb62_row34_col4\" class=\"data row34 col4\" ><img src = \"data:image/png;base64, iVBORw0KGgoAAAANSUhEUgAAAKoAAABGCAYAAABc8A97AAAAOXRFWHRTb2Z0d2FyZQBNYXRwbG90bGliIHZlcnNpb24zLjguMCwgaHR0cHM6Ly9tYXRwbG90bGliLm9yZy81sbWrAAAACXBIWXMAAA9hAAAPYQGoP6dpAAACQElEQVR4nO3asW7aUBSH8XMLQQZaA6Iym1e2DowsfYM+bNbuZuYtEJKFbeFAsNDtlC5Vm2BDwt/9fnPukSN94spHdt57A+7dp49+AOAtuq/9gXOub2a9mvNP3vtDzbPAb/8M1TnXn06nP8IwnNQZXhTFzjn3SKxo6rVf1F4YhpPlcnkYjUbHSwbneR4kSTJJ07RnZoSKRl69+s3MRqPRMYqipxrz+zXOAH/gZQoSCBUSCBUSCBUSCBUSCBUSCBUSCBUSCBUSCBUSCBUSCBUSCBUSCBUSCBUSCBUSCBUSCBUSCBUSCBUSCBUSCBUSCBUSCBUSCBUSCBUSCBUSCBUSCBUSCBUSCBUSCBUSCBUSCBUSCBUSCBUSCBUSCBUSCBUSCBUSCBUSCBUSCBUSCBUSCBUSCBUSCBUSCBUSurccfj6fH8wsdM7VHXHy3h+u+EgQdbNQy7J8qKrqWxzHnU6nc6wzoyiKnXPukVhxs1BPp1M3CILBYrE4zmaz3aXn8zwPkiSZpGnaMzNC/c/d9Oo3MxsOh8coip5qHu9f9WEgi5cpSCBUSLj51d9Ew60BG4MWudtQm24N2Bi0y92G2mRrwMagfe421BcNtgZsDFqElylIIFRIuPurvy6+M2iXVoZ6je8MsizbO+d+mlmd80R+Za0Mtel3BpvN5stqtfoex/HXOqET+fW9KdQ8z4NLB+/3+8DMrCzLYLvdDt7z/MvZuqqq6gZBMJjP5248Hj9fcjbLss/r9fqjIlf27L3/6//8CxAg0BrOkKU2AAAAAElFTkSuQmCC\"></img></td>\n",
       "      <td id=\"T_bbb62_row34_col5\" class=\"data row34 col5\" >287<br>(7.0%)</td>\n",
       "    </tr>\n",
       "    <tr>\n",
       "      <td id=\"T_bbb62_row35_col0\" class=\"data row35 col0\" >36</td>\n",
       "      <td id=\"T_bbb62_row35_col1\" class=\"data row35 col1\" ><strong>A..1</strong><br>[float64]</td>\n",
       "      <td id=\"T_bbb62_row35_col2\" class=\"data row35 col2\" >Mean (sd) : 3.6 (7.2)<br>min < med < max:<br>0.0 < 1.0 < 123.0<br>IQR (CV) : 4.0 (0.5)</td>\n",
       "      <td id=\"T_bbb62_row35_col3\" class=\"data row35 col3\" >49 distinct values</td>\n",
       "      <td id=\"T_bbb62_row35_col4\" class=\"data row35 col4\" ><img src = \"data:image/png;base64, iVBORw0KGgoAAAANSUhEUgAAAKoAAABGCAYAAABc8A97AAAAOXRFWHRTb2Z0d2FyZQBNYXRwbG90bGliIHZlcnNpb24zLjguMCwgaHR0cHM6Ly9tYXRwbG90bGliLm9yZy81sbWrAAAACXBIWXMAAA9hAAAPYQGoP6dpAAAB60lEQVR4nO3XwW7aUBBG4ZlCkAmqLYRkdjxCFix5iDxstt37WRCSBdfCwTGybnbdVCnhUtr+7fnWnpElH9nXHmM04G/35U/fAPAZ40sXuPvUzCaJ+/sY4ylxFvjup6G6+3SxWDzneT5PWd40zd7dX4gVt7r0Rp3keT7fbDanoii6axaHELKqquZ1XU/MjFBxk4uffjOzoii6sixfE/ZPE2aAH/AzBQmECgmECgmECgmECgmECgmECgmECgmECgmECgmECgmECgmECgmECgmECgmECgmECgmECgmECgmECgmECgmECgmECgmECgmECgmECgmECgmECgmECgmECgmECgmECgmECgmECgmECgmECgmECgmECgmECgmECgmECgmECgmECgmECgmECgmECgmECgmECgmECgmECgmECgmECgmECgmECgmECgmECgmECgmECgmECgnjey4fhuHBzHJ3T13RxxhPv/CWIOpuobZt+3A+n59Wq9VoNBp1KTuaptm7+wux4m6h9n0/zrLscb1ed8vlcn/tfAghq6pqXtf1xMwI9T9310+/mdlsNuvKsnxNmR2GIbf0owPHhn/Ip0INIWTXLj4ej5mZWdu22W63e7x2frvdfr3l6HA4HI7u/s3Mko4d+O3eYowfPqt3JbxuWZyDQo4AAAAASUVORK5CYII=\"></img></td>\n",
       "      <td id=\"T_bbb62_row35_col5\" class=\"data row35 col5\" >287<br>(7.0%)</td>\n",
       "    </tr>\n",
       "    <tr>\n",
       "      <td id=\"T_bbb62_row36_col0\" class=\"data row36 col0\" >37</td>\n",
       "      <td id=\"T_bbb62_row36_col1\" class=\"data row36 col1\" ><strong>A.1</strong><br>[float64]</td>\n",
       "      <td id=\"T_bbb62_row36_col2\" class=\"data row36 col2\" >Mean (sd) : 5.2 (7.8)<br>min < med < max:<br>0.0 < 3.0 < 87.0<br>IQR (CV) : 7.0 (0.7)</td>\n",
       "      <td id=\"T_bbb62_row36_col3\" class=\"data row36 col3\" >51 distinct values</td>\n",
       "      <td id=\"T_bbb62_row36_col4\" class=\"data row36 col4\" ><img src = \"data:image/png;base64, iVBORw0KGgoAAAANSUhEUgAAAKoAAABGCAYAAABc8A97AAAAOXRFWHRTb2Z0d2FyZQBNYXRwbG90bGliIHZlcnNpb24zLjguMCwgaHR0cHM6Ly9tYXRwbG90bGliLm9yZy81sbWrAAAACXBIWXMAAA9hAAAPYQGoP6dpAAACCklEQVR4nO3ZwYraUBSH8XOqI3GEBHGIOx+hC5c+RB92tl0KeRgh6A1mkipyu+umtI43I/U//X5rz+EiH0avHmM04NF9+dcHAN5jfO0F7j41s0ni/lOMsUucBX75a6juPl0sFt/yPJ+nLG+aZu/ur8SKoa59ok7yPJ9vNpuuKIr+lsUhhKyqqnld1xMzI1QMcvXRb2ZWFEVfluVbwv5pwgzwG35MQQKhQgKhQgKhQgKhQgKhQgKhQgKhQgKhQgKhQgKhQgKhQgKhQgKhQgKhQgKhQgKhQgKhQgKhQgKhQgKhQgKhQgKhQgKhQgKhQgKhQgKhQgKhQgKhQgKhQgKhQgKhQgKhQgKhQgKhQgKhQgKhQgKhQgKhQgKhQgKhQgKhQgKhQgKhQgKhQgKhQgKhQgKhQgKhQgKhQgKhQgKhQgKhQsL4nssvl8uTmeXunrriFGPsPvBIEHW3UNu2fTqfz19Xq9VoNBr1KTuaptm7+yux4m6hnk6ncZZlz+v1ul8ul/tb50MIWVVV87quJ2ZGqP+5uz76zcxms1lfluVb4vj0Qw8DWfyYggRChQRChYS7f0cdYuD1Fldbn8jDhjr0eourrc/lYUMdcr0VQsi2221Z1/WLuzepRyDyx/GuUEMI2a2Lj8djZmbWtm222+2eU+dTdF03+M+Gw+FwdPfvZpY0j5v9iDH+8b3+CY3DlQUkTtxlAAAAAElFTkSuQmCC\"></img></td>\n",
       "      <td id=\"T_bbb62_row36_col5\" class=\"data row36 col5\" >287<br>(7.0%)</td>\n",
       "    </tr>\n",
       "    <tr>\n",
       "      <td id=\"T_bbb62_row37_col0\" class=\"data row37 col0\" >38</td>\n",
       "      <td id=\"T_bbb62_row37_col1\" class=\"data row37 col1\" ><strong>B.1</strong><br>[float64]</td>\n",
       "      <td id=\"T_bbb62_row37_col2\" class=\"data row37 col2\" >Mean (sd) : 4.1 (5.4)<br>min < med < max:<br>0.0 < 2.0 < 59.0<br>IQR (CV) : 6.0 (0.8)</td>\n",
       "      <td id=\"T_bbb62_row37_col3\" class=\"data row37 col3\" >41 distinct values</td>\n",
       "      <td id=\"T_bbb62_row37_col4\" class=\"data row37 col4\" ><img src = \"data:image/png;base64, iVBORw0KGgoAAAANSUhEUgAAAKoAAABGCAYAAABc8A97AAAAOXRFWHRTb2Z0d2FyZQBNYXRwbG90bGliIHZlcnNpb24zLjguMCwgaHR0cHM6Ly9tYXRwbG90bGliLm9yZy81sbWrAAAACXBIWXMAAA9hAAAPYQGoP6dpAAACMUlEQVR4nO3dsY7aQBRG4TthFxlYGRCR6dzSpaCkyRvkYbdN757XQDLYFl5YkDWpkiZKgDEk/Oz5auZioSMsoyvhvPcG3LtP//sCgHM8nXqBc65nZt3A+Qfv/S7wLPDLX0N1zvUmk8m3OI7HIcOrqto4516JFW2d+kbtxnE8XiwWu+FwuL9kcFmWUZZl4zzPu2ZGqGjl5K3fzGw4HO6TJHkLmN8LOAP8hocpSCBUSCBUSCBUSCBUSCBUSCBUSCBUSCBUSCBUSCBUSCBUSCBUSCBUSCBUSCBUSCBUSCBUSCBUSCBUSCBUSCBUSCBUSCBUSCBUSCBUSCBUSCBUSCBUSCBUSCBUSCBUSCBUSCBUSCBUSCBUSCBUSCBUSCBUSCBUSCBUSCBUSCBUSCBUSCBUSCBUSDjrb9BDNU3zbGaxcy50xMF7v7viJUHUzUKt6/r5eDx+SdO00+l09iEzqqraOOdeiRU3C/VwODxFUdSfz+f76XS6ufR8WZZRlmXjPM+7ZkaoH9xNb/1mZoPBYJ8kyVvg8d5VLwayeJiCBEKFBEKFBEKFBEKFBEKFBEKFBEKFhJv/4N9Gy10B9gQeyN2G2nZXgD2Bx3K3obbZFWBP4PHcbag/he4KNE0TGyuGD+PuQw1xjRXDoii2zrnvZhZynsiv7KxQy7KMLh283W4jM7O6rqPVatX/l+fX6/VLFEX92WzmRqPR+6XvXRTFy3K5/Jqm6eeQ0FtG/lG9e+//+Hn9ANwHtg3IgV72AAAAAElFTkSuQmCC\"></img></td>\n",
       "      <td id=\"T_bbb62_row37_col5\" class=\"data row37 col5\" >287<br>(7.0%)</td>\n",
       "    </tr>\n",
       "    <tr>\n",
       "      <td id=\"T_bbb62_row38_col0\" class=\"data row38 col0\" >39</td>\n",
       "      <td id=\"T_bbb62_row38_col1\" class=\"data row38 col1\" ><strong>C.1</strong><br>[float64]</td>\n",
       "      <td id=\"T_bbb62_row38_col2\" class=\"data row38 col2\" >Mean (sd) : 2.2 (4.3)<br>min < med < max:<br>0.0 < 1.0 < 61.0<br>IQR (CV) : 3.0 (0.5)</td>\n",
       "      <td id=\"T_bbb62_row38_col3\" class=\"data row38 col3\" >36 distinct values</td>\n",
       "      <td id=\"T_bbb62_row38_col4\" class=\"data row38 col4\" ><img src = \"data:image/png;base64, iVBORw0KGgoAAAANSUhEUgAAAKoAAABGCAYAAABc8A97AAAAOXRFWHRTb2Z0d2FyZQBNYXRwbG90bGliIHZlcnNpb24zLjguMCwgaHR0cHM6Ly9tYXRwbG90bGliLm9yZy81sbWrAAAACXBIWXMAAA9hAAAPYQGoP6dpAAAB60lEQVR4nO3XwW7aUBBG4ZlCkAmqLYRkdjxCFix5iDxstt37WRCSBdfCwTGybnbdVCnhUtr+7fnWnpElH9nXHmM04G/35U/fAPAZ40sXuPvUzCaJ+/sY4ylxFvjup6G6+3SxWDzneT5PWd40zd7dX4gVt7r0Rp3keT7fbDanoii6axaHELKqquZ1XU/MjFBxk4uffjOzoii6sixfE/ZPE2aAH/AzBQmECgmECgmECgmECgmECgmECgmECgmECgmECgmECgmECgmECgmECgmECgmECgmECgmECgmECgmECgmECgmECgmECgmECgmECgmECgmECgmECgmECgmECgmECgmECgmECgmECgmECgmECgmECgmECgmECgmECgmECgmECgmECgmECgmECgmECgmECgmECgmECgmECgmECgmECgmECgmECgmECgmECgmECgmECgmECgnjey4fhuHBzHJ3T13RxxhPv/CWIOpuobZt+3A+n59Wq9VoNBp1KTuaptm7+wux4m6h9n0/zrLscb1ed8vlcn/tfAghq6pqXtf1xMwI9T9310+/mdlsNuvKsnxNmR2GIbf0owPHhn/Ip0INIWTXLj4ej5mZWdu22W63e7x2frvdfr3l6HA4HI7u/s3Mko4d+O3eYowfPqt3JbxuWZyDQo4AAAAASUVORK5CYII=\"></img></td>\n",
       "      <td id=\"T_bbb62_row38_col5\" class=\"data row38 col5\" >287<br>(7.0%)</td>\n",
       "    </tr>\n",
       "  </tbody>\n",
       "</table>\n"
      ],
      "text/plain": [
       "<pandas.io.formats.style.Styler at 0x218f4110>"
      ]
     },
     "execution_count": 3,
     "metadata": {},
     "output_type": "execute_result"
    }
   ],
   "source": [
    "dfSummary(df)"
   ]
  },
  {
   "cell_type": "markdown",
   "metadata": {},
   "source": [
    "- Данные содержат 4113 записей с 39 столбцами.\n",
    "- Большинство столбцов имеют тип float64.\n",
    "- Есть пропущенные значения во всех столбцах, кроме таргета, что видно из количества пропущенных записей."
   ]
  },
  {
   "cell_type": "code",
   "execution_count": 4,
   "metadata": {},
   "outputs": [],
   "source": [
    "df.drop_duplicates(inplace=True)"
   ]
  },
  {
   "cell_type": "markdown",
   "metadata": {},
   "source": [
    "2. _Подготовьте данные к обучению моделей:_"
   ]
  },
  {
   "cell_type": "markdown",
   "metadata": {},
   "source": [
    "Отделите целевую переменную Grant.Status;"
   ]
  },
  {
   "cell_type": "code",
   "execution_count": 5,
   "metadata": {},
   "outputs": [],
   "source": [
    "# Разделение данных на признаки и целевую переменную\n",
    "features = df.drop(['Grant.Status'], axis=1)\n",
    "target = df['Grant.Status']"
   ]
  },
  {
   "cell_type": "markdown",
   "metadata": {},
   "source": [
    "Заполните пропуски\n",
    "\n",
    "- в количественных признаках заполните пропуски средними значениями и нулями (у каждой фичи будет по два варианта),"
   ]
  },
  {
   "cell_type": "code",
   "execution_count": 6,
   "metadata": {},
   "outputs": [],
   "source": [
    "# Разделяем числовые и нечисловые (категориальные) столбцы\n",
    "num_cols = features.select_dtypes(include=['int64', 'float64']).columns\n",
    "\n",
    "# Заполняем пропуски в числовых столбцах средним значением\n",
    "features_mean = features.copy()\n",
    "features_mean[num_cols] = features_mean[num_cols].fillna(features_mean[num_cols].mean())\n",
    "\n",
    "# Заполняем пропуски в числовых столбцах нулями\n",
    "features_zero = features.copy()\n",
    "features_zero[num_cols] = features_zero[num_cols].fillna(0)"
   ]
  },
  {
   "cell_type": "markdown",
   "metadata": {},
   "source": [
    "- в категориальных признаках выведите значения, которые они принимают, и найдите признак, где пропуски можно заполнить осмысленным значением. В остальных признаках заполните пропуски значением по умолчанию;"
   ]
  },
  {
   "cell_type": "code",
   "execution_count": 7,
   "metadata": {},
   "outputs": [
    {
     "data": {
      "text/plain": [
       "'Sponsor.Code:'"
      ]
     },
     "metadata": {},
     "output_type": "display_data"
    },
    {
     "data": {
      "text/plain": [
       "array(['97A', '36D', '317A', '62B', '1A', '4D', '2B', '60D', '21A',\n",
       "       '149A', '252D', '65A', '40D', '24D', '34B', '166B', '6B', '29A',\n",
       "       '5A', '141A', nan, '32D', '89A', '52D', '18B', '33A', '91C', '12D',\n",
       "       '20D', '66B', '145A', '179C', '86B', '42B', '183C', '112D', '234B',\n",
       "       '49A', '437A', '77A', '83C', '93A', '229A', '84D', '196D', '281A',\n",
       "       '69A', '161A', '51C', '226B', '269A', '188D', '94B', '173A',\n",
       "       '221A', '9A', '126B', '133A', '101A', '215C', '172D', '138B',\n",
       "       '219C', '59C', '315C', '205A', '247C', '194B', '15C', '3C', '55C',\n",
       "       '204D', '90B', '163C', '307C', '206B', '95C', '7C', '180D', '214B',\n",
       "       '197A', '349A', '232D', '325A', '266B', '164D', '63C', '228D',\n",
       "       '187C', '208D', '241A', '48D', '309A', '73A', '28D', '362B', '39C',\n",
       "       '67C', '212D', '200D', '148D', '154B', '245A', '311C', '105A',\n",
       "       '47C', '222B', '137A', '159C', '100D', '143C', '193A', '324D',\n",
       "       '38B', '75C', '427C', '103C', '415C', '139C', '107C', '136D',\n",
       "       '11C', '170B', '135C', '203C', '235C', '331C', '259C', '87C',\n",
       "       '169A', '284D', '198B', '308D', '242B', '174B', '68D', '120D',\n",
       "       '347C', '294B', '128D', '56D', '202B', '435C', '80D', '130B',\n",
       "       '54B', '195C', '285A', '191C', '260D', '78B', '146B', '113A',\n",
       "       '158B', '223C', '132D', '13A', '160D', '279C', '282B', '265A',\n",
       "       '256D', '244D', '26B', '310B', '111C', '150B', '273A', '250B',\n",
       "       '23C', '230B', '258B', '295C', '27C', '53A', '147C', '210B',\n",
       "       '227C', '433A', '178B', '305A', '346B', '267C', '318B', '238B',\n",
       "       '37A', '342B', '289A', '144D', '58B', '153A', '85A', '82B', '176D',\n",
       "       '165A', '201A', '277A', '370B', '168D', '156D', '357A', '216D',\n",
       "       '434B', '16D', '328D', '151C', '157A', '255C', '299C', '270B',\n",
       "       '262B', '274B', '14B', '330B', '429A', '184D', '177A', '257A',\n",
       "       '286B', '74B', '326B', '72D', '199C', '313A', '373A', '298B',\n",
       "       '225A'], dtype=object)"
      ]
     },
     "metadata": {},
     "output_type": "display_data"
    },
    {
     "data": {
      "text/plain": [
       "'Grant.Category.Code:'"
      ]
     },
     "metadata": {},
     "output_type": "display_data"
    },
    {
     "data": {
      "text/plain": [
       "array(['30B', '10A', '30D', '10B', '50A', '20A', '30C', nan, '20C', '30E',\n",
       "       '30G', '30A', '40C', '30F'], dtype=object)"
      ]
     },
     "metadata": {},
     "output_type": "display_data"
    },
    {
     "data": {
      "text/plain": [
       "'Contract.Value.Band...see.note.A:'"
      ]
     },
     "metadata": {},
     "output_type": "display_data"
    },
    {
     "data": {
      "text/plain": [
       "array(['A ', 'G ', nan, 'B ', 'F ', 'D ', 'C ', 'E ', 'H ', 'I ', 'K ',\n",
       "       'J ', 'M ', 'P ', 'O ', 'Q ', 'L '], dtype=object)"
      ]
     },
     "metadata": {},
     "output_type": "display_data"
    },
    {
     "data": {
      "text/plain": [
       "'Role.1:'"
      ]
     },
     "metadata": {},
     "output_type": "display_data"
    },
    {
     "data": {
      "text/plain": [
       "array(['CHIEF_INVESTIGATOR', 'PRINCIPAL_SUPERVISOR',\n",
       "       'DELEGATED_RESEARCHER', 'EXT_CHIEF_INVESTIGATOR', 'HONVISIT', nan,\n",
       "       'STUD_CHIEF_INVESTIGATOR', 'EXTERNAL_ADVISOR'], dtype=object)"
      ]
     },
     "metadata": {},
     "output_type": "display_data"
    },
    {
     "data": {
      "text/plain": [
       "'Country.of.Birth.1:'"
      ]
     },
     "metadata": {},
     "output_type": "display_data"
    },
    {
     "data": {
      "text/plain": [
       "array(['Eastern Europe', 'Australia', 'Great Britain', 'North America',\n",
       "       'Western Europe', 'Asia Pacific', nan, 'New Zealand',\n",
       "       'Middle East and Africa', 'South Africa', 'The Americas'],\n",
       "      dtype=object)"
      ]
     },
     "metadata": {},
     "output_type": "display_data"
    },
    {
     "data": {
      "text/plain": [
       "'Home.Language.1:'"
      ]
     },
     "metadata": {},
     "output_type": "display_data"
    },
    {
     "data": {
      "text/plain": [
       "array([nan, 'English', 'Other'], dtype=object)"
      ]
     },
     "metadata": {},
     "output_type": "display_data"
    },
    {
     "data": {
      "text/plain": [
       "'With.PHD.1:'"
      ]
     },
     "metadata": {},
     "output_type": "display_data"
    },
    {
     "data": {
      "text/plain": [
       "array(['Yes ', nan], dtype=object)"
      ]
     },
     "metadata": {},
     "output_type": "display_data"
    },
    {
     "data": {
      "text/plain": [
       "'No..of.Years.in.Uni.at.Time.of.Grant.1:'"
      ]
     },
     "metadata": {},
     "output_type": "display_data"
    },
    {
     "data": {
      "text/plain": [
       "array(['>10 to 15', 'Less than 0', '>5 to 10', '>=0 to 5', nan,\n",
       "       'more than 15'], dtype=object)"
      ]
     },
     "metadata": {},
     "output_type": "display_data"
    }
   ],
   "source": [
    "for column in features.select_dtypes(include=['object']).columns:\n",
    "    display(f\"{column}:\", features[column].unique())"
   ]
  },
  {
   "cell_type": "code",
   "execution_count": 8,
   "metadata": {},
   "outputs": [
    {
     "name": "stdout",
     "output_type": "stream",
     "text": [
      "Sponsor.Code:\n",
      "Не пропущено: 3803\n",
      "Пропущено: 245\n"
     ]
    },
    {
     "data": {
      "text/plain": [
       "Sponsor.Code\n",
       "4D      979\n",
       "2B      913\n",
       "21A     374\n",
       "24D     114\n",
       "40D      89\n",
       "       ... \n",
       "308D      1\n",
       "284D      1\n",
       "259C      1\n",
       "331C      1\n",
       "225A      1\n",
       "Name: count, Length: 226, dtype: int64"
      ]
     },
     "metadata": {},
     "output_type": "display_data"
    },
    {
     "name": "stdout",
     "output_type": "stream",
     "text": [
      "\n",
      "Grant.Category.Code:\n",
      "Не пропущено: 3803\n",
      "Пропущено: 245\n"
     ]
    },
    {
     "data": {
      "text/plain": [
       "Grant.Category.Code\n",
       "10A    2020\n",
       "30B     699\n",
       "50A     374\n",
       "10B     207\n",
       "20C     177\n",
       "30C     145\n",
       "30D      91\n",
       "20A      48\n",
       "30G      34\n",
       "30E       5\n",
       "30A       1\n",
       "40C       1\n",
       "30F       1\n",
       "Name: count, dtype: int64"
      ]
     },
     "metadata": {},
     "output_type": "display_data"
    },
    {
     "name": "stdout",
     "output_type": "stream",
     "text": [
      "\n",
      "Contract.Value.Band...see.note.A:\n",
      "Не пропущено: 1931\n",
      "Пропущено: 2117\n"
     ]
    },
    {
     "data": {
      "text/plain": [
       "Contract.Value.Band...see.note.A\n",
       "A     951\n",
       "B     302\n",
       "C     156\n",
       "D     147\n",
       "G     135\n",
       "E      97\n",
       "F      75\n",
       "H      32\n",
       "J      18\n",
       "I      11\n",
       "P       2\n",
       "K       1\n",
       "M       1\n",
       "O       1\n",
       "Q       1\n",
       "L       1\n",
       "Name: count, dtype: int64"
      ]
     },
     "metadata": {},
     "output_type": "display_data"
    },
    {
     "name": "stdout",
     "output_type": "stream",
     "text": [
      "\n",
      "Role.1:\n",
      "Не пропущено: 4007\n",
      "Пропущено: 41\n"
     ]
    },
    {
     "data": {
      "text/plain": [
       "Role.1\n",
       "CHIEF_INVESTIGATOR         3601\n",
       "EXT_CHIEF_INVESTIGATOR      212\n",
       "PRINCIPAL_SUPERVISOR        141\n",
       "DELEGATED_RESEARCHER         36\n",
       "STUD_CHIEF_INVESTIGATOR      10\n",
       "HONVISIT                      6\n",
       "EXTERNAL_ADVISOR              1\n",
       "Name: count, dtype: int64"
      ]
     },
     "metadata": {},
     "output_type": "display_data"
    },
    {
     "name": "stdout",
     "output_type": "stream",
     "text": [
      "\n",
      "Country.of.Birth.1:\n",
      "Не пропущено: 3409\n",
      "Пропущено: 639\n"
     ]
    },
    {
     "data": {
      "text/plain": [
       "Country.of.Birth.1\n",
       "Australia                 2501\n",
       "Great Britain              298\n",
       "Western Europe             155\n",
       "Asia Pacific               149\n",
       "North America              121\n",
       "Eastern Europe              60\n",
       "Middle East and Africa      40\n",
       "The Americas                32\n",
       "New Zealand                 31\n",
       "South Africa                22\n",
       "Name: count, dtype: int64"
      ]
     },
     "metadata": {},
     "output_type": "display_data"
    },
    {
     "name": "stdout",
     "output_type": "stream",
     "text": [
      "\n",
      "Home.Language.1:\n",
      "Не пропущено: 389\n",
      "Пропущено: 3659\n"
     ]
    },
    {
     "data": {
      "text/plain": [
       "Home.Language.1\n",
       "English    312\n",
       "Other       77\n",
       "Name: count, dtype: int64"
      ]
     },
     "metadata": {},
     "output_type": "display_data"
    },
    {
     "name": "stdout",
     "output_type": "stream",
     "text": [
      "\n",
      "With.PHD.1:\n",
      "Не пропущено: 2304\n",
      "Пропущено: 1744\n"
     ]
    },
    {
     "data": {
      "text/plain": [
       "With.PHD.1\n",
       "Yes     2304\n",
       "Name: count, dtype: int64"
      ]
     },
     "metadata": {},
     "output_type": "display_data"
    },
    {
     "name": "stdout",
     "output_type": "stream",
     "text": [
      "\n",
      "No..of.Years.in.Uni.at.Time.of.Grant.1:\n",
      "Не пропущено: 3313\n",
      "Пропущено: 735\n"
     ]
    },
    {
     "data": {
      "text/plain": [
       "No..of.Years.in.Uni.at.Time.of.Grant.1\n",
       ">=0 to 5        1321\n",
       ">5 to 10         728\n",
       "Less than 0      492\n",
       ">10 to 15        413\n",
       "more than 15     359\n",
       "Name: count, dtype: int64"
      ]
     },
     "metadata": {},
     "output_type": "display_data"
    },
    {
     "name": "stdout",
     "output_type": "stream",
     "text": [
      "\n"
     ]
    }
   ],
   "source": [
    "# Получаем список категориальных признаков\n",
    "categorical_cols = features.select_dtypes(include=['object']).columns\n",
    "\n",
    "# Итерируемся по категориальным признакам и выводим информацию\n",
    "for column in categorical_cols:\n",
    "    # Подсчет количества непропущенных и пропущенных значений\n",
    "    null_counts = features[column].isnull().sum()\n",
    "    not_null_counts = features[column].notnull().sum()\n",
    "    \n",
    "    print(f\"{column}:\")\n",
    "    print(f\"Не пропущено: {not_null_counts}\")\n",
    "    print(f\"Пропущено: {null_counts}\")\n",
    "    display(features[column].value_counts())\n",
    "    print()\n"
   ]
  },
  {
   "cell_type": "code",
   "execution_count": 9,
   "metadata": {},
   "outputs": [],
   "source": [
    "# Заполнение пропусков в \"Sponsor.Code\"\n",
    "features['Sponsor.Code'].fillna('Other', inplace=True)"
   ]
  },
  {
   "cell_type": "code",
   "execution_count": 10,
   "metadata": {},
   "outputs": [
    {
     "name": "stdout",
     "output_type": "stream",
     "text": [
      "['100D' '101A' '103C' '105A' '107C' '111C' '112D' '113A' '11C' '120D'\n",
      " '126B' '128D' '12D' '130B' '132D' '133A' '135C' '136D' '137A' '138B'\n",
      " '139C' '13A' '141A' '143C' '144D' '145A' '146B' '147C' '148D' '149A'\n",
      " '14B' '150B' '151C' '153A' '154B' '156D' '157A' '158B' '159C' '15C'\n",
      " '160D' '161A' '163C' '164D' '165A' '166B' '168D' '169A' '16D' '170B'\n",
      " '172D' '173A' '174B' '176D' '177A' '178B' '179C' '180D' '183C' '184D'\n",
      " '187C' '188D' '18B' '191C' '193A' '194B' '195C' '196D' '197A' '198B'\n",
      " '199C' '1A' '200D' '201A' '202B' '203C' '204D' '205A' '206B' '208D' '20D'\n",
      " '210B' '212D' '214B' '215C' '216D' '219C' '21A' '221A' '222B' '223C'\n",
      " '225A' '226B' '227C' '228D' '229A' '230B' '232D' '234B' '235C' '238B'\n",
      " '23C' '241A' '242B' '244D' '245A' '247C' '24D' '250B' '252D' '255C'\n",
      " '256D' '257A' '258B' '259C' '260D' '262B' '265A' '266B' '267C' '269A'\n",
      " '26B' '270B' '273A' '274B' '277A' '279C' '27C' '281A' '282B' '284D'\n",
      " '285A' '286B' '289A' '28D' '294B' '295C' '298B' '299C' '29A' '2B' '305A'\n",
      " '307C' '308D' '309A' '310B' '311C' '313A' '315C' '317A' '318B' '324D'\n",
      " '325A' '326B' '328D' '32D' '330B' '331C' '33A' '342B' '346B' '347C'\n",
      " '349A' '34B' '357A' '362B' '36D' '370B' '373A' '37A' '38B' '39C' '3C'\n",
      " '40D' '415C' '427C' '429A' '42B' '433A' '434B' '435C' '437A' '47C' '48D'\n",
      " '49A' '4D' '51C' '52D' '53A' '54B' '55C' '56D' '58B' '59C' '5A' '60D'\n",
      " '62B' '63C' '65A' '66B' '67C' '68D' '69A' '6B' '72D' '73A' '74B' '75C'\n",
      " '77A' '78B' '7C' '80D' '82B' '83C' '84D' '85A' '86B' '87C' '89A' '90B'\n",
      " '91C' '93A' '94B' '95C' '97A' '9A' 'Other']\n"
     ]
    }
   ],
   "source": [
    "unique_codes = features['Sponsor.Code'].unique()\n",
    "unique_codes.sort()\n",
    "print(unique_codes)"
   ]
  },
  {
   "cell_type": "markdown",
   "metadata": {},
   "source": [
    "Заменили на Other"
   ]
  },
  {
   "cell_type": "code",
   "execution_count": 11,
   "metadata": {},
   "outputs": [
    {
     "data": {
      "text/plain": [
       "Grant.Category.Code\n",
       "10A    2020\n",
       "30B     699\n",
       "50A     374\n",
       "20B     245\n",
       "10B     207\n",
       "20C     177\n",
       "30C     145\n",
       "30D      91\n",
       "20A      48\n",
       "30G      34\n",
       "30E       5\n",
       "30A       1\n",
       "40C       1\n",
       "30F       1\n",
       "Name: count, dtype: int64"
      ]
     },
     "execution_count": 11,
     "metadata": {},
     "output_type": "execute_result"
    }
   ],
   "source": [
    "# Заполнение пропусков в \"Grant.Category.Code\" \n",
    "features['Grant.Category.Code'].fillna('20B', inplace=True)\n",
    "features['Grant.Category.Code'].value_counts()"
   ]
  },
  {
   "cell_type": "code",
   "execution_count": 12,
   "metadata": {},
   "outputs": [
    {
     "name": "stdout",
     "output_type": "stream",
     "text": [
      "Коэффициент корреляции Крамера: Grant.Category.Code\n",
      "10A    5.635365\n",
      "10B    0.343328\n",
      "20A    0.071629\n",
      "20B    1.068007\n",
      "20C    0.316786\n",
      "30A    0.004359\n",
      "30B    0.735907\n",
      "30C    0.357057\n",
      "30D    0.149680\n",
      "30E    0.011533\n",
      "30F    0.004359\n",
      "30G    0.061649\n",
      "40C    0.004359\n",
      "50A    1.630346\n",
      "dtype: float64\n"
     ]
    }
   ],
   "source": [
    "# Создание матрицы корреляции Крамера\n",
    "cont_table = pd.crosstab(features['Sponsor.Code'], features['Grant.Category.Code'])\n",
    "n = cont_table.sum().sum()\n",
    "phi_squared = (cont_table ** 2 / n).sum() / (min(cont_table.shape) - 1)\n",
    "cramer_v = np.sqrt(phi_squared)\n",
    "\n",
    "print(\"Коэффициент корреляции Крамера:\", cramer_v)"
   ]
  },
  {
   "cell_type": "markdown",
   "metadata": {},
   "source": [
    "Заполнение пропусков в \"Grant.Category.Code\" значением '20B' тк согласно логике его не хватает и возможно удалили."
   ]
  },
  {
   "cell_type": "code",
   "execution_count": 13,
   "metadata": {},
   "outputs": [
    {
     "data": {
      "text/plain": [
       "array(['A ', 'B ', 'C ', 'D ', 'E ', 'F ', 'G ', 'H ', 'I ', 'J ', 'K ',\n",
       "       'L ', 'M ', 'O ', 'P ', 'Q ', 'Unknown'], dtype=object)"
      ]
     },
     "metadata": {},
     "output_type": "display_data"
    }
   ],
   "source": [
    "# Пропуски в \"Contract.Value...\" заменим на 'Unknown' \n",
    "features['Contract.Value.Band...see.note.A'].fillna('Unknown', inplace=True) \n",
    "unique_codes = features['Contract.Value.Band...see.note.A'].unique()\n",
    "unique_codes.sort()\n",
    "display(unique_codes)"
   ]
  },
  {
   "cell_type": "markdown",
   "metadata": {},
   "source": [
    "Видно что согласно алфавиту в последовательности не хватает 'N' но настараживает кол-во пропусков = 2117 шт так что заменим на Unknown"
   ]
  },
  {
   "cell_type": "code",
   "execution_count": 14,
   "metadata": {},
   "outputs": [
    {
     "data": {
      "text/plain": [
       "array(['CHIEF_INVESTIGATOR', 'PRINCIPAL_SUPERVISOR',\n",
       "       'DELEGATED_RESEARCHER', 'EXT_CHIEF_INVESTIGATOR', 'HONVISIT',\n",
       "       'OTHER', 'STUD_CHIEF_INVESTIGATOR', 'EXTERNAL_ADVISOR'],\n",
       "      dtype=object)"
      ]
     },
     "execution_count": 14,
     "metadata": {},
     "output_type": "execute_result"
    }
   ],
   "source": [
    "# Заполнение пропусков в \"Role.1\" \n",
    "features['Role.1'].fillna('OTHER', inplace=True) \n",
    "features['Role.1'].unique()"
   ]
  },
  {
   "cell_type": "markdown",
   "metadata": {},
   "source": [
    "Заменили на OTHER"
   ]
  },
  {
   "cell_type": "code",
   "execution_count": 15,
   "metadata": {},
   "outputs": [
    {
     "data": {
      "text/plain": [
       "Country.of.Birth.1\n",
       "Australia                 2501\n",
       "Unknown                    639\n",
       "Great Britain              298\n",
       "Western Europe             155\n",
       "Asia Pacific               149\n",
       "North America              121\n",
       "Eastern Europe              60\n",
       "Middle East and Africa      40\n",
       "The Americas                32\n",
       "New Zealand                 31\n",
       "South Africa                22\n",
       "Name: count, dtype: int64"
      ]
     },
     "execution_count": 15,
     "metadata": {},
     "output_type": "execute_result"
    }
   ],
   "source": [
    "# Заполнение пропусков в \"Country.of.Birth.1\"\n",
    "features['Country.of.Birth.1'].fillna('Unknown', inplace=True) \n",
    "features['Country.of.Birth.1'].value_counts()"
   ]
  },
  {
   "cell_type": "markdown",
   "metadata": {},
   "source": [
    "заменим на Unknown"
   ]
  },
  {
   "cell_type": "code",
   "execution_count": 16,
   "metadata": {},
   "outputs": [
    {
     "data": {
      "text/plain": [
       "array([nan, 'English', 'Other'], dtype=object)"
      ]
     },
     "execution_count": 16,
     "metadata": {},
     "output_type": "execute_result"
    }
   ],
   "source": [
    "# Заполнение пропусков в \"Home.Language.1\" \n",
    "features['Home.Language.1'].unique()"
   ]
  },
  {
   "cell_type": "code",
   "execution_count": 17,
   "metadata": {},
   "outputs": [
    {
     "data": {
      "text/plain": [
       "Home.Language.1\n",
       "English    312\n",
       "Other       77\n",
       "Name: count, dtype: int64"
      ]
     },
     "execution_count": 17,
     "metadata": {},
     "output_type": "execute_result"
    }
   ],
   "source": [
    "features['Home.Language.1'].value_counts()"
   ]
  },
  {
   "cell_type": "code",
   "execution_count": 18,
   "metadata": {},
   "outputs": [
    {
     "data": {
      "text/plain": [
       "{('Asia', 'English'),\n",
       " ('Asia', 'Other'),\n",
       " ('Australia', 'English'),\n",
       " ('Australia', 'Other'),\n",
       " ('Eastern', 'English'),\n",
       " ('Eastern', 'Other'),\n",
       " ('Great', 'English'),\n",
       " ('Middle', 'English'),\n",
       " ('Middle', 'Other'),\n",
       " ('North', 'English'),\n",
       " ('North', 'Other'),\n",
       " ('The', 'English'),\n",
       " ('The', 'Other'),\n",
       " ('Unknown', 'English'),\n",
       " ('Unknown', 'Other'),\n",
       " ('Western', 'English'),\n",
       " ('Western', 'Other')}"
      ]
     },
     "execution_count": 18,
     "metadata": {},
     "output_type": "execute_result"
    }
   ],
   "source": [
    "H_L_mapping = set(features.dropna(subset='Home.Language.1').apply(lambda f: (f['Country.of.Birth.1'].split()[0], f['Home.Language.1']), axis=1))\n",
    "H_L_mapping"
   ]
  },
  {
   "cell_type": "markdown",
   "metadata": {},
   "source": [
    "Видим что в словаре для каждого континетна есть оба значения, а так же отсутствуют для New Zealand и South Africa предположим что для них Home Language будет English"
   ]
  },
  {
   "cell_type": "code",
   "execution_count": 19,
   "metadata": {},
   "outputs": [],
   "source": [
    "# Обновление распределения языков для 'New Zealand' и 'South Africa'\n",
    "features.loc[features['Country.of.Birth.1'] == 'New Zealand', 'Home.Language.1'] = 'English'\n",
    "features.loc[features['Country.of.Birth.1'] == 'South Africa', 'Home.Language.1'] = 'English'"
   ]
  },
  {
   "cell_type": "code",
   "execution_count": 20,
   "metadata": {},
   "outputs": [
    {
     "data": {
      "text/plain": [
       "Home.Language.1\n",
       "English    365\n",
       "Other       77\n",
       "Name: count, dtype: int64"
      ]
     },
     "execution_count": 20,
     "metadata": {},
     "output_type": "execute_result"
    }
   ],
   "source": [
    "features['Home.Language.1'].value_counts()"
   ]
  },
  {
   "cell_type": "markdown",
   "metadata": {},
   "source": [
    "заменим на Unknown остальные значения"
   ]
  },
  {
   "cell_type": "code",
   "execution_count": 21,
   "metadata": {},
   "outputs": [],
   "source": [
    "features['Home.Language.1'].fillna('Unknown', inplace=True) "
   ]
  },
  {
   "cell_type": "code",
   "execution_count": 22,
   "metadata": {},
   "outputs": [
    {
     "data": {
      "text/plain": [
       "array(['Yes ', 'No'], dtype=object)"
      ]
     },
     "execution_count": 22,
     "metadata": {},
     "output_type": "execute_result"
    }
   ],
   "source": [
    "# Заполнение пропусков в \"With.PHD.1\"\n",
    "features['With.PHD.1'] = features['With.PHD.1'].fillna('No')\n",
    "features['With.PHD.1'].unique()"
   ]
  },
  {
   "cell_type": "markdown",
   "metadata": {},
   "source": [
    "заменим на No остальные значения"
   ]
  },
  {
   "cell_type": "code",
   "execution_count": 23,
   "metadata": {},
   "outputs": [
    {
     "data": {
      "text/plain": [
       "No..of.Years.in.Uni.at.Time.of.Grant.1\n",
       ">=0 to 5        39.873227\n",
       ">5 to 10        21.974042\n",
       "Less than 0     14.850589\n",
       ">10 to 15       12.466043\n",
       "more than 15    10.836100\n",
       "Name: proportion, dtype: float64"
      ]
     },
     "execution_count": 23,
     "metadata": {},
     "output_type": "execute_result"
    }
   ],
   "source": [
    "# Заполнение пропусков в \"No..of.Years.in.Uni.at.Time.of.Grant.1\"\n",
    "features['No..of.Years.in.Uni.at.Time.of.Grant.1'].value_counts(normalize=True) * 100"
   ]
  },
  {
   "cell_type": "code",
   "execution_count": 24,
   "metadata": {},
   "outputs": [],
   "source": [
    "# Общее количество непропущенных записей\n",
    "total_non_missing = features['No..of.Years.in.Uni.at.Time.of.Grant.1'].dropna().shape[0]\n",
    "\n",
    "# Доли каждой категории\n",
    "category_proportions = features['No..of.Years.in.Uni.at.Time.of.Grant.1'].value_counts() / total_non_missing\n",
    "\n",
    "# Количество пропущенных записей\n",
    "total_missing = features['No..of.Years.in.Uni.at.Time.of.Grant.1'].isnull().sum()\n",
    "\n",
    "# Заполнение пропусков\n",
    "features['No..of.Years.in.Uni.at.Time.of.Grant.1'] = features['No..of.Years.in.Uni.at.Time.of.Grant.1'].fillna(\n",
    "    pd.Series(\n",
    "        np.random.choice(\n",
    "            ['>=0 to 5', '>5 to 10', 'Less than 0', '>10 to 15', 'more than 15'], \n",
    "            size=total_missing,\n",
    "            p=category_proportions\n",
    "        )\n",
    "    )\n",
    ")"
   ]
  },
  {
   "cell_type": "code",
   "execution_count": 25,
   "metadata": {},
   "outputs": [
    {
     "name": "stdout",
     "output_type": "stream",
     "text": [
      "No..of.Years.in.Uni.at.Time.of.Grant.1\n",
      ">=0 to 5        1384\n",
      ">5 to 10         752\n",
      "Less than 0      512\n",
      ">10 to 15        431\n",
      "more than 15     375\n",
      "Name: count, dtype: int64\n"
     ]
    }
   ],
   "source": [
    "print(features['No..of.Years.in.Uni.at.Time.of.Grant.1'].value_counts())"
   ]
  },
  {
   "cell_type": "markdown",
   "metadata": {},
   "source": [
    "- в количественных признаках заполните пропуски средними значениями и нулями (у каждой фичи будет по два варианта)"
   ]
  },
  {
   "cell_type": "markdown",
   "metadata": {},
   "source": [
    "- Преобразуйте категориальные признаки в количественные с помощью прямого кодирования;"
   ]
  },
  {
   "cell_type": "markdown",
   "metadata": {},
   "source": [
    "- Разделите данные на обучающую и тестовую части;"
   ]
  },
  {
   "cell_type": "code",
   "execution_count": 26,
   "metadata": {},
   "outputs": [],
   "source": [
    "features_ohe = pd.get_dummies(features_mean)"
   ]
  },
  {
   "cell_type": "code",
   "execution_count": 27,
   "metadata": {},
   "outputs": [
    {
     "data": {
      "text/plain": [
       "0.7671149836838288"
      ]
     },
     "execution_count": 27,
     "metadata": {},
     "output_type": "execute_result"
    }
   ],
   "source": [
    "features_train, features_test, target_train, target_test = train_test_split(\n",
    "    features_ohe, target, test_size=0.25, random_state=23\n",
    ")\n",
    "model = LogisticRegression(solver='liblinear', random_state=12, class_weight='balanced')\n",
    "model.fit(features_train, target_train)\n",
    "roc_auc_score(target_test, model.predict_proba(features_test)[:, 1])"
   ]
  },
  {
   "cell_type": "markdown",
   "metadata": {},
   "source": [
    "смотрим количественные признаки с NaN заполненные нулями"
   ]
  },
  {
   "cell_type": "code",
   "execution_count": 28,
   "metadata": {},
   "outputs": [],
   "source": [
    "features_ohe_0 = pd.get_dummies(features_zero)"
   ]
  },
  {
   "cell_type": "code",
   "execution_count": 29,
   "metadata": {},
   "outputs": [
    {
     "data": {
      "text/plain": [
       "0.6348860134155185"
      ]
     },
     "execution_count": 29,
     "metadata": {},
     "output_type": "execute_result"
    }
   ],
   "source": [
    "features_train, features_test, target_train, target_test = train_test_split(\n",
    "    features_ohe_0, target, test_size=0.25, random_state=23\n",
    ")\n",
    "model = LogisticRegression(solver='liblinear', random_state=12, class_weight='balanced')\n",
    "model.fit(features_train, target_train)\n",
    "roc_auc_score(target_test, model.predict_proba(features_test)[:, 1])"
   ]
  },
  {
   "cell_type": "markdown",
   "metadata": {},
   "source": [
    "- Используйте масштабирование для получения признаков одинакового масштаба."
   ]
  },
  {
   "cell_type": "code",
   "execution_count": 30,
   "metadata": {},
   "outputs": [],
   "source": [
    "scaler = StandardScaler()\n",
    "scaler.fit(features_train)\n",
    "features_train_sc = scaler.transform(features_train)\n",
    "features_valid_sc = scaler.transform(features_test)"
   ]
  },
  {
   "cell_type": "code",
   "execution_count": 31,
   "metadata": {},
   "outputs": [
    {
     "data": {
      "text/plain": [
       "0.7671149836838288"
      ]
     },
     "execution_count": 31,
     "metadata": {},
     "output_type": "execute_result"
    }
   ],
   "source": [
    "features_train_sc, features_valid_sc, target_train, target_test = train_test_split(\n",
    "    features_ohe, target, test_size=0.25, random_state=23\n",
    ")\n",
    "model = LogisticRegression(solver='liblinear', random_state=12, class_weight='balanced')\n",
    "model.fit(features_train_sc, target_train)\n",
    "roc_auc_score(target_test, model.predict_proba(features_valid_sc)[:, 1])"
   ]
  },
  {
   "cell_type": "code",
   "execution_count": 32,
   "metadata": {},
   "outputs": [
    {
     "data": {
      "text/plain": [
       "0.6348860134155185"
      ]
     },
     "execution_count": 32,
     "metadata": {},
     "output_type": "execute_result"
    }
   ],
   "source": [
    "features_train_sc, features_valid_sc, target_train, target_test = train_test_split(\n",
    "    features_ohe_0, target, test_size=0.25, random_state=23\n",
    ")\n",
    "model = LogisticRegression(solver='liblinear', random_state=12, class_weight='balanced')\n",
    "model.fit(features_train_sc, target_train)\n",
    "roc_auc_score(target_test, model.predict_proba(features_valid_sc)[:, 1])"
   ]
  },
  {
   "cell_type": "markdown",
   "metadata": {},
   "source": [
    "Сравнивая эти два результата, можно сделать следующие выводы о том, что признаки, полученные из features_mean, содержат более полезную информацию для задачи классификации, чем признаки, полученные из features_zero. Масштабирование признаков не оказало существенного влияния на результат в данном случае."
   ]
  },
  {
   "cell_type": "markdown",
   "metadata": {},
   "source": [
    "3. _Изучите распределение по целевой переменной, чтобы выяснить, сбалансированы ли классы. Если классы не сбалансированы, используйте в работе хотя бы один из изученных методов борьбы с дисбалансом классов;_"
   ]
  },
  {
   "cell_type": "code",
   "execution_count": 33,
   "metadata": {},
   "outputs": [
    {
     "data": {
      "text/plain": [
       "Grant.Status\n",
       "0    3209\n",
       "1     839\n",
       "Name: count, dtype: int64"
      ]
     },
     "execution_count": 33,
     "metadata": {},
     "output_type": "execute_result"
    }
   ],
   "source": [
    "df['Grant.Status'].value_counts()"
   ]
  },
  {
   "cell_type": "code",
   "execution_count": 34,
   "metadata": {},
   "outputs": [],
   "source": [
    "def upsample(features, target, repeat=10):\n",
    "    # разделяем объекты разных классов и информацию о них по разным переменным\n",
    "    features_zeros = features[target == 0]\n",
    "    features_ones = features[target == 1]\n",
    "    target_zeros = target[target == 0]\n",
    "    target_ones = target[target == 1]\n",
    "\n",
    "    # дублируем записи объектов более редкого класса\n",
    "    if len(target_ones) > len(target_zeros):\n",
    "        repeat = round(len(target_ones) / len(target_zeros))\n",
    "        features_upsampled = pd.concat([features_ones] + [features_zeros] * repeat)\n",
    "        target_upsampled = pd.concat([target_ones] + [target_zeros] * repeat)\n",
    "    else:\n",
    "        repeat = round(len(target_zeros) / len(target_ones))\n",
    "        features_upsampled = pd.concat([features_zeros] + [features_ones] * repeat)\n",
    "        target_upsampled = pd.concat([target_zeros] + [target_ones] * repeat)\n",
    "    \n",
    "    # перемешиваем объекты\n",
    "    features_upsampled, target_upsampled = shuffle(\n",
    "        features_upsampled, target_upsampled, random_state=23)\n",
    "    \n",
    "    return features_upsampled, target_upsampled"
   ]
  },
  {
   "cell_type": "code",
   "execution_count": 35,
   "metadata": {},
   "outputs": [],
   "source": [
    "features_train_upsampled, target_train_upsampled = upsample(features_train, target_train)"
   ]
  },
  {
   "cell_type": "code",
   "execution_count": 36,
   "metadata": {},
   "outputs": [
    {
     "data": {
      "text/plain": [
       "Grant.Status\n",
       "1    2460\n",
       "0    2421\n",
       "Name: count, dtype: int64"
      ]
     },
     "execution_count": 36,
     "metadata": {},
     "output_type": "execute_result"
    }
   ],
   "source": [
    "target_train_upsampled.value_counts()"
   ]
  },
  {
   "cell_type": "code",
   "execution_count": 37,
   "metadata": {},
   "outputs": [
    {
     "data": {
      "text/plain": [
       "0.7671149836838288"
      ]
     },
     "execution_count": 37,
     "metadata": {},
     "output_type": "execute_result"
    }
   ],
   "source": [
    "features_train_upsampled, features_test, target_train_upsampled, target_test = train_test_split(\n",
    "    features_ohe, target, test_size=0.25, random_state=23\n",
    ")\n",
    "model = LogisticRegression(solver='liblinear', random_state=12, class_weight='balanced')\n",
    "model.fit(features_train_upsampled, target_train_upsampled)\n",
    "roc_auc_score(target_test, model.predict_proba(features_test)[:, 1])"
   ]
  },
  {
   "cell_type": "markdown",
   "metadata": {},
   "source": [
    "Применение upsampling к тренировочным данным не оказало существенного влияния на качество модели, так как значение ROC-AUC осталось на том же уровне"
   ]
  },
  {
   "cell_type": "markdown",
   "metadata": {},
   "source": [
    "4. _Обучите модели и выберите лучшую:_\n",
    "\n",
    "Обучите модель логистической регрессии, используя кросс-валидацию. Оцените ее качество с помощью метрики rocauc. Выведите топ-10 признаков по важности, согласно обученной модели;"
   ]
  },
  {
   "cell_type": "code",
   "execution_count": 38,
   "metadata": {},
   "outputs": [
    {
     "data": {
      "text/plain": [
       "0.7915212563451778"
      ]
     },
     "execution_count": 38,
     "metadata": {},
     "output_type": "execute_result"
    }
   ],
   "source": [
    "features_train_upsampled, features_test, target_train_upsampled, target_test = train_test_split(\n",
    "    features_ohe, target, test_size=0.25, random_state=23\n",
    ")\n",
    "model = LogisticRegressionCV(solver='liblinear', random_state=12, class_weight='balanced')\n",
    "model.fit(features_train_upsampled, target_train_upsampled)\n",
    "roc_auc_score(target_test, model.predict_proba(features_test)[:, 1])"
   ]
  },
  {
   "cell_type": "code",
   "execution_count": 39,
   "metadata": {},
   "outputs": [
    {
     "name": "stdout",
     "output_type": "stream",
     "text": [
      "\n",
      "Топ-10 признаков по важности:\n",
      "                                 feature  importance\n",
      "24          Number.of.Successful.Grant.1    0.659722\n",
      "25        Number.of.Unsuccessful.Grant.1    0.528271\n",
      "269  Contract.Value.Band...see.note.A_A     0.470718\n",
      "261              Grant.Category.Code_30B    0.333512\n",
      "256              Grant.Category.Code_10A    0.247967\n",
      "272  Contract.Value.Band...see.note.A_D     0.241869\n",
      "275  Contract.Value.Band...see.note.A_G     0.215805\n",
      "170                      Sponsor.Code_2B    0.182034\n",
      "273  Contract.Value.Band...see.note.A_E     0.173888\n",
      "274  Contract.Value.Band...see.note.A_F     0.132566\n"
     ]
    }
   ],
   "source": [
    "feature_importances = pd.DataFrame(\n",
    "    zip(list(features_ohe.columns), list(abs(model.coef_[0]))), \n",
    "    columns=['feature', 'importance']\n",
    ").sort_values(by=['importance'], ascending=False)\n",
    "\n",
    "print('\\nТоп-10 признаков по важности:')\n",
    "print(feature_importances.head(10))"
   ]
  },
  {
   "cell_type": "markdown",
   "metadata": {},
   "source": [
    "В модели логистической регрессии с использованием кросс-валидации ROC-AUC выше, чем в предыдущих примерах и близок к лучшему результату"
   ]
  },
  {
   "cell_type": "markdown",
   "metadata": {},
   "source": [
    "Обучите модель случайного леса\n",
    "\n",
    "Для подбора гиперпараметров и кросс-валидации используйте структуру GridSearchCV,\n",
    "\n",
    "Выберите наилучший вариант случайного леса и выведите его параметры,\n",
    "\n",
    "Оцените качество выбранной модели с помощью метрики rocauc,\n",
    "\n",
    "Выведите топ-10 признаков по важности. Используйте атрибут feature_importances_, чтобы узнать важность признаков в деревянных моделях."
   ]
  },
  {
   "cell_type": "code",
   "execution_count": 40,
   "metadata": {},
   "outputs": [
    {
     "name": "stdout",
     "output_type": "stream",
     "text": [
      "ROC AUC score: 0.8693289974619289\n",
      "\n",
      "Топ-10 признаков по важности:\n",
      "                                 feature  importance\n",
      "25        Number.of.Unsuccessful.Grant.1    0.115346\n",
      "10                            SEO.Code.1    0.041991\n",
      "22                            Dept.No..1    0.041321\n",
      "24          Number.of.Successful.Grant.1    0.040495\n",
      "0                            RFCD.Code.1    0.039849\n",
      "20                           Person.ID.1    0.039580\n",
      "27                                   A.1    0.029704\n",
      "28                                   B.1    0.029563\n",
      "21                       Year.of.Birth.1    0.028197\n",
      "269  Contract.Value.Band...see.note.A_A     0.027404\n"
     ]
    }
   ],
   "source": [
    "# Определение диапазона гиперпараметров для поиска\n",
    "param_grid = {\n",
    "    'n_estimators': [50]\n",
    "}\n",
    "\n",
    "# Создание экземпляра модели случайного леса и GridSearchCV\n",
    "rf = RandomForestClassifier(random_state=42)\n",
    "grid_search = GridSearchCV(rf, param_grid=param_grid, cv=5, scoring='roc_auc')\n",
    "\n",
    "# Обучение модели с помощью GridSearchCV\n",
    "grid_search.fit(features_train_sc, target_train)\n",
    "\n",
    "# Создание и обучение модели с лучшими гиперпараметрами\n",
    "best_rf = RandomForestClassifier(random_state=42, **grid_search.best_params_)\n",
    "best_rf.fit(features_train_sc, target_train)\n",
    "\n",
    "# Оценка качества модели с помощью метрики ROC AUC\n",
    "roc_auc = roc_auc_score(target_test, best_rf.predict_proba(features_valid_sc)[:, 1])\n",
    "print('ROC AUC score:', roc_auc)\n",
    "\n",
    "# Вывод топ-10 признаков по важности\n",
    "feature_importances = pd.DataFrame(\n",
    "    zip(list(features_ohe.columns), best_rf.feature_importances_),\n",
    "    columns=['feature', 'importance']\n",
    ").sort_values(by=['importance'], ascending=False)\n",
    "\n",
    "print('\\nТоп-10 признаков по важности:')\n",
    "print(feature_importances.head(10))\n"
   ]
  },
  {
   "cell_type": "markdown",
   "metadata": {},
   "source": [
    "5. _Напишите вывод, в котором будет содержаться информация о том, какие признаки важны согласно обеим моделям, и какая модель оказалась наилучшей для решения поставленной задачи._"
   ]
  },
  {
   "cell_type": "markdown",
   "metadata": {},
   "source": [
    "Согласно представленному анализу, можно сделать следующие выводы:\n",
    "\n",
    " Ключевые признаки, важные для обеих моделей:\n",
    "   - Number.of.Unsuccessful.Grant.1 - количество неуспешных заявок на гранты\n",
    "   - Number.of.Successful.Grant.1 - количество успешных заявок на гранты\n",
    "   - Contract.Value.Band...see.note.A_Unknown - неизвестный диапазон стоимости контракта\n",
    "\n",
    "Эти признаки, по-видимому, являются наиболее значимыми предикторами успешности заявок на гранты в данных.\n",
    "\n",
    " Сравнение моделей:\n",
    "   - Модель логистической регрессии показала ROC AUC score 0.76, что является достаточно хорошим результатом.\n",
    "   - Модель случайного леса продемонстрировала более высокий ROC AUC score 0.87, что указывает на ее лучшую производительность по сравнению с логистической регрессией.\n",
    "\n",
    "Таким образом, модель случайного леса оказалась наилучшей для решения поставленной задачи. Она смогла достичь более высокой точности предсказания успешности заявок на гранты, вероятно, за счет того, что случайный лес лучше справляется с нелинейными зависимостями и взаимодействиями между признаками по сравнению с линейной моделью логистической регрессии.\n",
    "\n",
    "Ключевыми факторами, влияющими на успешность заявок на гранты, согласно обеим моделям, являются количество как успешных, так и неуспешных прошлых заявок, а также неизвестный диапазон стоимости контракта. Эта информация может быть полезна для лучшего понимания процесса получения грантов и принятия более обоснованных решений."
   ]
  },
  {
   "cell_type": "markdown",
   "metadata": {},
   "source": [
    "___Задание ПРО___\n",
    "\n",
    "Основные цели этого задания:\n",
    "\n",
    "Познакомиться с фреймворком CatBoost\n",
    "\n",
    "Научиться готовить данные для обучения с помощью него\n",
    "\n",
    "Попрактиковаться в работе с CatBoost\n",
    "\n",
    "Задача: по различным признакам, связанным с заявкой на грант, предсказать, будет ли заявка принята, используя для обучения модели фреймворк CatBoost.\n",
    "\n",
    "Обучите модель с помощью библиотеки CatBoost. Узнать, как называются параметры, нужные для настройки модели, можно на странице документации, посвященной классификатору. Подберите такие гиперпараметры модели, чтобы ее качество (по метрике RocAuc) на валидационной части было не ниже, а лучше и выше качества прогноза, полученного Вами в обычной версии задания, с помощью самостоятельной предобработки данных (от 0.9).\n",
    "\n",
    "Напишите вывод, в котором сформулируйте свои наблюдения относительно качества, а также времени, необходимом для предобработки данных и обучении модели."
   ]
  },
  {
   "cell_type": "code",
   "execution_count": 41,
   "metadata": {},
   "outputs": [
    {
     "name": "stdout",
     "output_type": "stream",
     "text": [
      "0:\tlearn: 0.5892110\ttest: 0.5890831\tbest: 0.5890831 (0)\ttotal: 95ms\tremaining: 47.4s\n",
      "1:\tlearn: 0.5049216\ttest: 0.5063235\tbest: 0.5063235 (1)\ttotal: 97ms\tremaining: 24.1s\n",
      "2:\tlearn: 0.4708814\ttest: 0.4788788\tbest: 0.4788788 (2)\ttotal: 99.7ms\tremaining: 16.5s\n",
      "3:\tlearn: 0.4403865\ttest: 0.4567542\tbest: 0.4567542 (3)\ttotal: 102ms\tremaining: 12.7s\n",
      "4:\tlearn: 0.4226560\ttest: 0.4446922\tbest: 0.4446922 (4)\ttotal: 106ms\tremaining: 10.5s\n",
      "5:\tlearn: 0.4087976\ttest: 0.4318215\tbest: 0.4318215 (5)\ttotal: 108ms\tremaining: 8.91s\n",
      "6:\tlearn: 0.4004681\ttest: 0.4246140\tbest: 0.4246140 (6)\ttotal: 110ms\tremaining: 7.74s\n",
      "7:\tlearn: 0.3955390\ttest: 0.4219120\tbest: 0.4219120 (7)\ttotal: 112ms\tremaining: 6.88s\n",
      "8:\tlearn: 0.3878355\ttest: 0.4171936\tbest: 0.4171936 (8)\ttotal: 114ms\tremaining: 6.22s\n",
      "9:\tlearn: 0.3827196\ttest: 0.4112955\tbest: 0.4112955 (9)\ttotal: 116ms\tremaining: 5.67s\n",
      "10:\tlearn: 0.3744792\ttest: 0.4029246\tbest: 0.4029246 (10)\ttotal: 118ms\tremaining: 5.23s\n",
      "11:\tlearn: 0.3704294\ttest: 0.3993158\tbest: 0.3993158 (11)\ttotal: 120ms\tremaining: 4.89s\n",
      "12:\tlearn: 0.3666714\ttest: 0.3958772\tbest: 0.3958772 (12)\ttotal: 122ms\tremaining: 4.58s\n",
      "13:\tlearn: 0.3649278\ttest: 0.3934595\tbest: 0.3934595 (13)\ttotal: 125ms\tremaining: 4.32s\n",
      "14:\tlearn: 0.3620855\ttest: 0.3902147\tbest: 0.3902147 (14)\ttotal: 126ms\tremaining: 4.09s\n",
      "15:\tlearn: 0.3600765\ttest: 0.3881119\tbest: 0.3881119 (15)\ttotal: 129ms\tremaining: 3.89s\n",
      "16:\tlearn: 0.3582160\ttest: 0.3861721\tbest: 0.3861721 (16)\ttotal: 131ms\tremaining: 3.71s\n",
      "17:\tlearn: 0.3537535\ttest: 0.3814761\tbest: 0.3814761 (17)\ttotal: 133ms\tremaining: 3.55s\n",
      "18:\tlearn: 0.3516233\ttest: 0.3811062\tbest: 0.3811062 (18)\ttotal: 135ms\tremaining: 3.43s\n",
      "19:\tlearn: 0.3501557\ttest: 0.3797095\tbest: 0.3797095 (19)\ttotal: 138ms\tremaining: 3.31s\n",
      "20:\tlearn: 0.3476399\ttest: 0.3769703\tbest: 0.3769703 (20)\ttotal: 140ms\tremaining: 3.19s\n",
      "21:\tlearn: 0.3461227\ttest: 0.3763308\tbest: 0.3763308 (21)\ttotal: 142ms\tremaining: 3.08s\n",
      "22:\tlearn: 0.3441337\ttest: 0.3744373\tbest: 0.3744373 (22)\ttotal: 143ms\tremaining: 2.97s\n",
      "23:\tlearn: 0.3422891\ttest: 0.3746746\tbest: 0.3744373 (22)\ttotal: 145ms\tremaining: 2.87s\n",
      "24:\tlearn: 0.3384559\ttest: 0.3707324\tbest: 0.3707324 (24)\ttotal: 146ms\tremaining: 2.78s\n",
      "25:\tlearn: 0.3358839\ttest: 0.3683269\tbest: 0.3683269 (25)\ttotal: 148ms\tremaining: 2.7s\n",
      "26:\tlearn: 0.3349620\ttest: 0.3681531\tbest: 0.3681531 (26)\ttotal: 151ms\tremaining: 2.64s\n",
      "27:\tlearn: 0.3329735\ttest: 0.3670990\tbest: 0.3670990 (27)\ttotal: 153ms\tremaining: 2.57s\n",
      "28:\tlearn: 0.3301275\ttest: 0.3648644\tbest: 0.3648644 (28)\ttotal: 154ms\tremaining: 2.51s\n",
      "29:\tlearn: 0.3295455\ttest: 0.3643866\tbest: 0.3643866 (29)\ttotal: 156ms\tremaining: 2.44s\n",
      "30:\tlearn: 0.3271517\ttest: 0.3628732\tbest: 0.3628732 (30)\ttotal: 157ms\tremaining: 2.38s\n",
      "31:\tlearn: 0.3257996\ttest: 0.3619489\tbest: 0.3619489 (31)\ttotal: 159ms\tremaining: 2.33s\n",
      "32:\tlearn: 0.3247735\ttest: 0.3604904\tbest: 0.3604904 (32)\ttotal: 161ms\tremaining: 2.27s\n",
      "33:\tlearn: 0.3226941\ttest: 0.3592115\tbest: 0.3592115 (33)\ttotal: 162ms\tremaining: 2.22s\n",
      "34:\tlearn: 0.3218158\ttest: 0.3586397\tbest: 0.3586397 (34)\ttotal: 164ms\tremaining: 2.18s\n",
      "35:\tlearn: 0.3206202\ttest: 0.3587490\tbest: 0.3586397 (34)\ttotal: 166ms\tremaining: 2.14s\n",
      "36:\tlearn: 0.3198804\ttest: 0.3582347\tbest: 0.3582347 (36)\ttotal: 168ms\tremaining: 2.1s\n",
      "37:\tlearn: 0.3188591\ttest: 0.3573900\tbest: 0.3573900 (37)\ttotal: 170ms\tremaining: 2.06s\n",
      "38:\tlearn: 0.3177078\ttest: 0.3562200\tbest: 0.3562200 (38)\ttotal: 171ms\tremaining: 2.02s\n",
      "39:\tlearn: 0.3169484\ttest: 0.3554337\tbest: 0.3554337 (39)\ttotal: 173ms\tremaining: 1.99s\n",
      "40:\tlearn: 0.3145323\ttest: 0.3535349\tbest: 0.3535349 (40)\ttotal: 175ms\tremaining: 1.95s\n",
      "41:\tlearn: 0.3137404\ttest: 0.3534716\tbest: 0.3534716 (41)\ttotal: 176ms\tremaining: 1.92s\n",
      "42:\tlearn: 0.3120279\ttest: 0.3518180\tbest: 0.3518180 (42)\ttotal: 178ms\tremaining: 1.89s\n",
      "43:\tlearn: 0.3117071\ttest: 0.3518148\tbest: 0.3518148 (43)\ttotal: 179ms\tremaining: 1.86s\n",
      "44:\tlearn: 0.3101856\ttest: 0.3506031\tbest: 0.3506031 (44)\ttotal: 181ms\tremaining: 1.83s\n",
      "45:\tlearn: 0.3084432\ttest: 0.3497518\tbest: 0.3497518 (45)\ttotal: 183ms\tremaining: 1.81s\n",
      "46:\tlearn: 0.3073661\ttest: 0.3489475\tbest: 0.3489475 (46)\ttotal: 185ms\tremaining: 1.78s\n",
      "47:\tlearn: 0.3061082\ttest: 0.3490761\tbest: 0.3489475 (46)\ttotal: 187ms\tremaining: 1.76s\n",
      "48:\tlearn: 0.3052507\ttest: 0.3483643\tbest: 0.3483643 (48)\ttotal: 188ms\tremaining: 1.73s\n",
      "49:\tlearn: 0.3043992\ttest: 0.3485544\tbest: 0.3483643 (48)\ttotal: 190ms\tremaining: 1.71s\n",
      "50:\tlearn: 0.3040466\ttest: 0.3486646\tbest: 0.3483643 (48)\ttotal: 191ms\tremaining: 1.69s\n",
      "51:\tlearn: 0.3028250\ttest: 0.3470674\tbest: 0.3470674 (51)\ttotal: 193ms\tremaining: 1.66s\n",
      "52:\tlearn: 0.3022437\ttest: 0.3470231\tbest: 0.3470231 (52)\ttotal: 195ms\tremaining: 1.64s\n",
      "53:\tlearn: 0.3007071\ttest: 0.3457521\tbest: 0.3457521 (53)\ttotal: 196ms\tremaining: 1.62s\n",
      "54:\tlearn: 0.2997991\ttest: 0.3447265\tbest: 0.3447265 (54)\ttotal: 199ms\tremaining: 1.61s\n",
      "55:\tlearn: 0.2989897\ttest: 0.3427700\tbest: 0.3427700 (55)\ttotal: 201ms\tremaining: 1.59s\n",
      "56:\tlearn: 0.2981039\ttest: 0.3421148\tbest: 0.3421148 (56)\ttotal: 202ms\tremaining: 1.57s\n",
      "57:\tlearn: 0.2968703\ttest: 0.3417847\tbest: 0.3417847 (57)\ttotal: 204ms\tremaining: 1.55s\n",
      "58:\tlearn: 0.2957897\ttest: 0.3409124\tbest: 0.3409124 (58)\ttotal: 205ms\tremaining: 1.53s\n",
      "59:\tlearn: 0.2949542\ttest: 0.3407345\tbest: 0.3407345 (59)\ttotal: 207ms\tremaining: 1.51s\n",
      "60:\tlearn: 0.2937641\ttest: 0.3401721\tbest: 0.3401721 (60)\ttotal: 208ms\tremaining: 1.5s\n",
      "61:\tlearn: 0.2931372\ttest: 0.3391902\tbest: 0.3391902 (61)\ttotal: 210ms\tremaining: 1.48s\n",
      "62:\tlearn: 0.2924084\ttest: 0.3391175\tbest: 0.3391175 (62)\ttotal: 211ms\tremaining: 1.47s\n",
      "63:\tlearn: 0.2921212\ttest: 0.3391259\tbest: 0.3391175 (62)\ttotal: 213ms\tremaining: 1.45s\n",
      "64:\tlearn: 0.2914990\ttest: 0.3384505\tbest: 0.3384505 (64)\ttotal: 215ms\tremaining: 1.44s\n",
      "65:\tlearn: 0.2904797\ttest: 0.3379087\tbest: 0.3379087 (65)\ttotal: 217ms\tremaining: 1.43s\n",
      "66:\tlearn: 0.2896311\ttest: 0.3375996\tbest: 0.3375996 (66)\ttotal: 219ms\tremaining: 1.41s\n",
      "67:\tlearn: 0.2884589\ttest: 0.3368886\tbest: 0.3368886 (67)\ttotal: 220ms\tremaining: 1.4s\n",
      "68:\tlearn: 0.2881998\ttest: 0.3368917\tbest: 0.3368886 (67)\ttotal: 222ms\tremaining: 1.38s\n",
      "69:\tlearn: 0.2872802\ttest: 0.3360958\tbest: 0.3360958 (69)\ttotal: 223ms\tremaining: 1.37s\n",
      "70:\tlearn: 0.2862671\ttest: 0.3352605\tbest: 0.3352605 (70)\ttotal: 225ms\tremaining: 1.36s\n",
      "71:\tlearn: 0.2855102\ttest: 0.3358158\tbest: 0.3352605 (70)\ttotal: 226ms\tremaining: 1.34s\n",
      "72:\tlearn: 0.2848473\ttest: 0.3351122\tbest: 0.3351122 (72)\ttotal: 228ms\tremaining: 1.33s\n",
      "73:\tlearn: 0.2846141\ttest: 0.3351176\tbest: 0.3351122 (72)\ttotal: 230ms\tremaining: 1.32s\n",
      "74:\tlearn: 0.2839698\ttest: 0.3339171\tbest: 0.3339171 (74)\ttotal: 232ms\tremaining: 1.31s\n",
      "75:\tlearn: 0.2835476\ttest: 0.3337238\tbest: 0.3337238 (75)\ttotal: 233ms\tremaining: 1.3s\n",
      "76:\tlearn: 0.2832308\ttest: 0.3338534\tbest: 0.3337238 (75)\ttotal: 235ms\tremaining: 1.29s\n",
      "77:\tlearn: 0.2824507\ttest: 0.3335560\tbest: 0.3335560 (77)\ttotal: 237ms\tremaining: 1.28s\n",
      "78:\tlearn: 0.2818888\ttest: 0.3331171\tbest: 0.3331171 (78)\ttotal: 238ms\tremaining: 1.27s\n",
      "79:\tlearn: 0.2809347\ttest: 0.3325965\tbest: 0.3325965 (79)\ttotal: 240ms\tremaining: 1.26s\n",
      "80:\tlearn: 0.2804333\ttest: 0.3325912\tbest: 0.3325912 (80)\ttotal: 241ms\tremaining: 1.25s\n",
      "81:\tlearn: 0.2795459\ttest: 0.3311697\tbest: 0.3311697 (81)\ttotal: 243ms\tremaining: 1.24s\n",
      "82:\tlearn: 0.2787159\ttest: 0.3305904\tbest: 0.3305904 (82)\ttotal: 245ms\tremaining: 1.23s\n",
      "83:\tlearn: 0.2781446\ttest: 0.3303607\tbest: 0.3303607 (83)\ttotal: 247ms\tremaining: 1.22s\n",
      "84:\tlearn: 0.2774124\ttest: 0.3298158\tbest: 0.3298158 (84)\ttotal: 249ms\tremaining: 1.21s\n",
      "85:\tlearn: 0.2772066\ttest: 0.3298255\tbest: 0.3298158 (84)\ttotal: 250ms\tremaining: 1.21s\n",
      "86:\tlearn: 0.2766845\ttest: 0.3298124\tbest: 0.3298124 (86)\ttotal: 252ms\tremaining: 1.2s\n",
      "87:\tlearn: 0.2764263\ttest: 0.3298274\tbest: 0.3298124 (86)\ttotal: 254ms\tremaining: 1.19s\n",
      "88:\tlearn: 0.2754229\ttest: 0.3280458\tbest: 0.3280458 (88)\ttotal: 255ms\tremaining: 1.18s\n",
      "89:\tlearn: 0.2751163\ttest: 0.3281369\tbest: 0.3280458 (88)\ttotal: 257ms\tremaining: 1.17s\n",
      "90:\tlearn: 0.2748303\ttest: 0.3281747\tbest: 0.3280458 (88)\ttotal: 258ms\tremaining: 1.16s\n",
      "91:\tlearn: 0.2737262\ttest: 0.3274957\tbest: 0.3274957 (91)\ttotal: 261ms\tremaining: 1.16s\n",
      "92:\tlearn: 0.2730772\ttest: 0.3268920\tbest: 0.3268920 (92)\ttotal: 263ms\tremaining: 1.15s\n",
      "93:\tlearn: 0.2724271\ttest: 0.3260277\tbest: 0.3260277 (93)\ttotal: 265ms\tremaining: 1.14s\n",
      "94:\tlearn: 0.2722461\ttest: 0.3260368\tbest: 0.3260277 (93)\ttotal: 267ms\tremaining: 1.14s\n",
      "95:\tlearn: 0.2717000\ttest: 0.3246645\tbest: 0.3246645 (95)\ttotal: 268ms\tremaining: 1.13s\n",
      "96:\tlearn: 0.2708566\ttest: 0.3241446\tbest: 0.3241446 (96)\ttotal: 270ms\tremaining: 1.12s\n",
      "97:\tlearn: 0.2704410\ttest: 0.3239907\tbest: 0.3239907 (97)\ttotal: 271ms\tremaining: 1.11s\n",
      "98:\tlearn: 0.2693369\ttest: 0.3244327\tbest: 0.3239907 (97)\ttotal: 273ms\tremaining: 1.1s\n",
      "99:\tlearn: 0.2691289\ttest: 0.3245261\tbest: 0.3239907 (97)\ttotal: 275ms\tremaining: 1.1s\n",
      "100:\tlearn: 0.2683013\ttest: 0.3237839\tbest: 0.3237839 (100)\ttotal: 277ms\tremaining: 1.09s\n",
      "101:\tlearn: 0.2679653\ttest: 0.3237162\tbest: 0.3237162 (101)\ttotal: 279ms\tremaining: 1.09s\n",
      "102:\tlearn: 0.2669165\ttest: 0.3235839\tbest: 0.3235839 (102)\ttotal: 281ms\tremaining: 1.08s\n",
      "103:\tlearn: 0.2661798\ttest: 0.3226680\tbest: 0.3226680 (103)\ttotal: 283ms\tremaining: 1.08s\n",
      "104:\tlearn: 0.2658834\ttest: 0.3227494\tbest: 0.3226680 (103)\ttotal: 286ms\tremaining: 1.07s\n",
      "105:\tlearn: 0.2657223\ttest: 0.3224873\tbest: 0.3224873 (105)\ttotal: 288ms\tremaining: 1.07s\n",
      "106:\tlearn: 0.2650983\ttest: 0.3224051\tbest: 0.3224051 (106)\ttotal: 289ms\tremaining: 1.06s\n",
      "107:\tlearn: 0.2648090\ttest: 0.3226154\tbest: 0.3224051 (106)\ttotal: 291ms\tremaining: 1.06s\n",
      "108:\tlearn: 0.2642721\ttest: 0.3225961\tbest: 0.3224051 (106)\ttotal: 293ms\tremaining: 1.05s\n",
      "109:\tlearn: 0.2641247\ttest: 0.3228194\tbest: 0.3224051 (106)\ttotal: 295ms\tremaining: 1.05s\n",
      "110:\tlearn: 0.2636661\ttest: 0.3223507\tbest: 0.3223507 (110)\ttotal: 297ms\tremaining: 1.04s\n",
      "111:\tlearn: 0.2635216\ttest: 0.3223588\tbest: 0.3223507 (110)\ttotal: 298ms\tremaining: 1.03s\n",
      "112:\tlearn: 0.2632907\ttest: 0.3224038\tbest: 0.3223507 (110)\ttotal: 300ms\tremaining: 1.03s\n",
      "113:\tlearn: 0.2629302\ttest: 0.3226303\tbest: 0.3223507 (110)\ttotal: 301ms\tremaining: 1.02s\n",
      "114:\tlearn: 0.2627297\ttest: 0.3225911\tbest: 0.3223507 (110)\ttotal: 303ms\tremaining: 1.01s\n",
      "115:\tlearn: 0.2622623\ttest: 0.3221596\tbest: 0.3221596 (115)\ttotal: 305ms\tremaining: 1.01s\n",
      "116:\tlearn: 0.2616115\ttest: 0.3221643\tbest: 0.3221596 (115)\ttotal: 306ms\tremaining: 1s\n",
      "117:\tlearn: 0.2614394\ttest: 0.3221792\tbest: 0.3221596 (115)\ttotal: 309ms\tremaining: 999ms\n",
      "118:\tlearn: 0.2609945\ttest: 0.3219276\tbest: 0.3219276 (118)\ttotal: 311ms\tremaining: 996ms\n",
      "119:\tlearn: 0.2601109\ttest: 0.3216260\tbest: 0.3216260 (119)\ttotal: 313ms\tremaining: 990ms\n",
      "120:\tlearn: 0.2599596\ttest: 0.3217511\tbest: 0.3216260 (119)\ttotal: 314ms\tremaining: 985ms\n",
      "121:\tlearn: 0.2595753\ttest: 0.3205808\tbest: 0.3205808 (121)\ttotal: 316ms\tremaining: 979ms\n",
      "122:\tlearn: 0.2594481\ttest: 0.3205901\tbest: 0.3205808 (121)\ttotal: 318ms\tremaining: 974ms\n",
      "123:\tlearn: 0.2593385\ttest: 0.3203905\tbest: 0.3203905 (123)\ttotal: 319ms\tremaining: 968ms\n",
      "124:\tlearn: 0.2587457\ttest: 0.3199264\tbest: 0.3199264 (124)\ttotal: 321ms\tremaining: 962ms\n",
      "125:\tlearn: 0.2586300\ttest: 0.3199351\tbest: 0.3199264 (124)\ttotal: 322ms\tremaining: 957ms\n",
      "126:\tlearn: 0.2585150\ttest: 0.3199443\tbest: 0.3199264 (124)\ttotal: 324ms\tremaining: 953ms\n",
      "127:\tlearn: 0.2583931\ttest: 0.3199551\tbest: 0.3199264 (124)\ttotal: 327ms\tremaining: 949ms\n",
      "128:\tlearn: 0.2582172\ttest: 0.3199610\tbest: 0.3199264 (124)\ttotal: 328ms\tremaining: 944ms\n",
      "129:\tlearn: 0.2576239\ttest: 0.3187305\tbest: 0.3187305 (129)\ttotal: 330ms\tremaining: 939ms\n",
      "130:\tlearn: 0.2571614\ttest: 0.3184442\tbest: 0.3184442 (130)\ttotal: 331ms\tremaining: 934ms\n",
      "131:\tlearn: 0.2567102\ttest: 0.3181441\tbest: 0.3181441 (131)\ttotal: 333ms\tremaining: 929ms\n",
      "132:\tlearn: 0.2564028\ttest: 0.3180814\tbest: 0.3180814 (132)\ttotal: 335ms\tremaining: 923ms\n",
      "133:\tlearn: 0.2562506\ttest: 0.3180227\tbest: 0.3180227 (133)\ttotal: 336ms\tremaining: 918ms\n",
      "134:\tlearn: 0.2551620\ttest: 0.3179300\tbest: 0.3179300 (134)\ttotal: 338ms\tremaining: 913ms\n",
      "135:\tlearn: 0.2548835\ttest: 0.3179710\tbest: 0.3179300 (134)\ttotal: 340ms\tremaining: 909ms\n",
      "136:\tlearn: 0.2542128\ttest: 0.3176442\tbest: 0.3176442 (136)\ttotal: 342ms\tremaining: 907ms\n",
      "137:\tlearn: 0.2537383\ttest: 0.3179348\tbest: 0.3176442 (136)\ttotal: 344ms\tremaining: 904ms\n",
      "138:\tlearn: 0.2533245\ttest: 0.3179177\tbest: 0.3176442 (136)\ttotal: 346ms\tremaining: 899ms\n",
      "139:\tlearn: 0.2532150\ttest: 0.3181282\tbest: 0.3176442 (136)\ttotal: 348ms\tremaining: 896ms\n",
      "140:\tlearn: 0.2526092\ttest: 0.3171443\tbest: 0.3171443 (140)\ttotal: 350ms\tremaining: 892ms\n",
      "141:\tlearn: 0.2523736\ttest: 0.3171290\tbest: 0.3171290 (141)\ttotal: 352ms\tremaining: 887ms\n",
      "142:\tlearn: 0.2520647\ttest: 0.3168775\tbest: 0.3168775 (142)\ttotal: 354ms\tremaining: 883ms\n",
      "143:\tlearn: 0.2517355\ttest: 0.3166683\tbest: 0.3166683 (143)\ttotal: 356ms\tremaining: 880ms\n",
      "144:\tlearn: 0.2511636\ttest: 0.3162487\tbest: 0.3162487 (144)\ttotal: 358ms\tremaining: 876ms\n",
      "145:\tlearn: 0.2509739\ttest: 0.3159075\tbest: 0.3159075 (145)\ttotal: 359ms\tremaining: 872ms\n",
      "146:\tlearn: 0.2506624\ttest: 0.3151418\tbest: 0.3151418 (146)\ttotal: 361ms\tremaining: 867ms\n",
      "147:\tlearn: 0.2502177\ttest: 0.3148737\tbest: 0.3148737 (147)\ttotal: 363ms\tremaining: 862ms\n",
      "148:\tlearn: 0.2498993\ttest: 0.3146957\tbest: 0.3146957 (148)\ttotal: 364ms\tremaining: 858ms\n",
      "149:\tlearn: 0.2494143\ttest: 0.3142588\tbest: 0.3142588 (149)\ttotal: 366ms\tremaining: 854ms\n",
      "150:\tlearn: 0.2487792\ttest: 0.3131008\tbest: 0.3131008 (150)\ttotal: 367ms\tremaining: 849ms\n",
      "151:\tlearn: 0.2486331\ttest: 0.3134171\tbest: 0.3131008 (150)\ttotal: 369ms\tremaining: 845ms\n",
      "152:\tlearn: 0.2478270\ttest: 0.3131504\tbest: 0.3131008 (150)\ttotal: 371ms\tremaining: 842ms\n",
      "153:\tlearn: 0.2475893\ttest: 0.3131888\tbest: 0.3131008 (150)\ttotal: 373ms\tremaining: 838ms\n",
      "154:\tlearn: 0.2474796\ttest: 0.3131942\tbest: 0.3131008 (150)\ttotal: 375ms\tremaining: 834ms\n",
      "155:\tlearn: 0.2469330\ttest: 0.3126161\tbest: 0.3126161 (155)\ttotal: 376ms\tremaining: 830ms\n",
      "156:\tlearn: 0.2466665\ttest: 0.3123889\tbest: 0.3123889 (156)\ttotal: 378ms\tremaining: 826ms\n",
      "157:\tlearn: 0.2459219\ttest: 0.3135654\tbest: 0.3123889 (156)\ttotal: 379ms\tremaining: 821ms\n",
      "158:\tlearn: 0.2458289\ttest: 0.3135664\tbest: 0.3123889 (156)\ttotal: 381ms\tremaining: 817ms\n",
      "159:\tlearn: 0.2454074\ttest: 0.3136321\tbest: 0.3123889 (156)\ttotal: 383ms\tremaining: 813ms\n",
      "160:\tlearn: 0.2448481\ttest: 0.3137231\tbest: 0.3123889 (156)\ttotal: 384ms\tremaining: 809ms\n",
      "161:\tlearn: 0.2447772\ttest: 0.3137252\tbest: 0.3123889 (156)\ttotal: 386ms\tremaining: 805ms\n",
      "162:\tlearn: 0.2443292\ttest: 0.3132954\tbest: 0.3123889 (156)\ttotal: 388ms\tremaining: 803ms\n",
      "163:\tlearn: 0.2442071\ttest: 0.3134059\tbest: 0.3123889 (156)\ttotal: 390ms\tremaining: 799ms\n",
      "164:\tlearn: 0.2440459\ttest: 0.3133987\tbest: 0.3123889 (156)\ttotal: 392ms\tremaining: 795ms\n",
      "165:\tlearn: 0.2437733\ttest: 0.3131029\tbest: 0.3123889 (156)\ttotal: 393ms\tremaining: 791ms\n",
      "166:\tlearn: 0.2436068\ttest: 0.3130907\tbest: 0.3123889 (156)\ttotal: 395ms\tremaining: 788ms\n",
      "167:\tlearn: 0.2430196\ttest: 0.3126936\tbest: 0.3123889 (156)\ttotal: 397ms\tremaining: 784ms\n",
      "168:\tlearn: 0.2426879\ttest: 0.3126565\tbest: 0.3123889 (156)\ttotal: 399ms\tremaining: 781ms\n",
      "169:\tlearn: 0.2422316\ttest: 0.3124517\tbest: 0.3123889 (156)\ttotal: 400ms\tremaining: 777ms\n",
      "170:\tlearn: 0.2415185\ttest: 0.3132565\tbest: 0.3123889 (156)\ttotal: 402ms\tremaining: 773ms\n",
      "171:\tlearn: 0.2410327\ttest: 0.3131298\tbest: 0.3123889 (156)\ttotal: 404ms\tremaining: 771ms\n",
      "172:\tlearn: 0.2405916\ttest: 0.3121975\tbest: 0.3121975 (172)\ttotal: 406ms\tremaining: 768ms\n",
      "173:\tlearn: 0.2401739\ttest: 0.3125989\tbest: 0.3121975 (172)\ttotal: 408ms\tremaining: 765ms\n",
      "174:\tlearn: 0.2400901\ttest: 0.3126077\tbest: 0.3121975 (172)\ttotal: 410ms\tremaining: 762ms\n",
      "175:\tlearn: 0.2396426\ttest: 0.3128445\tbest: 0.3121975 (172)\ttotal: 413ms\tremaining: 759ms\n",
      "176:\tlearn: 0.2394755\ttest: 0.3128389\tbest: 0.3121975 (172)\ttotal: 414ms\tremaining: 756ms\n",
      "177:\tlearn: 0.2391394\ttest: 0.3132230\tbest: 0.3121975 (172)\ttotal: 416ms\tremaining: 752ms\n",
      "178:\tlearn: 0.2386757\ttest: 0.3129769\tbest: 0.3121975 (172)\ttotal: 418ms\tremaining: 749ms\n",
      "179:\tlearn: 0.2385896\ttest: 0.3129859\tbest: 0.3121975 (172)\ttotal: 421ms\tremaining: 748ms\n",
      "180:\tlearn: 0.2385017\ttest: 0.3129864\tbest: 0.3121975 (172)\ttotal: 423ms\tremaining: 746ms\n",
      "181:\tlearn: 0.2384378\ttest: 0.3129941\tbest: 0.3121975 (172)\ttotal: 425ms\tremaining: 743ms\n",
      "182:\tlearn: 0.2382272\ttest: 0.3130634\tbest: 0.3121975 (172)\ttotal: 427ms\tremaining: 740ms\n",
      "183:\tlearn: 0.2380009\ttest: 0.3130067\tbest: 0.3121975 (172)\ttotal: 429ms\tremaining: 737ms\n",
      "184:\tlearn: 0.2376919\ttest: 0.3128610\tbest: 0.3121975 (172)\ttotal: 431ms\tremaining: 734ms\n",
      "185:\tlearn: 0.2371017\ttest: 0.3125546\tbest: 0.3121975 (172)\ttotal: 433ms\tremaining: 730ms\n",
      "186:\tlearn: 0.2370144\ttest: 0.3127596\tbest: 0.3121975 (172)\ttotal: 435ms\tremaining: 729ms\n",
      "187:\tlearn: 0.2363962\ttest: 0.3118803\tbest: 0.3118803 (187)\ttotal: 438ms\tremaining: 728ms\n",
      "188:\tlearn: 0.2361164\ttest: 0.3114610\tbest: 0.3114610 (188)\ttotal: 441ms\tremaining: 725ms\n",
      "189:\tlearn: 0.2357610\ttest: 0.3106304\tbest: 0.3106304 (189)\ttotal: 443ms\tremaining: 723ms\n",
      "190:\tlearn: 0.2352866\ttest: 0.3103343\tbest: 0.3103343 (190)\ttotal: 445ms\tremaining: 720ms\n",
      "191:\tlearn: 0.2350302\ttest: 0.3102999\tbest: 0.3102999 (191)\ttotal: 447ms\tremaining: 718ms\n",
      "192:\tlearn: 0.2345298\ttest: 0.3105304\tbest: 0.3102999 (191)\ttotal: 449ms\tremaining: 715ms\n",
      "193:\tlearn: 0.2344322\ttest: 0.3106081\tbest: 0.3102999 (191)\ttotal: 453ms\tremaining: 714ms\n",
      "194:\tlearn: 0.2343240\ttest: 0.3105968\tbest: 0.3102999 (191)\ttotal: 455ms\tremaining: 712ms\n",
      "195:\tlearn: 0.2339196\ttest: 0.3103416\tbest: 0.3102999 (191)\ttotal: 458ms\tremaining: 710ms\n",
      "196:\tlearn: 0.2336938\ttest: 0.3097961\tbest: 0.3097961 (196)\ttotal: 460ms\tremaining: 707ms\n",
      "197:\tlearn: 0.2333555\ttest: 0.3101079\tbest: 0.3097961 (196)\ttotal: 462ms\tremaining: 705ms\n",
      "198:\tlearn: 0.2332806\ttest: 0.3101207\tbest: 0.3097961 (196)\ttotal: 464ms\tremaining: 702ms\n",
      "199:\tlearn: 0.2328793\ttest: 0.3102659\tbest: 0.3097961 (196)\ttotal: 467ms\tremaining: 701ms\n",
      "200:\tlearn: 0.2324738\ttest: 0.3101908\tbest: 0.3097961 (196)\ttotal: 470ms\tremaining: 699ms\n",
      "201:\tlearn: 0.2320299\ttest: 0.3103982\tbest: 0.3097961 (196)\ttotal: 472ms\tremaining: 696ms\n",
      "202:\tlearn: 0.2319591\ttest: 0.3104151\tbest: 0.3097961 (196)\ttotal: 474ms\tremaining: 693ms\n",
      "203:\tlearn: 0.2315379\ttest: 0.3102796\tbest: 0.3097961 (196)\ttotal: 476ms\tremaining: 691ms\n",
      "204:\tlearn: 0.2313972\ttest: 0.3102495\tbest: 0.3097961 (196)\ttotal: 478ms\tremaining: 688ms\n",
      "205:\tlearn: 0.2310958\ttest: 0.3101455\tbest: 0.3097961 (196)\ttotal: 481ms\tremaining: 686ms\n",
      "206:\tlearn: 0.2304415\ttest: 0.3103170\tbest: 0.3097961 (196)\ttotal: 484ms\tremaining: 685ms\n",
      "207:\tlearn: 0.2301054\ttest: 0.3097829\tbest: 0.3097829 (207)\ttotal: 486ms\tremaining: 683ms\n",
      "208:\tlearn: 0.2298066\ttest: 0.3097991\tbest: 0.3097829 (207)\ttotal: 488ms\tremaining: 680ms\n",
      "209:\tlearn: 0.2295704\ttest: 0.3098197\tbest: 0.3097829 (207)\ttotal: 490ms\tremaining: 677ms\n",
      "210:\tlearn: 0.2294748\ttest: 0.3098301\tbest: 0.3097829 (207)\ttotal: 492ms\tremaining: 674ms\n",
      "211:\tlearn: 0.2293809\ttest: 0.3101321\tbest: 0.3097829 (207)\ttotal: 495ms\tremaining: 672ms\n",
      "212:\tlearn: 0.2290706\ttest: 0.3099948\tbest: 0.3097829 (207)\ttotal: 498ms\tremaining: 672ms\n",
      "213:\tlearn: 0.2289348\ttest: 0.3100129\tbest: 0.3097829 (207)\ttotal: 502ms\tremaining: 671ms\n",
      "214:\tlearn: 0.2284360\ttest: 0.3099757\tbest: 0.3097829 (207)\ttotal: 504ms\tremaining: 668ms\n",
      "215:\tlearn: 0.2281111\ttest: 0.3100094\tbest: 0.3097829 (207)\ttotal: 506ms\tremaining: 665ms\n",
      "216:\tlearn: 0.2280156\ttest: 0.3101102\tbest: 0.3097829 (207)\ttotal: 508ms\tremaining: 662ms\n",
      "217:\tlearn: 0.2279015\ttest: 0.3101184\tbest: 0.3097829 (207)\ttotal: 509ms\tremaining: 659ms\n",
      "218:\tlearn: 0.2274889\ttest: 0.3103266\tbest: 0.3097829 (207)\ttotal: 511ms\tremaining: 655ms\n",
      "219:\tlearn: 0.2274063\ttest: 0.3103070\tbest: 0.3097829 (207)\ttotal: 513ms\tremaining: 653ms\n",
      "220:\tlearn: 0.2269008\ttest: 0.3100698\tbest: 0.3097829 (207)\ttotal: 515ms\tremaining: 651ms\n",
      "221:\tlearn: 0.2265303\ttest: 0.3098660\tbest: 0.3097829 (207)\ttotal: 517ms\tremaining: 647ms\n",
      "222:\tlearn: 0.2264469\ttest: 0.3098561\tbest: 0.3097829 (207)\ttotal: 519ms\tremaining: 644ms\n",
      "223:\tlearn: 0.2263284\ttest: 0.3098659\tbest: 0.3097829 (207)\ttotal: 520ms\tremaining: 641ms\n",
      "224:\tlearn: 0.2262616\ttest: 0.3098587\tbest: 0.3097829 (207)\ttotal: 522ms\tremaining: 638ms\n",
      "225:\tlearn: 0.2261381\ttest: 0.3097953\tbest: 0.3097829 (207)\ttotal: 523ms\tremaining: 634ms\n",
      "226:\tlearn: 0.2260413\ttest: 0.3098155\tbest: 0.3097829 (207)\ttotal: 525ms\tremaining: 631ms\n",
      "227:\tlearn: 0.2256781\ttest: 0.3096691\tbest: 0.3096691 (227)\ttotal: 526ms\tremaining: 628ms\n",
      "228:\tlearn: 0.2256173\ttest: 0.3096633\tbest: 0.3096633 (228)\ttotal: 528ms\tremaining: 625ms\n",
      "229:\tlearn: 0.2255547\ttest: 0.3096742\tbest: 0.3096633 (228)\ttotal: 531ms\tremaining: 624ms\n",
      "230:\tlearn: 0.2253440\ttest: 0.3098247\tbest: 0.3096633 (228)\ttotal: 533ms\tremaining: 621ms\n",
      "231:\tlearn: 0.2250439\ttest: 0.3102743\tbest: 0.3096633 (228)\ttotal: 535ms\tremaining: 618ms\n",
      "232:\tlearn: 0.2246103\ttest: 0.3106049\tbest: 0.3096633 (228)\ttotal: 537ms\tremaining: 615ms\n",
      "233:\tlearn: 0.2241716\ttest: 0.3106216\tbest: 0.3096633 (228)\ttotal: 538ms\tremaining: 612ms\n",
      "234:\tlearn: 0.2237854\ttest: 0.3107104\tbest: 0.3096633 (228)\ttotal: 540ms\tremaining: 609ms\n",
      "235:\tlearn: 0.2233908\ttest: 0.3108901\tbest: 0.3096633 (228)\ttotal: 541ms\tremaining: 606ms\n",
      "236:\tlearn: 0.2230320\ttest: 0.3108003\tbest: 0.3096633 (228)\ttotal: 543ms\tremaining: 603ms\n",
      "237:\tlearn: 0.2227089\ttest: 0.3107444\tbest: 0.3096633 (228)\ttotal: 546ms\tremaining: 601ms\n",
      "238:\tlearn: 0.2224160\ttest: 0.3105616\tbest: 0.3096633 (228)\ttotal: 548ms\tremaining: 598ms\n",
      "239:\tlearn: 0.2223230\ttest: 0.3106640\tbest: 0.3096633 (228)\ttotal: 549ms\tremaining: 595ms\n",
      "240:\tlearn: 0.2220630\ttest: 0.3107243\tbest: 0.3096633 (228)\ttotal: 551ms\tremaining: 592ms\n",
      "241:\tlearn: 0.2218803\ttest: 0.3107130\tbest: 0.3096633 (228)\ttotal: 552ms\tremaining: 589ms\n",
      "242:\tlearn: 0.2214457\ttest: 0.3105865\tbest: 0.3096633 (228)\ttotal: 554ms\tremaining: 586ms\n",
      "243:\tlearn: 0.2213789\ttest: 0.3106830\tbest: 0.3096633 (228)\ttotal: 555ms\tremaining: 583ms\n",
      "244:\tlearn: 0.2210467\ttest: 0.3104069\tbest: 0.3096633 (228)\ttotal: 557ms\tremaining: 580ms\n",
      "245:\tlearn: 0.2207806\ttest: 0.3097697\tbest: 0.3096633 (228)\ttotal: 559ms\tremaining: 577ms\n",
      "246:\tlearn: 0.2205324\ttest: 0.3093532\tbest: 0.3093532 (246)\ttotal: 575ms\tremaining: 589ms\n",
      "247:\tlearn: 0.2203223\ttest: 0.3092745\tbest: 0.3092745 (247)\ttotal: 578ms\tremaining: 588ms\n",
      "248:\tlearn: 0.2201051\ttest: 0.3090815\tbest: 0.3090815 (248)\ttotal: 580ms\tremaining: 585ms\n",
      "249:\tlearn: 0.2199708\ttest: 0.3090782\tbest: 0.3090782 (249)\ttotal: 582ms\tremaining: 582ms\n",
      "250:\tlearn: 0.2199081\ttest: 0.3090754\tbest: 0.3090754 (250)\ttotal: 584ms\tremaining: 579ms\n",
      "251:\tlearn: 0.2196275\ttest: 0.3089980\tbest: 0.3089980 (251)\ttotal: 585ms\tremaining: 576ms\n",
      "252:\tlearn: 0.2193700\ttest: 0.3095168\tbest: 0.3089980 (251)\ttotal: 587ms\tremaining: 573ms\n",
      "253:\tlearn: 0.2188987\ttest: 0.3091496\tbest: 0.3089980 (251)\ttotal: 589ms\tremaining: 570ms\n",
      "254:\tlearn: 0.2188355\ttest: 0.3089891\tbest: 0.3089891 (254)\ttotal: 591ms\tremaining: 567ms\n",
      "255:\tlearn: 0.2187369\ttest: 0.3089451\tbest: 0.3089451 (255)\ttotal: 592ms\tremaining: 565ms\n",
      "256:\tlearn: 0.2182753\ttest: 0.3088610\tbest: 0.3088610 (256)\ttotal: 594ms\tremaining: 562ms\n",
      "257:\tlearn: 0.2182126\ttest: 0.3088668\tbest: 0.3088610 (256)\ttotal: 596ms\tremaining: 559ms\n",
      "258:\tlearn: 0.2181332\ttest: 0.3088308\tbest: 0.3088308 (258)\ttotal: 597ms\tremaining: 556ms\n",
      "259:\tlearn: 0.2177181\ttest: 0.3092380\tbest: 0.3088308 (258)\ttotal: 599ms\tremaining: 553ms\n",
      "260:\tlearn: 0.2176597\ttest: 0.3091250\tbest: 0.3088308 (258)\ttotal: 601ms\tremaining: 550ms\n",
      "261:\tlearn: 0.2169168\ttest: 0.3086632\tbest: 0.3086632 (261)\ttotal: 602ms\tremaining: 547ms\n",
      "262:\tlearn: 0.2167273\ttest: 0.3085946\tbest: 0.3085946 (262)\ttotal: 604ms\tremaining: 544ms\n",
      "263:\tlearn: 0.2166324\ttest: 0.3085923\tbest: 0.3085923 (263)\ttotal: 605ms\tremaining: 541ms\n",
      "264:\tlearn: 0.2164059\ttest: 0.3086357\tbest: 0.3085923 (263)\ttotal: 607ms\tremaining: 538ms\n",
      "265:\tlearn: 0.2163349\ttest: 0.3086426\tbest: 0.3085923 (263)\ttotal: 609ms\tremaining: 536ms\n",
      "266:\tlearn: 0.2161562\ttest: 0.3086444\tbest: 0.3085923 (263)\ttotal: 610ms\tremaining: 533ms\n",
      "267:\tlearn: 0.2156984\ttest: 0.3090238\tbest: 0.3085923 (263)\ttotal: 612ms\tremaining: 530ms\n",
      "268:\tlearn: 0.2153644\ttest: 0.3094394\tbest: 0.3085923 (263)\ttotal: 614ms\tremaining: 527ms\n",
      "269:\tlearn: 0.2150137\ttest: 0.3093957\tbest: 0.3085923 (263)\ttotal: 615ms\tremaining: 524ms\n",
      "270:\tlearn: 0.2149605\ttest: 0.3092717\tbest: 0.3085923 (263)\ttotal: 617ms\tremaining: 521ms\n",
      "271:\tlearn: 0.2148838\ttest: 0.3092769\tbest: 0.3085923 (263)\ttotal: 618ms\tremaining: 518ms\n",
      "272:\tlearn: 0.2148280\ttest: 0.3092879\tbest: 0.3085923 (263)\ttotal: 620ms\tremaining: 515ms\n",
      "273:\tlearn: 0.2145737\ttest: 0.3089759\tbest: 0.3085923 (263)\ttotal: 621ms\tremaining: 513ms\n",
      "274:\tlearn: 0.2144890\ttest: 0.3091694\tbest: 0.3085923 (263)\ttotal: 623ms\tremaining: 510ms\n",
      "275:\tlearn: 0.2141633\ttest: 0.3084948\tbest: 0.3084948 (275)\ttotal: 625ms\tremaining: 507ms\n",
      "276:\tlearn: 0.2137187\ttest: 0.3085947\tbest: 0.3084948 (275)\ttotal: 627ms\tremaining: 505ms\n",
      "277:\tlearn: 0.2134950\ttest: 0.3087298\tbest: 0.3084948 (275)\ttotal: 628ms\tremaining: 502ms\n",
      "278:\tlearn: 0.2131599\ttest: 0.3087941\tbest: 0.3084948 (275)\ttotal: 630ms\tremaining: 499ms\n",
      "279:\tlearn: 0.2130219\ttest: 0.3088403\tbest: 0.3084948 (275)\ttotal: 632ms\tremaining: 496ms\n",
      "280:\tlearn: 0.2129157\ttest: 0.3091280\tbest: 0.3084948 (275)\ttotal: 633ms\tremaining: 493ms\n",
      "281:\tlearn: 0.2127878\ttest: 0.3091086\tbest: 0.3084948 (275)\ttotal: 635ms\tremaining: 491ms\n",
      "282:\tlearn: 0.2127353\ttest: 0.3092691\tbest: 0.3084948 (275)\ttotal: 636ms\tremaining: 488ms\n",
      "283:\tlearn: 0.2123218\ttest: 0.3093932\tbest: 0.3084948 (275)\ttotal: 638ms\tremaining: 485ms\n",
      "284:\tlearn: 0.2121200\ttest: 0.3091196\tbest: 0.3084948 (275)\ttotal: 639ms\tremaining: 482ms\n",
      "285:\tlearn: 0.2120694\ttest: 0.3091127\tbest: 0.3084948 (275)\ttotal: 641ms\tremaining: 480ms\n",
      "286:\tlearn: 0.2117260\ttest: 0.3089721\tbest: 0.3084948 (275)\ttotal: 643ms\tremaining: 477ms\n",
      "287:\tlearn: 0.2114208\ttest: 0.3086496\tbest: 0.3084948 (275)\ttotal: 645ms\tremaining: 475ms\n",
      "288:\tlearn: 0.2110806\ttest: 0.3083115\tbest: 0.3083115 (288)\ttotal: 646ms\tremaining: 472ms\n",
      "289:\tlearn: 0.2110261\ttest: 0.3083149\tbest: 0.3083115 (288)\ttotal: 648ms\tremaining: 469ms\n",
      "290:\tlearn: 0.2107734\ttest: 0.3083481\tbest: 0.3083115 (288)\ttotal: 650ms\tremaining: 466ms\n",
      "291:\tlearn: 0.2102718\ttest: 0.3080026\tbest: 0.3080026 (291)\ttotal: 651ms\tremaining: 464ms\n",
      "292:\tlearn: 0.2100126\ttest: 0.3082039\tbest: 0.3080026 (291)\ttotal: 653ms\tremaining: 461ms\n",
      "293:\tlearn: 0.2092074\ttest: 0.3080460\tbest: 0.3080026 (291)\ttotal: 654ms\tremaining: 458ms\n",
      "294:\tlearn: 0.2088881\ttest: 0.3080893\tbest: 0.3080026 (291)\ttotal: 656ms\tremaining: 456ms\n",
      "295:\tlearn: 0.2088216\ttest: 0.3081462\tbest: 0.3080026 (291)\ttotal: 658ms\tremaining: 453ms\n",
      "296:\tlearn: 0.2086730\ttest: 0.3083244\tbest: 0.3080026 (291)\ttotal: 660ms\tremaining: 451ms\n",
      "297:\tlearn: 0.2082969\ttest: 0.3085486\tbest: 0.3080026 (291)\ttotal: 661ms\tremaining: 448ms\n",
      "298:\tlearn: 0.2082012\ttest: 0.3084960\tbest: 0.3080026 (291)\ttotal: 663ms\tremaining: 445ms\n",
      "299:\tlearn: 0.2080447\ttest: 0.3086447\tbest: 0.3080026 (291)\ttotal: 664ms\tremaining: 443ms\n",
      "300:\tlearn: 0.2080026\ttest: 0.3086455\tbest: 0.3080026 (291)\ttotal: 667ms\tremaining: 441ms\n",
      "301:\tlearn: 0.2079504\ttest: 0.3087917\tbest: 0.3080026 (291)\ttotal: 669ms\tremaining: 438ms\n",
      "302:\tlearn: 0.2076856\ttest: 0.3086446\tbest: 0.3080026 (291)\ttotal: 670ms\tremaining: 436ms\n",
      "303:\tlearn: 0.2074317\ttest: 0.3090709\tbest: 0.3080026 (291)\ttotal: 672ms\tremaining: 434ms\n",
      "304:\tlearn: 0.2073015\ttest: 0.3090905\tbest: 0.3080026 (291)\ttotal: 674ms\tremaining: 431ms\n",
      "305:\tlearn: 0.2070763\ttest: 0.3091314\tbest: 0.3080026 (291)\ttotal: 676ms\tremaining: 428ms\n",
      "306:\tlearn: 0.2067372\ttest: 0.3096796\tbest: 0.3080026 (291)\ttotal: 677ms\tremaining: 426ms\n",
      "307:\tlearn: 0.2065904\ttest: 0.3097960\tbest: 0.3080026 (291)\ttotal: 679ms\tremaining: 423ms\n",
      "308:\tlearn: 0.2062702\ttest: 0.3099528\tbest: 0.3080026 (291)\ttotal: 681ms\tremaining: 421ms\n",
      "309:\tlearn: 0.2061460\ttest: 0.3100597\tbest: 0.3080026 (291)\ttotal: 682ms\tremaining: 418ms\n",
      "310:\tlearn: 0.2059348\ttest: 0.3095771\tbest: 0.3080026 (291)\ttotal: 684ms\tremaining: 416ms\n",
      "311:\tlearn: 0.2057153\ttest: 0.3093451\tbest: 0.3080026 (291)\ttotal: 686ms\tremaining: 413ms\n",
      "312:\tlearn: 0.2055569\ttest: 0.3093724\tbest: 0.3080026 (291)\ttotal: 688ms\tremaining: 411ms\n",
      "313:\tlearn: 0.2054538\ttest: 0.3094749\tbest: 0.3080026 (291)\ttotal: 690ms\tremaining: 409ms\n",
      "314:\tlearn: 0.2052934\ttest: 0.3094480\tbest: 0.3080026 (291)\ttotal: 692ms\tremaining: 406ms\n",
      "315:\tlearn: 0.2050690\ttest: 0.3094914\tbest: 0.3080026 (291)\ttotal: 693ms\tremaining: 404ms\n",
      "316:\tlearn: 0.2046481\ttest: 0.3094311\tbest: 0.3080026 (291)\ttotal: 695ms\tremaining: 401ms\n",
      "317:\tlearn: 0.2044074\ttest: 0.3093672\tbest: 0.3080026 (291)\ttotal: 696ms\tremaining: 398ms\n",
      "318:\tlearn: 0.2041388\ttest: 0.3093633\tbest: 0.3080026 (291)\ttotal: 698ms\tremaining: 396ms\n",
      "319:\tlearn: 0.2038422\ttest: 0.3100165\tbest: 0.3080026 (291)\ttotal: 699ms\tremaining: 393ms\n",
      "320:\tlearn: 0.2036159\ttest: 0.3097768\tbest: 0.3080026 (291)\ttotal: 701ms\tremaining: 391ms\n",
      "321:\tlearn: 0.2034325\ttest: 0.3101175\tbest: 0.3080026 (291)\ttotal: 703ms\tremaining: 388ms\n",
      "322:\tlearn: 0.2033872\ttest: 0.3101251\tbest: 0.3080026 (291)\ttotal: 705ms\tremaining: 386ms\n",
      "323:\tlearn: 0.2032031\ttest: 0.3096952\tbest: 0.3080026 (291)\ttotal: 706ms\tremaining: 384ms\n",
      "324:\tlearn: 0.2030037\ttest: 0.3096645\tbest: 0.3080026 (291)\ttotal: 708ms\tremaining: 381ms\n",
      "325:\tlearn: 0.2026655\ttest: 0.3091450\tbest: 0.3080026 (291)\ttotal: 710ms\tremaining: 379ms\n",
      "326:\tlearn: 0.2024546\ttest: 0.3086981\tbest: 0.3080026 (291)\ttotal: 711ms\tremaining: 376ms\n",
      "327:\tlearn: 0.2024074\ttest: 0.3087064\tbest: 0.3080026 (291)\ttotal: 713ms\tremaining: 374ms\n",
      "328:\tlearn: 0.2021838\ttest: 0.3081622\tbest: 0.3080026 (291)\ttotal: 715ms\tremaining: 371ms\n",
      "329:\tlearn: 0.2020364\ttest: 0.3079761\tbest: 0.3079761 (329)\ttotal: 716ms\tremaining: 369ms\n",
      "330:\tlearn: 0.2018404\ttest: 0.3080998\tbest: 0.3079761 (329)\ttotal: 718ms\tremaining: 367ms\n",
      "331:\tlearn: 0.2017274\ttest: 0.3080269\tbest: 0.3079761 (329)\ttotal: 720ms\tremaining: 364ms\n",
      "332:\tlearn: 0.2016416\ttest: 0.3081188\tbest: 0.3079761 (329)\ttotal: 722ms\tremaining: 362ms\n",
      "333:\tlearn: 0.2015770\ttest: 0.3080940\tbest: 0.3079761 (329)\ttotal: 723ms\tremaining: 359ms\n",
      "334:\tlearn: 0.2014186\ttest: 0.3080159\tbest: 0.3079761 (329)\ttotal: 725ms\tremaining: 357ms\n",
      "335:\tlearn: 0.2013401\ttest: 0.3080124\tbest: 0.3079761 (329)\ttotal: 726ms\tremaining: 355ms\n",
      "336:\tlearn: 0.2013007\ttest: 0.3080231\tbest: 0.3079761 (329)\ttotal: 728ms\tremaining: 352ms\n",
      "337:\tlearn: 0.2010006\ttest: 0.3081445\tbest: 0.3079761 (329)\ttotal: 730ms\tremaining: 350ms\n",
      "338:\tlearn: 0.2006800\ttest: 0.3076972\tbest: 0.3076972 (338)\ttotal: 731ms\tremaining: 347ms\n",
      "339:\tlearn: 0.2003170\ttest: 0.3081024\tbest: 0.3076972 (338)\ttotal: 733ms\tremaining: 345ms\n",
      "340:\tlearn: 0.2002727\ttest: 0.3081088\tbest: 0.3076972 (338)\ttotal: 736ms\tremaining: 343ms\n",
      "341:\tlearn: 0.2000284\ttest: 0.3082098\tbest: 0.3076972 (338)\ttotal: 738ms\tremaining: 341ms\n",
      "342:\tlearn: 0.1999757\ttest: 0.3081849\tbest: 0.3076972 (338)\ttotal: 739ms\tremaining: 338ms\n",
      "343:\tlearn: 0.1997075\ttest: 0.3081997\tbest: 0.3076972 (338)\ttotal: 741ms\tremaining: 336ms\n",
      "344:\tlearn: 0.1996355\ttest: 0.3084230\tbest: 0.3076972 (338)\ttotal: 743ms\tremaining: 334ms\n",
      "345:\tlearn: 0.1994127\ttest: 0.3081707\tbest: 0.3076972 (338)\ttotal: 744ms\tremaining: 331ms\n",
      "346:\tlearn: 0.1990035\ttest: 0.3083563\tbest: 0.3076972 (338)\ttotal: 746ms\tremaining: 329ms\n",
      "347:\tlearn: 0.1989617\ttest: 0.3083741\tbest: 0.3076972 (338)\ttotal: 747ms\tremaining: 326ms\n",
      "348:\tlearn: 0.1989122\ttest: 0.3082618\tbest: 0.3076972 (338)\ttotal: 749ms\tremaining: 324ms\n",
      "349:\tlearn: 0.1986965\ttest: 0.3082655\tbest: 0.3076972 (338)\ttotal: 751ms\tremaining: 322ms\n",
      "350:\tlearn: 0.1986234\ttest: 0.3083431\tbest: 0.3076972 (338)\ttotal: 753ms\tremaining: 320ms\n",
      "351:\tlearn: 0.1984362\ttest: 0.3087841\tbest: 0.3076972 (338)\ttotal: 755ms\tremaining: 317ms\n",
      "352:\tlearn: 0.1981346\ttest: 0.3082362\tbest: 0.3076972 (338)\ttotal: 756ms\tremaining: 315ms\n",
      "353:\tlearn: 0.1980836\ttest: 0.3081355\tbest: 0.3076972 (338)\ttotal: 758ms\tremaining: 313ms\n",
      "354:\tlearn: 0.1978899\ttest: 0.3081475\tbest: 0.3076972 (338)\ttotal: 759ms\tremaining: 310ms\n",
      "355:\tlearn: 0.1975003\ttest: 0.3080050\tbest: 0.3076972 (338)\ttotal: 761ms\tremaining: 308ms\n",
      "356:\tlearn: 0.1974103\ttest: 0.3079994\tbest: 0.3076972 (338)\ttotal: 763ms\tremaining: 305ms\n",
      "357:\tlearn: 0.1973649\ttest: 0.3079518\tbest: 0.3076972 (338)\ttotal: 765ms\tremaining: 303ms\n",
      "358:\tlearn: 0.1973154\ttest: 0.3080970\tbest: 0.3076972 (338)\ttotal: 766ms\tremaining: 301ms\n",
      "359:\tlearn: 0.1971299\ttest: 0.3079609\tbest: 0.3076972 (338)\ttotal: 768ms\tremaining: 299ms\n",
      "360:\tlearn: 0.1966610\ttest: 0.3082926\tbest: 0.3076972 (338)\ttotal: 770ms\tremaining: 296ms\n",
      "361:\tlearn: 0.1966237\ttest: 0.3082977\tbest: 0.3076972 (338)\ttotal: 772ms\tremaining: 294ms\n",
      "362:\tlearn: 0.1965602\ttest: 0.3083016\tbest: 0.3076972 (338)\ttotal: 773ms\tremaining: 292ms\n",
      "363:\tlearn: 0.1963894\ttest: 0.3083623\tbest: 0.3076972 (338)\ttotal: 775ms\tremaining: 290ms\n",
      "364:\tlearn: 0.1963436\ttest: 0.3083594\tbest: 0.3076972 (338)\ttotal: 776ms\tremaining: 287ms\n",
      "365:\tlearn: 0.1962439\ttest: 0.3082911\tbest: 0.3076972 (338)\ttotal: 778ms\tremaining: 285ms\n",
      "366:\tlearn: 0.1962009\ttest: 0.3082876\tbest: 0.3076972 (338)\ttotal: 780ms\tremaining: 282ms\n",
      "367:\tlearn: 0.1959204\ttest: 0.3084577\tbest: 0.3076972 (338)\ttotal: 781ms\tremaining: 280ms\n",
      "368:\tlearn: 0.1957561\ttest: 0.3084818\tbest: 0.3076972 (338)\ttotal: 783ms\tremaining: 278ms\n",
      "369:\tlearn: 0.1954443\ttest: 0.3087275\tbest: 0.3076972 (338)\ttotal: 785ms\tremaining: 276ms\n",
      "370:\tlearn: 0.1950599\ttest: 0.3087304\tbest: 0.3076972 (338)\ttotal: 786ms\tremaining: 273ms\n",
      "371:\tlearn: 0.1950385\ttest: 0.3087307\tbest: 0.3076972 (338)\ttotal: 788ms\tremaining: 271ms\n",
      "372:\tlearn: 0.1950007\ttest: 0.3087356\tbest: 0.3076972 (338)\ttotal: 789ms\tremaining: 269ms\n",
      "373:\tlearn: 0.1947672\ttest: 0.3087583\tbest: 0.3076972 (338)\ttotal: 791ms\tremaining: 266ms\n",
      "374:\tlearn: 0.1947298\ttest: 0.3087647\tbest: 0.3076972 (338)\ttotal: 792ms\tremaining: 264ms\n",
      "375:\tlearn: 0.1933007\ttest: 0.3076526\tbest: 0.3076526 (375)\ttotal: 794ms\tremaining: 262ms\n",
      "376:\tlearn: 0.1930429\ttest: 0.3076402\tbest: 0.3076402 (376)\ttotal: 796ms\tremaining: 260ms\n",
      "377:\tlearn: 0.1928300\ttest: 0.3078583\tbest: 0.3076402 (376)\ttotal: 797ms\tremaining: 257ms\n",
      "378:\tlearn: 0.1926660\ttest: 0.3078268\tbest: 0.3076402 (376)\ttotal: 799ms\tremaining: 255ms\n",
      "379:\tlearn: 0.1923243\ttest: 0.3080746\tbest: 0.3076402 (376)\ttotal: 801ms\tremaining: 253ms\n",
      "380:\tlearn: 0.1921681\ttest: 0.3082496\tbest: 0.3076402 (376)\ttotal: 802ms\tremaining: 251ms\n",
      "381:\tlearn: 0.1921057\ttest: 0.3082604\tbest: 0.3076402 (376)\ttotal: 804ms\tremaining: 248ms\n",
      "382:\tlearn: 0.1918507\ttest: 0.3082776\tbest: 0.3076402 (376)\ttotal: 805ms\tremaining: 246ms\n",
      "383:\tlearn: 0.1916436\ttest: 0.3065924\tbest: 0.3065924 (383)\ttotal: 807ms\tremaining: 244ms\n",
      "384:\tlearn: 0.1915085\ttest: 0.3066495\tbest: 0.3065924 (383)\ttotal: 808ms\tremaining: 241ms\n",
      "385:\tlearn: 0.1914774\ttest: 0.3066363\tbest: 0.3065924 (383)\ttotal: 810ms\tremaining: 239ms\n",
      "386:\tlearn: 0.1912219\ttest: 0.3066140\tbest: 0.3065924 (383)\ttotal: 812ms\tremaining: 237ms\n",
      "387:\tlearn: 0.1910188\ttest: 0.3064326\tbest: 0.3064326 (387)\ttotal: 814ms\tremaining: 235ms\n",
      "388:\tlearn: 0.1908747\ttest: 0.3062086\tbest: 0.3062086 (388)\ttotal: 816ms\tremaining: 233ms\n",
      "389:\tlearn: 0.1905796\ttest: 0.3059895\tbest: 0.3059895 (389)\ttotal: 818ms\tremaining: 231ms\n",
      "390:\tlearn: 0.1903962\ttest: 0.3058685\tbest: 0.3058685 (390)\ttotal: 820ms\tremaining: 229ms\n",
      "391:\tlearn: 0.1902394\ttest: 0.3056963\tbest: 0.3056963 (391)\ttotal: 821ms\tremaining: 226ms\n",
      "392:\tlearn: 0.1898898\ttest: 0.3054301\tbest: 0.3054301 (392)\ttotal: 823ms\tremaining: 224ms\n",
      "393:\tlearn: 0.1896698\ttest: 0.3055192\tbest: 0.3054301 (392)\ttotal: 824ms\tremaining: 222ms\n",
      "394:\tlearn: 0.1895525\ttest: 0.3057235\tbest: 0.3054301 (392)\ttotal: 826ms\tremaining: 220ms\n",
      "395:\tlearn: 0.1891313\ttest: 0.3056254\tbest: 0.3054301 (392)\ttotal: 827ms\tremaining: 217ms\n",
      "396:\tlearn: 0.1890937\ttest: 0.3057759\tbest: 0.3054301 (392)\ttotal: 829ms\tremaining: 215ms\n",
      "397:\tlearn: 0.1889010\ttest: 0.3042576\tbest: 0.3042576 (397)\ttotal: 831ms\tremaining: 213ms\n",
      "398:\tlearn: 0.1888589\ttest: 0.3042613\tbest: 0.3042576 (397)\ttotal: 833ms\tremaining: 211ms\n",
      "399:\tlearn: 0.1888020\ttest: 0.3045716\tbest: 0.3042576 (397)\ttotal: 834ms\tremaining: 209ms\n",
      "400:\tlearn: 0.1887059\ttest: 0.3045787\tbest: 0.3042576 (397)\ttotal: 836ms\tremaining: 206ms\n",
      "401:\tlearn: 0.1886341\ttest: 0.3045895\tbest: 0.3042576 (397)\ttotal: 837ms\tremaining: 204ms\n",
      "402:\tlearn: 0.1884599\ttest: 0.3032870\tbest: 0.3032870 (402)\ttotal: 839ms\tremaining: 202ms\n",
      "403:\tlearn: 0.1882106\ttest: 0.3026712\tbest: 0.3026712 (403)\ttotal: 840ms\tremaining: 200ms\n",
      "404:\tlearn: 0.1881734\ttest: 0.3026751\tbest: 0.3026712 (403)\ttotal: 842ms\tremaining: 197ms\n",
      "405:\tlearn: 0.1881367\ttest: 0.3025467\tbest: 0.3025467 (405)\ttotal: 843ms\tremaining: 195ms\n",
      "406:\tlearn: 0.1879538\ttest: 0.3024554\tbest: 0.3024554 (406)\ttotal: 845ms\tremaining: 193ms\n",
      "407:\tlearn: 0.1879187\ttest: 0.3024494\tbest: 0.3024494 (407)\ttotal: 847ms\tremaining: 191ms\n",
      "408:\tlearn: 0.1877231\ttest: 0.3025004\tbest: 0.3024494 (407)\ttotal: 849ms\tremaining: 189ms\n",
      "409:\tlearn: 0.1876708\ttest: 0.3025810\tbest: 0.3024494 (407)\ttotal: 850ms\tremaining: 187ms\n",
      "410:\tlearn: 0.1874777\ttest: 0.3026305\tbest: 0.3024494 (407)\ttotal: 852ms\tremaining: 184ms\n",
      "411:\tlearn: 0.1874381\ttest: 0.3026248\tbest: 0.3024494 (407)\ttotal: 853ms\tremaining: 182ms\n",
      "412:\tlearn: 0.1872695\ttest: 0.3026628\tbest: 0.3024494 (407)\ttotal: 855ms\tremaining: 180ms\n",
      "413:\tlearn: 0.1870728\ttest: 0.3026420\tbest: 0.3024494 (407)\ttotal: 856ms\tremaining: 178ms\n",
      "414:\tlearn: 0.1870437\ttest: 0.3026352\tbest: 0.3024494 (407)\ttotal: 858ms\tremaining: 176ms\n",
      "415:\tlearn: 0.1870109\ttest: 0.3026324\tbest: 0.3024494 (407)\ttotal: 859ms\tremaining: 174ms\n",
      "416:\tlearn: 0.1866827\ttest: 0.3028108\tbest: 0.3024494 (407)\ttotal: 861ms\tremaining: 171ms\n",
      "417:\tlearn: 0.1864274\ttest: 0.3036667\tbest: 0.3024494 (407)\ttotal: 863ms\tremaining: 169ms\n",
      "418:\tlearn: 0.1862188\ttest: 0.3038796\tbest: 0.3024494 (407)\ttotal: 864ms\tremaining: 167ms\n",
      "419:\tlearn: 0.1861628\ttest: 0.3039302\tbest: 0.3024494 (407)\ttotal: 866ms\tremaining: 165ms\n",
      "420:\tlearn: 0.1861301\ttest: 0.3039189\tbest: 0.3024494 (407)\ttotal: 867ms\tremaining: 163ms\n",
      "421:\tlearn: 0.1860200\ttest: 0.3037789\tbest: 0.3024494 (407)\ttotal: 870ms\tremaining: 161ms\n",
      "422:\tlearn: 0.1858939\ttest: 0.3038859\tbest: 0.3024494 (407)\ttotal: 871ms\tremaining: 159ms\n",
      "423:\tlearn: 0.1856060\ttest: 0.3044885\tbest: 0.3024494 (407)\ttotal: 873ms\tremaining: 156ms\n",
      "424:\tlearn: 0.1854280\ttest: 0.3044604\tbest: 0.3024494 (407)\ttotal: 875ms\tremaining: 154ms\n",
      "425:\tlearn: 0.1852111\ttest: 0.3041697\tbest: 0.3024494 (407)\ttotal: 876ms\tremaining: 152ms\n",
      "426:\tlearn: 0.1849687\ttest: 0.3040184\tbest: 0.3024494 (407)\ttotal: 878ms\tremaining: 150ms\n",
      "427:\tlearn: 0.1849291\ttest: 0.3040172\tbest: 0.3024494 (407)\ttotal: 880ms\tremaining: 148ms\n",
      "428:\tlearn: 0.1847798\ttest: 0.3039325\tbest: 0.3024494 (407)\ttotal: 882ms\tremaining: 146ms\n",
      "429:\tlearn: 0.1847576\ttest: 0.3039407\tbest: 0.3024494 (407)\ttotal: 883ms\tremaining: 144ms\n",
      "430:\tlearn: 0.1843294\ttest: 0.3042216\tbest: 0.3024494 (407)\ttotal: 885ms\tremaining: 142ms\n",
      "431:\tlearn: 0.1842486\ttest: 0.3044066\tbest: 0.3024494 (407)\ttotal: 887ms\tremaining: 140ms\n",
      "432:\tlearn: 0.1840823\ttest: 0.3048435\tbest: 0.3024494 (407)\ttotal: 889ms\tremaining: 137ms\n",
      "433:\tlearn: 0.1838605\ttest: 0.3048606\tbest: 0.3024494 (407)\ttotal: 890ms\tremaining: 135ms\n",
      "434:\tlearn: 0.1838200\ttest: 0.3049286\tbest: 0.3024494 (407)\ttotal: 892ms\tremaining: 133ms\n",
      "435:\tlearn: 0.1837268\ttest: 0.3050555\tbest: 0.3024494 (407)\ttotal: 893ms\tremaining: 131ms\n",
      "436:\tlearn: 0.1836184\ttest: 0.3051078\tbest: 0.3024494 (407)\ttotal: 896ms\tremaining: 129ms\n",
      "437:\tlearn: 0.1835687\ttest: 0.3051072\tbest: 0.3024494 (407)\ttotal: 897ms\tremaining: 127ms\n",
      "438:\tlearn: 0.1833379\ttest: 0.3049163\tbest: 0.3024494 (407)\ttotal: 899ms\tremaining: 125ms\n",
      "439:\tlearn: 0.1826941\ttest: 0.3048938\tbest: 0.3024494 (407)\ttotal: 900ms\tremaining: 123ms\n",
      "440:\tlearn: 0.1826601\ttest: 0.3049032\tbest: 0.3024494 (407)\ttotal: 902ms\tremaining: 121ms\n",
      "441:\tlearn: 0.1826269\ttest: 0.3048931\tbest: 0.3024494 (407)\ttotal: 904ms\tremaining: 119ms\n",
      "442:\tlearn: 0.1824377\ttest: 0.3047522\tbest: 0.3024494 (407)\ttotal: 905ms\tremaining: 116ms\n",
      "443:\tlearn: 0.1819897\ttest: 0.3048280\tbest: 0.3024494 (407)\ttotal: 907ms\tremaining: 114ms\n",
      "444:\tlearn: 0.1819549\ttest: 0.3048231\tbest: 0.3024494 (407)\ttotal: 908ms\tremaining: 112ms\n",
      "445:\tlearn: 0.1816378\ttest: 0.3052042\tbest: 0.3024494 (407)\ttotal: 910ms\tremaining: 110ms\n",
      "446:\tlearn: 0.1815880\ttest: 0.3051782\tbest: 0.3024494 (407)\ttotal: 912ms\tremaining: 108ms\n",
      "447:\tlearn: 0.1815489\ttest: 0.3051569\tbest: 0.3024494 (407)\ttotal: 914ms\tremaining: 106ms\n",
      "448:\tlearn: 0.1812500\ttest: 0.3055524\tbest: 0.3024494 (407)\ttotal: 915ms\tremaining: 104ms\n",
      "449:\tlearn: 0.1810135\ttest: 0.3054532\tbest: 0.3024494 (407)\ttotal: 917ms\tremaining: 102ms\n",
      "450:\tlearn: 0.1808282\ttest: 0.3058494\tbest: 0.3024494 (407)\ttotal: 919ms\tremaining: 99.8ms\n",
      "451:\tlearn: 0.1807967\ttest: 0.3058132\tbest: 0.3024494 (407)\ttotal: 920ms\tremaining: 97.7ms\n",
      "452:\tlearn: 0.1805772\ttest: 0.3059730\tbest: 0.3024494 (407)\ttotal: 922ms\tremaining: 95.6ms\n",
      "453:\tlearn: 0.1803179\ttest: 0.3054528\tbest: 0.3024494 (407)\ttotal: 923ms\tremaining: 93.5ms\n",
      "454:\tlearn: 0.1802774\ttest: 0.3054662\tbest: 0.3024494 (407)\ttotal: 925ms\tremaining: 91.5ms\n",
      "455:\tlearn: 0.1801167\ttest: 0.3056910\tbest: 0.3024494 (407)\ttotal: 927ms\tremaining: 89.4ms\n",
      "456:\tlearn: 0.1799827\ttest: 0.3057311\tbest: 0.3024494 (407)\ttotal: 928ms\tremaining: 87.4ms\n",
      "457:\tlearn: 0.1798760\ttest: 0.3057237\tbest: 0.3024494 (407)\ttotal: 930ms\tremaining: 85.3ms\n",
      "458:\tlearn: 0.1798254\ttest: 0.3056946\tbest: 0.3024494 (407)\ttotal: 932ms\tremaining: 83.2ms\n",
      "459:\tlearn: 0.1797728\ttest: 0.3056944\tbest: 0.3024494 (407)\ttotal: 933ms\tremaining: 81.1ms\n",
      "460:\tlearn: 0.1795389\ttest: 0.3061157\tbest: 0.3024494 (407)\ttotal: 935ms\tremaining: 79.1ms\n",
      "461:\tlearn: 0.1792785\ttest: 0.3059275\tbest: 0.3024494 (407)\ttotal: 936ms\tremaining: 77ms\n",
      "462:\tlearn: 0.1790317\ttest: 0.3054055\tbest: 0.3024494 (407)\ttotal: 937ms\tremaining: 74.9ms\n",
      "463:\tlearn: 0.1788094\ttest: 0.3055129\tbest: 0.3024494 (407)\ttotal: 939ms\tremaining: 72.9ms\n",
      "464:\tlearn: 0.1785440\ttest: 0.3058102\tbest: 0.3024494 (407)\ttotal: 941ms\tremaining: 70.8ms\n",
      "465:\tlearn: 0.1784217\ttest: 0.3056493\tbest: 0.3024494 (407)\ttotal: 942ms\tremaining: 68.8ms\n",
      "466:\tlearn: 0.1783861\ttest: 0.3055960\tbest: 0.3024494 (407)\ttotal: 945ms\tremaining: 66.7ms\n",
      "467:\tlearn: 0.1782123\ttest: 0.3053857\tbest: 0.3024494 (407)\ttotal: 946ms\tremaining: 64.7ms\n",
      "468:\tlearn: 0.1780379\ttest: 0.3051343\tbest: 0.3024494 (407)\ttotal: 948ms\tremaining: 62.7ms\n",
      "469:\tlearn: 0.1779439\ttest: 0.3053344\tbest: 0.3024494 (407)\ttotal: 950ms\tremaining: 60.6ms\n",
      "470:\tlearn: 0.1778806\ttest: 0.3053371\tbest: 0.3024494 (407)\ttotal: 951ms\tremaining: 58.6ms\n",
      "471:\tlearn: 0.1777849\ttest: 0.3053208\tbest: 0.3024494 (407)\ttotal: 953ms\tremaining: 56.5ms\n",
      "472:\tlearn: 0.1775663\ttest: 0.3051068\tbest: 0.3024494 (407)\ttotal: 954ms\tremaining: 54.5ms\n",
      "473:\tlearn: 0.1773422\ttest: 0.3051332\tbest: 0.3024494 (407)\ttotal: 956ms\tremaining: 52.4ms\n",
      "474:\tlearn: 0.1771880\ttest: 0.3052616\tbest: 0.3024494 (407)\ttotal: 958ms\tremaining: 50.4ms\n",
      "475:\tlearn: 0.1771612\ttest: 0.3052717\tbest: 0.3024494 (407)\ttotal: 960ms\tremaining: 48.4ms\n",
      "476:\tlearn: 0.1771311\ttest: 0.3051613\tbest: 0.3024494 (407)\ttotal: 962ms\tremaining: 46.4ms\n",
      "477:\tlearn: 0.1770591\ttest: 0.3051904\tbest: 0.3024494 (407)\ttotal: 963ms\tremaining: 44.3ms\n",
      "478:\tlearn: 0.1769829\ttest: 0.3051244\tbest: 0.3024494 (407)\ttotal: 965ms\tremaining: 42.3ms\n",
      "479:\tlearn: 0.1768025\ttest: 0.3048858\tbest: 0.3024494 (407)\ttotal: 967ms\tremaining: 40.3ms\n",
      "480:\tlearn: 0.1767423\ttest: 0.3048778\tbest: 0.3024494 (407)\ttotal: 968ms\tremaining: 38.2ms\n",
      "481:\tlearn: 0.1766082\ttest: 0.3045386\tbest: 0.3024494 (407)\ttotal: 970ms\tremaining: 36.2ms\n",
      "482:\tlearn: 0.1764168\ttest: 0.3046896\tbest: 0.3024494 (407)\ttotal: 971ms\tremaining: 34.2ms\n",
      "483:\tlearn: 0.1762456\ttest: 0.3048139\tbest: 0.3024494 (407)\ttotal: 973ms\tremaining: 32.2ms\n",
      "484:\tlearn: 0.1760344\ttest: 0.3044975\tbest: 0.3024494 (407)\ttotal: 975ms\tremaining: 30.2ms\n",
      "485:\tlearn: 0.1759195\ttest: 0.3046774\tbest: 0.3024494 (407)\ttotal: 977ms\tremaining: 28.1ms\n",
      "486:\tlearn: 0.1758912\ttest: 0.3046582\tbest: 0.3024494 (407)\ttotal: 978ms\tremaining: 26.1ms\n",
      "487:\tlearn: 0.1757058\ttest: 0.3049198\tbest: 0.3024494 (407)\ttotal: 980ms\tremaining: 24.1ms\n",
      "488:\tlearn: 0.1754820\ttest: 0.3049280\tbest: 0.3024494 (407)\ttotal: 982ms\tremaining: 22.1ms\n",
      "489:\tlearn: 0.1754542\ttest: 0.3050112\tbest: 0.3024494 (407)\ttotal: 983ms\tremaining: 20.1ms\n",
      "490:\tlearn: 0.1753651\ttest: 0.3049163\tbest: 0.3024494 (407)\ttotal: 985ms\tremaining: 18.1ms\n",
      "491:\tlearn: 0.1753444\ttest: 0.3049178\tbest: 0.3024494 (407)\ttotal: 986ms\tremaining: 16ms\n",
      "492:\tlearn: 0.1753202\ttest: 0.3049371\tbest: 0.3024494 (407)\ttotal: 988ms\tremaining: 14ms\n",
      "493:\tlearn: 0.1751670\ttest: 0.3049325\tbest: 0.3024494 (407)\ttotal: 990ms\tremaining: 12ms\n",
      "494:\tlearn: 0.1751481\ttest: 0.3049416\tbest: 0.3024494 (407)\ttotal: 992ms\tremaining: 10ms\n",
      "495:\tlearn: 0.1751120\ttest: 0.3049429\tbest: 0.3024494 (407)\ttotal: 993ms\tremaining: 8.01ms\n",
      "496:\tlearn: 0.1749201\ttest: 0.3054025\tbest: 0.3024494 (407)\ttotal: 995ms\tremaining: 6ms\n",
      "497:\tlearn: 0.1747356\ttest: 0.3050677\tbest: 0.3024494 (407)\ttotal: 996ms\tremaining: 4ms\n",
      "498:\tlearn: 0.1745714\ttest: 0.3051720\tbest: 0.3024494 (407)\ttotal: 998ms\tremaining: 2ms\n",
      "499:\tlearn: 0.1745228\ttest: 0.3051799\tbest: 0.3024494 (407)\ttotal: 999ms\tremaining: 0us\n",
      "\n",
      "bestTest = 0.3024494356\n",
      "bestIteration = 407\n",
      "\n",
      "Shrink model to first 408 iterations.\n",
      "Точность на обучающей выборке: 0.9270\n",
      "Точность на тестовой выборке: 0.8251\n",
      "ROC AUC score: 0.9136\n"
     ]
    },
    {
     "data": {
      "application/vnd.plotly.v1+json": {
       "config": {
        "plotlyServerURL": "https://plot.ly"
       },
       "data": [
        {
         "mode": "lines",
         "name": "Train",
         "type": "scatter",
         "x": [
          0,
          1,
          2,
          3,
          4,
          5,
          6,
          7,
          8,
          9,
          10,
          11,
          12,
          13,
          14,
          15,
          16,
          17,
          18,
          19,
          20,
          21,
          22,
          23,
          24,
          25,
          26,
          27,
          28,
          29,
          30,
          31,
          32,
          33,
          34,
          35,
          36,
          37,
          38,
          39,
          40,
          41,
          42,
          43,
          44,
          45,
          46,
          47,
          48,
          49,
          50,
          51,
          52,
          53,
          54,
          55,
          56,
          57,
          58,
          59,
          60,
          61,
          62,
          63,
          64,
          65,
          66,
          67,
          68,
          69,
          70,
          71,
          72,
          73,
          74,
          75,
          76,
          77,
          78,
          79,
          80,
          81,
          82,
          83,
          84,
          85,
          86,
          87,
          88,
          89,
          90,
          91,
          92,
          93,
          94,
          95,
          96,
          97,
          98,
          99,
          100,
          101,
          102,
          103,
          104,
          105,
          106,
          107,
          108,
          109,
          110,
          111,
          112,
          113,
          114,
          115,
          116,
          117,
          118,
          119,
          120,
          121,
          122,
          123,
          124,
          125,
          126,
          127,
          128,
          129,
          130,
          131,
          132,
          133,
          134,
          135,
          136,
          137,
          138,
          139,
          140,
          141,
          142,
          143,
          144,
          145,
          146,
          147,
          148,
          149,
          150,
          151,
          152,
          153,
          154,
          155,
          156,
          157,
          158,
          159,
          160,
          161,
          162,
          163,
          164,
          165,
          166,
          167,
          168,
          169,
          170,
          171,
          172,
          173,
          174,
          175,
          176,
          177,
          178,
          179,
          180,
          181,
          182,
          183,
          184,
          185,
          186,
          187,
          188,
          189,
          190,
          191,
          192,
          193,
          194,
          195,
          196,
          197,
          198,
          199,
          200,
          201,
          202,
          203,
          204,
          205,
          206,
          207,
          208,
          209,
          210,
          211,
          212,
          213,
          214,
          215,
          216,
          217,
          218,
          219,
          220,
          221,
          222,
          223,
          224,
          225,
          226,
          227,
          228,
          229,
          230,
          231,
          232,
          233,
          234,
          235,
          236,
          237,
          238,
          239,
          240,
          241,
          242,
          243,
          244,
          245,
          246,
          247,
          248,
          249,
          250,
          251,
          252,
          253,
          254,
          255,
          256,
          257,
          258,
          259,
          260,
          261,
          262,
          263,
          264,
          265,
          266,
          267,
          268,
          269,
          270,
          271,
          272,
          273,
          274,
          275,
          276,
          277,
          278,
          279,
          280,
          281,
          282,
          283,
          284,
          285,
          286,
          287,
          288,
          289,
          290,
          291,
          292,
          293,
          294,
          295,
          296,
          297,
          298,
          299,
          300,
          301,
          302,
          303,
          304,
          305,
          306,
          307,
          308,
          309,
          310,
          311,
          312,
          313,
          314,
          315,
          316,
          317,
          318,
          319,
          320,
          321,
          322,
          323,
          324,
          325,
          326,
          327,
          328,
          329,
          330,
          331,
          332,
          333,
          334,
          335,
          336,
          337,
          338,
          339,
          340,
          341,
          342,
          343,
          344,
          345,
          346,
          347,
          348,
          349,
          350,
          351,
          352,
          353,
          354,
          355,
          356,
          357,
          358,
          359,
          360,
          361,
          362,
          363,
          364,
          365,
          366,
          367,
          368,
          369,
          370,
          371,
          372,
          373,
          374,
          375,
          376,
          377,
          378,
          379,
          380,
          381,
          382,
          383,
          384,
          385,
          386,
          387,
          388,
          389,
          390,
          391,
          392,
          393,
          394,
          395,
          396,
          397,
          398,
          399,
          400,
          401,
          402,
          403,
          404,
          405,
          406,
          407,
          408,
          409,
          410,
          411,
          412,
          413,
          414,
          415,
          416,
          417,
          418,
          419,
          420,
          421,
          422,
          423,
          424,
          425,
          426,
          427,
          428,
          429,
          430,
          431,
          432,
          433,
          434,
          435,
          436,
          437,
          438,
          439,
          440,
          441,
          442,
          443,
          444,
          445,
          446,
          447,
          448,
          449,
          450,
          451,
          452,
          453,
          454,
          455,
          456,
          457,
          458,
          459,
          460,
          461,
          462,
          463,
          464,
          465,
          466,
          467,
          468,
          469,
          470,
          471,
          472,
          473,
          474,
          475,
          476,
          477,
          478,
          479,
          480,
          481,
          482,
          483,
          484,
          485,
          486,
          487,
          488,
          489,
          490,
          491,
          492,
          493,
          494,
          495,
          496,
          497,
          498,
          499
         ],
         "y": [
          0.5892110027971632,
          0.5049216128463645,
          0.4708813653475996,
          0.4403865447314517,
          0.42265595246366516,
          0.4087976347630517,
          0.40046806486227765,
          0.39553897339993,
          0.3878354762382658,
          0.38271958020678937,
          0.3744791505836215,
          0.37042939961349225,
          0.36667143528954627,
          0.3649277919523016,
          0.36208547559494403,
          0.36007646201313404,
          0.358215975353055,
          0.3537534530297884,
          0.3516233341181859,
          0.350155675835289,
          0.34763988550158514,
          0.3461226512320899,
          0.3441336610414608,
          0.34228909659605566,
          0.33845594403614954,
          0.33588388314831397,
          0.33496204320935236,
          0.33297351540627057,
          0.33012752005234064,
          0.3295454947530674,
          0.3271516742128314,
          0.32579963292057806,
          0.32477353464159253,
          0.3226940974259408,
          0.3218157621240427,
          0.32062022896466363,
          0.3198803887850996,
          0.3188591154196517,
          0.31770777042675397,
          0.3169484094511693,
          0.3145322535820158,
          0.3137403646476655,
          0.3120279224179636,
          0.3117071058753294,
          0.3101856297026824,
          0.3084431724900156,
          0.3073661311655962,
          0.3061081555835186,
          0.30525074834408966,
          0.3043991712085186,
          0.304046630859375,
          0.3028249627516675,
          0.3022436812932312,
          0.30070708705816657,
          0.2997990785380126,
          0.2989897193958951,
          0.29810394568562665,
          0.2968703359169137,
          0.29578971611495386,
          0.2949542421283144,
          0.2937640565814394,
          0.2931372198976861,
          0.29240839660403284,
          0.29212121372951666,
          0.2914990009212368,
          0.2904796977288167,
          0.2896311160604002,
          0.28845894352406537,
          0.288199845667099,
          0.28728015683542285,
          0.2862670657191823,
          0.28551015740797925,
          0.28484731480695197,
          0.2846140905488307,
          0.2839697836573102,
          0.2835475836189682,
          0.2832307878376153,
          0.28245067973381915,
          0.28188877834475873,
          0.28093469190032117,
          0.28043330296854413,
          0.2795459209537632,
          0.27871589509865985,
          0.27814464543962036,
          0.27741236429126526,
          0.277206642040308,
          0.27668446577270667,
          0.27642625248322217,
          0.27542285140166956,
          0.2751163487691967,
          0.27483029170783924,
          0.2737261504523839,
          0.2730771995815835,
          0.27242710279381793,
          0.272246128328547,
          0.27169996821990283,
          0.27085661354115204,
          0.27044100755131134,
          0.2693369266072752,
          0.26912893262619403,
          0.26830125891644024,
          0.26796532431138836,
          0.2669165087311635,
          0.26617978464159253,
          0.2658834143275486,
          0.2657222622153944,
          0.26509832047976367,
          0.26480904680938117,
          0.2642720540364583,
          0.2641247333431118,
          0.26366606499994855,
          0.26352157894330536,
          0.2632906666229208,
          0.26293018527024664,
          0.26272973021656787,
          0.26226225640619855,
          0.261611516296628,
          0.2614393674023695,
          0.260994490270401,
          0.2601108877712245,
          0.2599596267318223,
          0.25957526205713727,
          0.25944814568922925,
          0.25933851963289484,
          0.25874565838196845,
          0.25863004139132495,
          0.2585150074110672,
          0.25839305772140564,
          0.25821724993438117,
          0.25762394639971387,
          0.25716135781430133,
          0.25671024850234686,
          0.2564027808871665,
          0.2562505950726696,
          0.25516199405956647,
          0.25488351613322424,
          0.25421279284008563,
          0.25373832290508685,
          0.2533245463616292,
          0.25321502082432684,
          0.2526092328258811,
          0.25237355590337823,
          0.25206474133316864,
          0.2517354610880373,
          0.25116364852241846,
          0.2509739289013608,
          0.2506624405248991,
          0.2502177242233819,
          0.24989927992990366,
          0.2494142554965415,
          0.24877915614835516,
          0.24863310199481226,
          0.2478269594617198,
          0.24758925205476984,
          0.24747964610224185,
          0.2469329632946311,
          0.2466664672369071,
          0.24592190266283762,
          0.24582888235059494,
          0.24540736584167078,
          0.244848118155056,
          0.24477719192605402,
          0.24432919870409256,
          0.24420708818397974,
          0.2440459360718256,
          0.24377330835314764,
          0.24360680862848938,
          0.2430195965471632,
          0.24268794405287591,
          0.24223160775125577,
          0.24151852573801877,
          0.24103271725620676,
          0.2405915593284235,
          0.24017388264652298,
          0.24009011008522727,
          0.23964259935461957,
          0.23947545630815628,
          0.23913936087265317,
          0.23867566657788825,
          0.23858964239027503,
          0.23850166813344037,
          0.23843783854809988,
          0.23822719086457303,
          0.23800092252346838,
          0.23769188681138834,
          0.2371016591591012,
          0.23701442874310358,
          0.23639619648849225,
          0.23611643191854,
          0.2357610167250803,
          0.23528662720530716,
          0.2350302232583992,
          0.2345297993093297,
          0.23443217522541995,
          0.23432403685075964,
          0.23391956836966815,
          0.23369380262372366,
          0.2333554957695158,
          0.23328062919445816,
          0.23287925669955328,
          0.23247382323575427,
          0.23202987087888052,
          0.2319591255841362,
          0.23153789052850174,
          0.23139718398746295,
          0.23109584803323657,
          0.23044152944612567,
          0.23010543401062253,
          0.22980657082458417,
          0.2295703510993083,
          0.229474777603652,
          0.22938089282773386,
          0.2290705503682374,
          0.228934809467381,
          0.22843603403043683,
          0.2281111364151021,
          0.22801558302325223,
          0.2279014939218956,
          0.2274889236068223,
          0.22740633717010458,
          0.22690082695801425,
          0.22653033390974966,
          0.22644690311316287,
          0.22632841127820322,
          0.22626162643332098,
          0.2261380684391469,
          0.22604130881891263,
          0.22567805314095438,
          0.22561733964560687,
          0.22555473639245718,
          0.2253440082937047,
          0.22504385846405633,
          0.2246102997750947,
          0.2241715543040802,
          0.22378536018301218,
          0.2233908028784791,
          0.22303199014173666,
          0.2227089420765913,
          0.22241602961724927,
          0.2223230093050066,
          0.2220629866729455,
          0.22188032348793643,
          0.22144565908962244,
          0.2213788742447402,
          0.22104673925909915,
          0.22078060506989047,
          0.22053236326838357,
          0.22032231869904892,
          0.22010511717463357,
          0.21997078354022562,
          0.2199080998718503,
          0.21962745073441617,
          0.2193699812857687,
          0.21889872795979495,
          0.21883552159245306,
          0.218736892318223,
          0.21827530892313077,
          0.21821264535856183,
          0.21813317501183713,
          0.21771807161715662,
          0.21765967005954587,
          0.2169168143090209,
          0.21672727562222086,
          0.21663242586359518,
          0.21640589617300723,
          0.21633492973639246,
          0.21615624710505188,
          0.21569836281033844,
          0.215364378274508,
          0.2150137276831666,
          0.21496047269999588,
          0.21488375657474884,
          0.21482796851197095,
          0.21457365536092926,
          0.21448899823215167,
          0.21416325625694788,
          0.21371872088968832,
          0.21349496552438446,
          0.21315989538300806,
          0.21302192295964056,
          0.21291567434278244,
          0.21278783423784378,
          0.21273530299170373,
          0.21232180790153574,
          0.21211996568521493,
          0.2120694046121027,
          0.2117259511834548,
          0.21142075529839838,
          0.21108055868638834,
          0.21102605726722043,
          0.21077335242069128,
          0.21027184286607584,
          0.21001258417865817,
          0.2092073664206604,
          0.2088881380787323,
          0.20882157437572052,
          0.2086729871425704,
          0.20829694544373764,
          0.2082011709100173,
          0.20804466277714304,
          0.20800256540652792,
          0.20795035582129034,
          0.20768556858711093,
          0.2074317178236166,
          0.2073015255733284,
          0.20707628252635046,
          0.20673719162369278,
          0.2065903735255064,
          0.20627020030467721,
          0.2061459587810853,
          0.2059347883985919,
          0.20571529504024622,
          0.20555685694195694,
          0.20545382493412384,
          0.2052933563513875,
          0.20506899787189148,
          0.2046481045809659,
          0.2044074419144742,
          0.20413879474946475,
          0.20384220329355032,
          0.20361589474483283,
          0.20343246761518033,
          0.2033872340507658,
          0.20320308318408267,
          0.20300369363214343,
          0.20266552750458044,
          0.20245457826395752,
          0.20240741473412796,
          0.20218377999166254,
          0.20203643919450964,
          0.2018404471858531,
          0.20172744369004242,
          0.20164156022907403,
          0.2015770069067029,
          0.20141860901602643,
          0.20134010365200922,
          0.20130068008764615,
          0.20100063077702982,
          0.20067997506484683,
          0.20031698073637186,
          0.20027265184324564,
          0.20002843080302002,
          0.19997573872642868,
          0.19970749363754736,
          0.19963550190680582,
          0.19941267131659668,
          0.1990035186486125,
          0.19896166252367425,
          0.19891216695230154,
          0.1986965335247859,
          0.19862339587707922,
          0.19843622943943512,
          0.19813455172049985,
          0.19808356846745306,
          0.1978899286041461,
          0.19750031683598895,
          0.19741033219851367,
          0.1973649378036479,
          0.19731540202466238,
          0.1971299243067564,
          0.19666098291851944,
          0.19662367025382904,
          0.19656022264081027,
          0.19638944080538742,
          0.1963436041267807,
          0.19624394955842392,
          0.1962008872051013,
          0.1959203988981184,
          0.19575611059216486,
          0.19544430055480072,
          0.1950599157763093,
          0.19503848511868,
          0.1950007301702487,
          0.19476720435503128,
          0.1947298313789217,
          0.19330069198909955,
          0.19304288077574316,
          0.19283004177731802,
          0.19266603492465414,
          0.1923243305271636,
          0.19216814405519186,
          0.19210574184010623,
          0.19185074515964673,
          0.19164361564224103,
          0.19150853816699603,
          0.19147741747467886,
          0.1912218980952528,
          0.19101882954674118,
          0.1908747254624197,
          0.19057958148056653,
          0.19039615435091403,
          0.1902393848685565,
          0.18988983998656744,
          0.1896698038254488,
          0.18955245790745429,
          0.18913126305943265,
          0.1890937493566782,
          0.1889010342684659,
          0.18885889669023798,
          0.18880202302191412,
          0.18870586651587204,
          0.1886341361346138,
          0.18845987634068265,
          0.1882105690374362,
          0.18817335689177783,
          0.18813668754889246,
          0.18795384342962573,
          0.18791868187222086,
          0.18772305173207962,
          0.18767084214684207,
          0.18747774508630805,
          0.18743812048388092,
          0.18726952996335638,
          0.18707283432147562,
          0.18704368380218628,
          0.18701087439013092,
          0.18668274006196475,
          0.18642738151298996,
          0.18621878441771655,
          0.18616277521306818,
          0.1861300864238513,
          0.18601999797996954,
          0.18589386669857544,
          0.1856060405022542,
          0.18542802129652503,
          0.18521110122539938,
          0.18496868952775034,
          0.18492912523674243,
          0.18477977405894885,
          0.18475759956048254,
          0.18432944879544425,
          0.1842486314936903,
          0.18408227249567688,
          0.18386046719959445,
          0.18381995802968545,
          0.18372675678318512,
          0.18361839726665433,
          0.18356874086483038,
          0.18333786875205862,
          0.1826941247671175,
          0.18266006891906497,
          0.1826268775346879,
          0.18243774092401596,
          0.1819897074944417,
          0.18195488770174573,
          0.18163775015568387,
          0.1815879932348279,
          0.18154887122756094,
          0.18125000804152255,
          0.1810134867591506,
          0.1808281698716959,
          0.18079674762228262,
          0.1805771939525177,
          0.18031789505748724,
          0.18027740599138464,
          0.180116676059165,
          0.17998274450088522,
          0.17987601339267334,
          0.17982541211194827,
          0.179772820554389,
          0.17953887255923706,
          0.17927846795485425,
          0.1790316736274086,
          0.1788094059437788,
          0.1785440356992136,
          0.17842168393342392,
          0.17838610019608447,
          0.17821232289350708,
          0.1780379223729311,
          0.17794385666275528,
          0.17788063019160696,
          0.17778487576169302,
          0.17756626697082922,
          0.17734223015223566,
          0.17718803395709815,
          0.17716121547935193,
          0.17713109997735507,
          0.17705908814280716,
          0.17698289471652667,
          0.17680254346925436,
          0.17674233256906702,
          0.17660815976511035,
          0.17641677152812088,
          0.17624564792798914,
          0.17603439713027008,
          0.1759194837728508,
          0.1758912178210433,
          0.17570580041455658,
          0.1754819847378335,
          0.17545418117357336,
          0.17536514141499918,
          0.17534439428678772,
          0.17532018930387433,
          0.17516703850666995,
          0.17514808061722867,
          0.17511195407711627,
          0.17492008334877307,
          0.1747355505097682,
          0.17457140293045947,
          0.17452279192656867
         ]
        },
        {
         "mode": "lines",
         "name": "Test",
         "type": "scatter",
         "x": [
          0,
          1,
          2,
          3,
          4,
          5,
          6,
          7,
          8,
          9,
          10,
          11,
          12,
          13,
          14,
          15,
          16,
          17,
          18,
          19,
          20,
          21,
          22,
          23,
          24,
          25,
          26,
          27,
          28,
          29,
          30,
          31,
          32,
          33,
          34,
          35,
          36,
          37,
          38,
          39,
          40,
          41,
          42,
          43,
          44,
          45,
          46,
          47,
          48,
          49,
          50,
          51,
          52,
          53,
          54,
          55,
          56,
          57,
          58,
          59,
          60,
          61,
          62,
          63,
          64,
          65,
          66,
          67,
          68,
          69,
          70,
          71,
          72,
          73,
          74,
          75,
          76,
          77,
          78,
          79,
          80,
          81,
          82,
          83,
          84,
          85,
          86,
          87,
          88,
          89,
          90,
          91,
          92,
          93,
          94,
          95,
          96,
          97,
          98,
          99,
          100,
          101,
          102,
          103,
          104,
          105,
          106,
          107,
          108,
          109,
          110,
          111,
          112,
          113,
          114,
          115,
          116,
          117,
          118,
          119,
          120,
          121,
          122,
          123,
          124,
          125,
          126,
          127,
          128,
          129,
          130,
          131,
          132,
          133,
          134,
          135,
          136,
          137,
          138,
          139,
          140,
          141,
          142,
          143,
          144,
          145,
          146,
          147,
          148,
          149,
          150,
          151,
          152,
          153,
          154,
          155,
          156,
          157,
          158,
          159,
          160,
          161,
          162,
          163,
          164,
          165,
          166,
          167,
          168,
          169,
          170,
          171,
          172,
          173,
          174,
          175,
          176,
          177,
          178,
          179,
          180,
          181,
          182,
          183,
          184,
          185,
          186,
          187,
          188,
          189,
          190,
          191,
          192,
          193,
          194,
          195,
          196,
          197,
          198,
          199,
          200,
          201,
          202,
          203,
          204,
          205,
          206,
          207,
          208,
          209,
          210,
          211,
          212,
          213,
          214,
          215,
          216,
          217,
          218,
          219,
          220,
          221,
          222,
          223,
          224,
          225,
          226,
          227,
          228,
          229,
          230,
          231,
          232,
          233,
          234,
          235,
          236,
          237,
          238,
          239,
          240,
          241,
          242,
          243,
          244,
          245,
          246,
          247,
          248,
          249,
          250,
          251,
          252,
          253,
          254,
          255,
          256,
          257,
          258,
          259,
          260,
          261,
          262,
          263,
          264,
          265,
          266,
          267,
          268,
          269,
          270,
          271,
          272,
          273,
          274,
          275,
          276,
          277,
          278,
          279,
          280,
          281,
          282,
          283,
          284,
          285,
          286,
          287,
          288,
          289,
          290,
          291,
          292,
          293,
          294,
          295,
          296,
          297,
          298,
          299,
          300,
          301,
          302,
          303,
          304,
          305,
          306,
          307,
          308,
          309,
          310,
          311,
          312,
          313,
          314,
          315,
          316,
          317,
          318,
          319,
          320,
          321,
          322,
          323,
          324,
          325,
          326,
          327,
          328,
          329,
          330,
          331,
          332,
          333,
          334,
          335,
          336,
          337,
          338,
          339,
          340,
          341,
          342,
          343,
          344,
          345,
          346,
          347,
          348,
          349,
          350,
          351,
          352,
          353,
          354,
          355,
          356,
          357,
          358,
          359,
          360,
          361,
          362,
          363,
          364,
          365,
          366,
          367,
          368,
          369,
          370,
          371,
          372,
          373,
          374,
          375,
          376,
          377,
          378,
          379,
          380,
          381,
          382,
          383,
          384,
          385,
          386,
          387,
          388,
          389,
          390,
          391,
          392,
          393,
          394,
          395,
          396,
          397,
          398,
          399,
          400,
          401,
          402,
          403,
          404,
          405,
          406,
          407,
          408,
          409,
          410,
          411,
          412,
          413,
          414,
          415,
          416,
          417,
          418,
          419,
          420,
          421,
          422,
          423,
          424,
          425,
          426,
          427,
          428,
          429,
          430,
          431,
          432,
          433,
          434,
          435,
          436,
          437,
          438,
          439,
          440,
          441,
          442,
          443,
          444,
          445,
          446,
          447,
          448,
          449,
          450,
          451,
          452,
          453,
          454,
          455,
          456,
          457,
          458,
          459,
          460,
          461,
          462,
          463,
          464,
          465,
          466,
          467,
          468,
          469,
          470,
          471,
          472,
          473,
          474,
          475,
          476,
          477,
          478,
          479,
          480,
          481,
          482,
          483,
          484,
          485,
          486,
          487,
          488,
          489,
          490,
          491,
          492,
          493,
          494,
          495,
          496,
          497,
          498,
          499
         ],
         "y": [
          0.5890830951237271,
          0.5063234865685826,
          0.47887878070295165,
          0.45675417235983823,
          0.44469223498536276,
          0.4318215091922003,
          0.42461401696490814,
          0.4219119972342178,
          0.41719360288487,
          0.41129548344285854,
          0.4029245668418852,
          0.3993157870241769,
          0.3958771928099552,
          0.39345953104197146,
          0.3902146508416647,
          0.3881119119761045,
          0.386172102211222,
          0.381476095865299,
          0.3811061859962291,
          0.3797094825543742,
          0.3769702731796421,
          0.37633075292635454,
          0.37443734423932357,
          0.374674590578053,
          0.3707323612152232,
          0.36832692704736125,
          0.3681530929110304,
          0.3670990209556644,
          0.3648644499281173,
          0.36438659797291123,
          0.3628731984958848,
          0.3619488690338663,
          0.36049039345954,
          0.35921151701068355,
          0.358639652218941,
          0.3587490233213044,
          0.35823466076798627,
          0.3573900076738433,
          0.3562199976051245,
          0.3554337146993295,
          0.3535349158076096,
          0.35347156906822513,
          0.3518179848978811,
          0.35181477012926954,
          0.35060310525714594,
          0.3497517847802625,
          0.3489474824959959,
          0.34907608168484,
          0.34836430632630266,
          0.3485544252042469,
          0.34866458126396355,
          0.34706738646458263,
          0.34702311398551694,
          0.3457520543018312,
          0.3447265320477444,
          0.34277000513119815,
          0.34211482165906365,
          0.34178468407194434,
          0.34091240843371245,
          0.3407344710702714,
          0.3401720865958078,
          0.3391902064206022,
          0.33911748212077814,
          0.33912593759223014,
          0.33845046465760753,
          0.33790867498521804,
          0.3375996071559203,
          0.3368886256549446,
          0.3368916849607571,
          0.33609579873496803,
          0.3352605031267951,
          0.33581576557822124,
          0.33511221826115223,
          0.3351175936404995,
          0.33391709038559236,
          0.33372378166139494,
          0.33385338959968897,
          0.3335559926062428,
          0.33311706031780064,
          0.3325965139124334,
          0.33259117324374615,
          0.33116965077325594,
          0.3305903627254655,
          0.330360658340089,
          0.32981579430065355,
          0.32982548693604297,
          0.3298123879384957,
          0.32982735405827723,
          0.3280457564196362,
          0.32813685997124936,
          0.32817466554297603,
          0.32749574751478705,
          0.326891957431861,
          0.3260276583622703,
          0.3260367938926854,
          0.32466454275090484,
          0.3241446433880748,
          0.32399068166173217,
          0.3244327453175303,
          0.32452612404662323,
          0.3237838692218798,
          0.3237162271255508,
          0.3235839289124477,
          0.322667960833694,
          0.32274938443503964,
          0.3224872832794701,
          0.3224051045862644,
          0.32261538694929764,
          0.3225960719443685,
          0.322819395005765,
          0.3223506500534505,
          0.3223588190373345,
          0.32240382502490367,
          0.3226303266673302,
          0.3225911477803824,
          0.3221596337986953,
          0.3221643222112083,
          0.3221792062038386,
          0.3219275582344205,
          0.32162601857470874,
          0.32175114455368126,
          0.320580755012748,
          0.32059011298070633,
          0.3203904764342805,
          0.31992644590692876,
          0.31993511621111825,
          0.3199442746926614,
          0.3199551099463093,
          0.3199609799167651,
          0.3187304954552964,
          0.3184442391751727,
          0.31814413421824994,
          0.31808141953588587,
          0.3180227427649947,
          0.31792995810928515,
          0.3179710392592393,
          0.3176441696423099,
          0.31793478867340896,
          0.3179176816465475,
          0.3181281634094545,
          0.3171442960542356,
          0.3171290193226923,
          0.3168775484800616,
          0.31666830022624465,
          0.3162486517539877,
          0.31590748024610743,
          0.31514182635322063,
          0.31487373305711924,
          0.3146957343835888,
          0.3142587685769409,
          0.31310081433885406,
          0.3134171490462688,
          0.3131503637703265,
          0.31318878054788274,
          0.3131942106474373,
          0.3126161282685621,
          0.3123889364959314,
          0.31356544121192514,
          0.313566377873882,
          0.31363214314573024,
          0.3137231302877546,
          0.31372523295776755,
          0.3132953677128587,
          0.3134059090946591,
          0.3133986797020122,
          0.3131028683610997,
          0.3130906772219046,
          0.3126936449976055,
          0.31265650461731564,
          0.3124516559286339,
          0.31325650670194327,
          0.313129759248036,
          0.31219751495219317,
          0.312598927494155,
          0.31260770241126196,
          0.3128444775559078,
          0.3128389286088395,
          0.3132229637573618,
          0.3129769214672643,
          0.31298591424228484,
          0.31298642839938867,
          0.3129940658888574,
          0.31306341157676976,
          0.3130066803766531,
          0.31286100714954823,
          0.31255463745586076,
          0.3127595779542633,
          0.31188027629391557,
          0.3114609681392012,
          0.3106303943191508,
          0.31033429193968365,
          0.3102999102555356,
          0.31053036875632556,
          0.31060810596196997,
          0.31059680861003547,
          0.3103416183613129,
          0.3097960803239071,
          0.31010786819637587,
          0.310120688676911,
          0.31026589688658385,
          0.31019082161856676,
          0.31039821236111326,
          0.3104150756721231,
          0.31027958312354054,
          0.31024948580264833,
          0.3101454900745342,
          0.31031699569478766,
          0.3097829178310642,
          0.3097990654275798,
          0.3098196636428984,
          0.3098301233573931,
          0.31013210958000287,
          0.3099948259921532,
          0.31001291299263695,
          0.3099756967661737,
          0.31000942809109383,
          0.3101101692748502,
          0.3101184007067673,
          0.3103265829265093,
          0.31030696734023694,
          0.3100698446510025,
          0.3098660126142234,
          0.30985609812862935,
          0.30986586856940934,
          0.3098587258631691,
          0.3097953455281508,
          0.30981546407793115,
          0.30966910494138933,
          0.3096633425894795,
          0.3096742496927101,
          0.3098247214720036,
          0.31027432490175016,
          0.31060487724053226,
          0.3106216070453615,
          0.3107103707454987,
          0.31089013187740444,
          0.31080031451226003,
          0.31074436324026605,
          0.3105615840683071,
          0.3106639876512659,
          0.3107243276600182,
          0.3107130443183045,
          0.31058646675723534,
          0.3106830112385823,
          0.31040686107120774,
          0.30976967699141245,
          0.30935316873033775,
          0.309274512295345,
          0.309081495681421,
          0.30907822588885175,
          0.3090754380704592,
          0.3089980086364477,
          0.30951684650308353,
          0.30914956542882593,
          0.30898913450238863,
          0.30894509450128893,
          0.3088609919180892,
          0.3088667835483988,
          0.3088308097108366,
          0.3092379912391698,
          0.309125015787313,
          0.30866319076787674,
          0.30859457215346453,
          0.3085923451575746,
          0.3086356986283454,
          0.30864255730361,
          0.3086443521976915,
          0.309023836099651,
          0.30943940515176044,
          0.30939567512139327,
          0.30927174309268446,
          0.30927691350262615,
          0.30928792166248015,
          0.3089759099907033,
          0.3091694436150834,
          0.30849479018006987,
          0.3085946664313571,
          0.3087298397119064,
          0.30879410851482886,
          0.3088403398097049,
          0.30912803223124086,
          0.3091085910091775,
          0.30926909612756054,
          0.30939319816852484,
          0.3091195822700514,
          0.30911274929331456,
          0.3089720709714582,
          0.3086496420998055,
          0.3083114898583299,
          0.30831490429071184,
          0.30834813416965895,
          0.30800262357582603,
          0.30820392214353265,
          0.30804604302983696,
          0.3080893036827439,
          0.3081462293339934,
          0.30832443604713783,
          0.30854863926614035,
          0.30849600494927415,
          0.30864473151342864,
          0.3086455359594151,
          0.30879171007322553,
          0.30864463387254676,
          0.3090709289587888,
          0.3090905151860326,
          0.3091313675585914,
          0.309679635482276,
          0.30979595404894944,
          0.3099527631167001,
          0.31005967493077424,
          0.309577140387937,
          0.30934507508325687,
          0.30937240168544355,
          0.30947489552145657,
          0.3094480201562288,
          0.3094914488111589,
          0.3094311317975397,
          0.3093671970461671,
          0.3093633304711201,
          0.3100165404833075,
          0.30977683055260213,
          0.3101175389592202,
          0.31012506075785473,
          0.3096952325524196,
          0.3096644791081028,
          0.3091450206762456,
          0.30869808111024305,
          0.30870639511447356,
          0.30816220836726643,
          0.3079761042080462,
          0.3080997845398911,
          0.30802693767079214,
          0.3081188173714549,
          0.3080939559032404,
          0.3080158796327907,
          0.30801240147186215,
          0.3080231086268627,
          0.3081444872259145,
          0.3076972294399038,
          0.3081024140792503,
          0.30810875825672146,
          0.30820979203279664,
          0.308184914273177,
          0.3081996830519576,
          0.3084229918284682,
          0.3081707038541958,
          0.3083562946566936,
          0.30837412868844116,
          0.3082618209028599,
          0.3082654701118374,
          0.308343132493766,
          0.30878407869961366,
          0.3082361524464006,
          0.30813549444341765,
          0.3081475438563666,
          0.30800497738330485,
          0.3079994202329367,
          0.30795178636537396,
          0.30809698343580955,
          0.3079608530450649,
          0.3082926357111598,
          0.3082976937986482,
          0.3083015640420036,
          0.3083623476940426,
          0.3083593918788657,
          0.308291112051557,
          0.3082876449708848,
          0.30845774561895434,
          0.30848177167219604,
          0.30872746263787004,
          0.3087304243209061,
          0.3087307008476881,
          0.3087355634714347,
          0.3087583372771316,
          0.30876472657914283,
          0.3076525967270651,
          0.30764024862830247,
          0.30785831090893034,
          0.30782677900039984,
          0.3080746115239484,
          0.3082496128302529,
          0.30826040522505954,
          0.30827755419387687,
          0.30659236778264853,
          0.3066495024688868,
          0.30663628962206196,
          0.3066139725073723,
          0.30643255716467943,
          0.306208620695712,
          0.30598949975835416,
          0.3058685346688526,
          0.3056962880017372,
          0.30543010691206535,
          0.30551922513732377,
          0.3057235284473505,
          0.3056253694429497,
          0.3057758889461227,
          0.304257574417687,
          0.304261296275061,
          0.3045715955745425,
          0.30457872288891435,
          0.30458945104637963,
          0.30328703720472083,
          0.3026712378102915,
          0.30267508272998184,
          0.3025466818715487,
          0.30245535713743094,
          0.3024494356475921,
          0.30250035852125545,
          0.3025810169978759,
          0.3026304854164911,
          0.3026248316706483,
          0.30266282794946336,
          0.3026420489853176,
          0.30263524879410175,
          0.3026323721270328,
          0.3028107894441665,
          0.30366666345301296,
          0.30387959879106524,
          0.30393023035287664,
          0.30391886004923646,
          0.30377890098192634,
          0.303885867444226,
          0.3044885361108345,
          0.3044604363434896,
          0.3041696881332836,
          0.3040184071465998,
          0.30401721822477645,
          0.3039325162914023,
          0.3039407425459028,
          0.30422163171583744,
          0.3044066098162278,
          0.30484353323253366,
          0.30486062189745555,
          0.3049285568818415,
          0.3050554509809307,
          0.30510779725082365,
          0.3051072339318807,
          0.30491625116610704,
          0.304893779161986,
          0.30490324705979055,
          0.3048931389810739,
          0.3047522319062588,
          0.30482801420076716,
          0.3048231451093848,
          0.3052042047001473,
          0.30517820388886324,
          0.30515685419487026,
          0.30555240893311575,
          0.3054532015740703,
          0.305849412154091,
          0.3058132377907233,
          0.3059730305095431,
          0.3054527958124982,
          0.30546621402120994,
          0.3056910150854175,
          0.30573106032317215,
          0.3057237001496094,
          0.30569463229888694,
          0.3056944097059557,
          0.306115745839315,
          0.30592747741914283,
          0.3054055343929092,
          0.3055129122029202,
          0.30581021549802695,
          0.3056492513280174,
          0.3055960183468558,
          0.3053857107503996,
          0.3051343095320262,
          0.3053344166678648,
          0.30533713314128635,
          0.3053207659494319,
          0.3051068337649328,
          0.30513317776897786,
          0.3052615644573751,
          0.30527168657673337,
          0.3051612621970142,
          0.30519036433084173,
          0.30512444382735404,
          0.30488583197821867,
          0.3048777828378896,
          0.30453858697169783,
          0.30468961286649754,
          0.3048139176132694,
          0.304497501349864,
          0.3046774167986807,
          0.30465819936676397,
          0.3049197980294941,
          0.30492801603644853,
          0.305011170944424,
          0.30491629105063106,
          0.3049178082950339,
          0.3049370656647627,
          0.30493245691768667,
          0.3049416217707321,
          0.30494286813161176,
          0.30540254005920414,
          0.30506769196193995,
          0.30517198451219074,
          0.3051798623595399
         ]
        }
       ],
       "layout": {
        "legend": {
         "title": {
          "text": "Dataset"
         }
        },
        "template": {
         "data": {
          "bar": [
           {
            "error_x": {
             "color": "#2a3f5f"
            },
            "error_y": {
             "color": "#2a3f5f"
            },
            "marker": {
             "line": {
              "color": "#E5ECF6",
              "width": 0.5
             },
             "pattern": {
              "fillmode": "overlay",
              "size": 10,
              "solidity": 0.2
             }
            },
            "type": "bar"
           }
          ],
          "barpolar": [
           {
            "marker": {
             "line": {
              "color": "#E5ECF6",
              "width": 0.5
             },
             "pattern": {
              "fillmode": "overlay",
              "size": 10,
              "solidity": 0.2
             }
            },
            "type": "barpolar"
           }
          ],
          "carpet": [
           {
            "aaxis": {
             "endlinecolor": "#2a3f5f",
             "gridcolor": "white",
             "linecolor": "white",
             "minorgridcolor": "white",
             "startlinecolor": "#2a3f5f"
            },
            "baxis": {
             "endlinecolor": "#2a3f5f",
             "gridcolor": "white",
             "linecolor": "white",
             "minorgridcolor": "white",
             "startlinecolor": "#2a3f5f"
            },
            "type": "carpet"
           }
          ],
          "choropleth": [
           {
            "colorbar": {
             "outlinewidth": 0,
             "ticks": ""
            },
            "type": "choropleth"
           }
          ],
          "contour": [
           {
            "colorbar": {
             "outlinewidth": 0,
             "ticks": ""
            },
            "colorscale": [
             [
              0,
              "#0d0887"
             ],
             [
              0.1111111111111111,
              "#46039f"
             ],
             [
              0.2222222222222222,
              "#7201a8"
             ],
             [
              0.3333333333333333,
              "#9c179e"
             ],
             [
              0.4444444444444444,
              "#bd3786"
             ],
             [
              0.5555555555555556,
              "#d8576b"
             ],
             [
              0.6666666666666666,
              "#ed7953"
             ],
             [
              0.7777777777777778,
              "#fb9f3a"
             ],
             [
              0.8888888888888888,
              "#fdca26"
             ],
             [
              1,
              "#f0f921"
             ]
            ],
            "type": "contour"
           }
          ],
          "contourcarpet": [
           {
            "colorbar": {
             "outlinewidth": 0,
             "ticks": ""
            },
            "type": "contourcarpet"
           }
          ],
          "heatmap": [
           {
            "colorbar": {
             "outlinewidth": 0,
             "ticks": ""
            },
            "colorscale": [
             [
              0,
              "#0d0887"
             ],
             [
              0.1111111111111111,
              "#46039f"
             ],
             [
              0.2222222222222222,
              "#7201a8"
             ],
             [
              0.3333333333333333,
              "#9c179e"
             ],
             [
              0.4444444444444444,
              "#bd3786"
             ],
             [
              0.5555555555555556,
              "#d8576b"
             ],
             [
              0.6666666666666666,
              "#ed7953"
             ],
             [
              0.7777777777777778,
              "#fb9f3a"
             ],
             [
              0.8888888888888888,
              "#fdca26"
             ],
             [
              1,
              "#f0f921"
             ]
            ],
            "type": "heatmap"
           }
          ],
          "heatmapgl": [
           {
            "colorbar": {
             "outlinewidth": 0,
             "ticks": ""
            },
            "colorscale": [
             [
              0,
              "#0d0887"
             ],
             [
              0.1111111111111111,
              "#46039f"
             ],
             [
              0.2222222222222222,
              "#7201a8"
             ],
             [
              0.3333333333333333,
              "#9c179e"
             ],
             [
              0.4444444444444444,
              "#bd3786"
             ],
             [
              0.5555555555555556,
              "#d8576b"
             ],
             [
              0.6666666666666666,
              "#ed7953"
             ],
             [
              0.7777777777777778,
              "#fb9f3a"
             ],
             [
              0.8888888888888888,
              "#fdca26"
             ],
             [
              1,
              "#f0f921"
             ]
            ],
            "type": "heatmapgl"
           }
          ],
          "histogram": [
           {
            "marker": {
             "pattern": {
              "fillmode": "overlay",
              "size": 10,
              "solidity": 0.2
             }
            },
            "type": "histogram"
           }
          ],
          "histogram2d": [
           {
            "colorbar": {
             "outlinewidth": 0,
             "ticks": ""
            },
            "colorscale": [
             [
              0,
              "#0d0887"
             ],
             [
              0.1111111111111111,
              "#46039f"
             ],
             [
              0.2222222222222222,
              "#7201a8"
             ],
             [
              0.3333333333333333,
              "#9c179e"
             ],
             [
              0.4444444444444444,
              "#bd3786"
             ],
             [
              0.5555555555555556,
              "#d8576b"
             ],
             [
              0.6666666666666666,
              "#ed7953"
             ],
             [
              0.7777777777777778,
              "#fb9f3a"
             ],
             [
              0.8888888888888888,
              "#fdca26"
             ],
             [
              1,
              "#f0f921"
             ]
            ],
            "type": "histogram2d"
           }
          ],
          "histogram2dcontour": [
           {
            "colorbar": {
             "outlinewidth": 0,
             "ticks": ""
            },
            "colorscale": [
             [
              0,
              "#0d0887"
             ],
             [
              0.1111111111111111,
              "#46039f"
             ],
             [
              0.2222222222222222,
              "#7201a8"
             ],
             [
              0.3333333333333333,
              "#9c179e"
             ],
             [
              0.4444444444444444,
              "#bd3786"
             ],
             [
              0.5555555555555556,
              "#d8576b"
             ],
             [
              0.6666666666666666,
              "#ed7953"
             ],
             [
              0.7777777777777778,
              "#fb9f3a"
             ],
             [
              0.8888888888888888,
              "#fdca26"
             ],
             [
              1,
              "#f0f921"
             ]
            ],
            "type": "histogram2dcontour"
           }
          ],
          "mesh3d": [
           {
            "colorbar": {
             "outlinewidth": 0,
             "ticks": ""
            },
            "type": "mesh3d"
           }
          ],
          "parcoords": [
           {
            "line": {
             "colorbar": {
              "outlinewidth": 0,
              "ticks": ""
             }
            },
            "type": "parcoords"
           }
          ],
          "pie": [
           {
            "automargin": true,
            "type": "pie"
           }
          ],
          "scatter": [
           {
            "fillpattern": {
             "fillmode": "overlay",
             "size": 10,
             "solidity": 0.2
            },
            "type": "scatter"
           }
          ],
          "scatter3d": [
           {
            "line": {
             "colorbar": {
              "outlinewidth": 0,
              "ticks": ""
             }
            },
            "marker": {
             "colorbar": {
              "outlinewidth": 0,
              "ticks": ""
             }
            },
            "type": "scatter3d"
           }
          ],
          "scattercarpet": [
           {
            "marker": {
             "colorbar": {
              "outlinewidth": 0,
              "ticks": ""
             }
            },
            "type": "scattercarpet"
           }
          ],
          "scattergeo": [
           {
            "marker": {
             "colorbar": {
              "outlinewidth": 0,
              "ticks": ""
             }
            },
            "type": "scattergeo"
           }
          ],
          "scattergl": [
           {
            "marker": {
             "colorbar": {
              "outlinewidth": 0,
              "ticks": ""
             }
            },
            "type": "scattergl"
           }
          ],
          "scattermapbox": [
           {
            "marker": {
             "colorbar": {
              "outlinewidth": 0,
              "ticks": ""
             }
            },
            "type": "scattermapbox"
           }
          ],
          "scatterpolar": [
           {
            "marker": {
             "colorbar": {
              "outlinewidth": 0,
              "ticks": ""
             }
            },
            "type": "scatterpolar"
           }
          ],
          "scatterpolargl": [
           {
            "marker": {
             "colorbar": {
              "outlinewidth": 0,
              "ticks": ""
             }
            },
            "type": "scatterpolargl"
           }
          ],
          "scatterternary": [
           {
            "marker": {
             "colorbar": {
              "outlinewidth": 0,
              "ticks": ""
             }
            },
            "type": "scatterternary"
           }
          ],
          "surface": [
           {
            "colorbar": {
             "outlinewidth": 0,
             "ticks": ""
            },
            "colorscale": [
             [
              0,
              "#0d0887"
             ],
             [
              0.1111111111111111,
              "#46039f"
             ],
             [
              0.2222222222222222,
              "#7201a8"
             ],
             [
              0.3333333333333333,
              "#9c179e"
             ],
             [
              0.4444444444444444,
              "#bd3786"
             ],
             [
              0.5555555555555556,
              "#d8576b"
             ],
             [
              0.6666666666666666,
              "#ed7953"
             ],
             [
              0.7777777777777778,
              "#fb9f3a"
             ],
             [
              0.8888888888888888,
              "#fdca26"
             ],
             [
              1,
              "#f0f921"
             ]
            ],
            "type": "surface"
           }
          ],
          "table": [
           {
            "cells": {
             "fill": {
              "color": "#EBF0F8"
             },
             "line": {
              "color": "white"
             }
            },
            "header": {
             "fill": {
              "color": "#C8D4E3"
             },
             "line": {
              "color": "white"
             }
            },
            "type": "table"
           }
          ]
         },
         "layout": {
          "annotationdefaults": {
           "arrowcolor": "#2a3f5f",
           "arrowhead": 0,
           "arrowwidth": 1
          },
          "autotypenumbers": "strict",
          "coloraxis": {
           "colorbar": {
            "outlinewidth": 0,
            "ticks": ""
           }
          },
          "colorscale": {
           "diverging": [
            [
             0,
             "#8e0152"
            ],
            [
             0.1,
             "#c51b7d"
            ],
            [
             0.2,
             "#de77ae"
            ],
            [
             0.3,
             "#f1b6da"
            ],
            [
             0.4,
             "#fde0ef"
            ],
            [
             0.5,
             "#f7f7f7"
            ],
            [
             0.6,
             "#e6f5d0"
            ],
            [
             0.7,
             "#b8e186"
            ],
            [
             0.8,
             "#7fbc41"
            ],
            [
             0.9,
             "#4d9221"
            ],
            [
             1,
             "#276419"
            ]
           ],
           "sequential": [
            [
             0,
             "#0d0887"
            ],
            [
             0.1111111111111111,
             "#46039f"
            ],
            [
             0.2222222222222222,
             "#7201a8"
            ],
            [
             0.3333333333333333,
             "#9c179e"
            ],
            [
             0.4444444444444444,
             "#bd3786"
            ],
            [
             0.5555555555555556,
             "#d8576b"
            ],
            [
             0.6666666666666666,
             "#ed7953"
            ],
            [
             0.7777777777777778,
             "#fb9f3a"
            ],
            [
             0.8888888888888888,
             "#fdca26"
            ],
            [
             1,
             "#f0f921"
            ]
           ],
           "sequentialminus": [
            [
             0,
             "#0d0887"
            ],
            [
             0.1111111111111111,
             "#46039f"
            ],
            [
             0.2222222222222222,
             "#7201a8"
            ],
            [
             0.3333333333333333,
             "#9c179e"
            ],
            [
             0.4444444444444444,
             "#bd3786"
            ],
            [
             0.5555555555555556,
             "#d8576b"
            ],
            [
             0.6666666666666666,
             "#ed7953"
            ],
            [
             0.7777777777777778,
             "#fb9f3a"
            ],
            [
             0.8888888888888888,
             "#fdca26"
            ],
            [
             1,
             "#f0f921"
            ]
           ]
          },
          "colorway": [
           "#636efa",
           "#EF553B",
           "#00cc96",
           "#ab63fa",
           "#FFA15A",
           "#19d3f3",
           "#FF6692",
           "#B6E880",
           "#FF97FF",
           "#FECB52"
          ],
          "font": {
           "color": "#2a3f5f"
          },
          "geo": {
           "bgcolor": "white",
           "lakecolor": "white",
           "landcolor": "#E5ECF6",
           "showlakes": true,
           "showland": true,
           "subunitcolor": "white"
          },
          "hoverlabel": {
           "align": "left"
          },
          "hovermode": "closest",
          "mapbox": {
           "style": "light"
          },
          "paper_bgcolor": "white",
          "plot_bgcolor": "#E5ECF6",
          "polar": {
           "angularaxis": {
            "gridcolor": "white",
            "linecolor": "white",
            "ticks": ""
           },
           "bgcolor": "#E5ECF6",
           "radialaxis": {
            "gridcolor": "white",
            "linecolor": "white",
            "ticks": ""
           }
          },
          "scene": {
           "xaxis": {
            "backgroundcolor": "#E5ECF6",
            "gridcolor": "white",
            "gridwidth": 2,
            "linecolor": "white",
            "showbackground": true,
            "ticks": "",
            "zerolinecolor": "white"
           },
           "yaxis": {
            "backgroundcolor": "#E5ECF6",
            "gridcolor": "white",
            "gridwidth": 2,
            "linecolor": "white",
            "showbackground": true,
            "ticks": "",
            "zerolinecolor": "white"
           },
           "zaxis": {
            "backgroundcolor": "#E5ECF6",
            "gridcolor": "white",
            "gridwidth": 2,
            "linecolor": "white",
            "showbackground": true,
            "ticks": "",
            "zerolinecolor": "white"
           }
          },
          "shapedefaults": {
           "line": {
            "color": "#2a3f5f"
           }
          },
          "ternary": {
           "aaxis": {
            "gridcolor": "white",
            "linecolor": "white",
            "ticks": ""
           },
           "baxis": {
            "gridcolor": "white",
            "linecolor": "white",
            "ticks": ""
           },
           "bgcolor": "#E5ECF6",
           "caxis": {
            "gridcolor": "white",
            "linecolor": "white",
            "ticks": ""
           }
          },
          "title": {
           "x": 0.05
          },
          "xaxis": {
           "automargin": true,
           "gridcolor": "white",
           "linecolor": "white",
           "ticks": "",
           "title": {
            "standoff": 15
           },
           "zerolinecolor": "white",
           "zerolinewidth": 2
          },
          "yaxis": {
           "automargin": true,
           "gridcolor": "white",
           "linecolor": "white",
           "ticks": "",
           "title": {
            "standoff": 15
           },
           "zerolinecolor": "white",
           "zerolinewidth": 2
          }
         }
        },
        "title": {
         "text": "CatBoost Logloss"
        },
        "xaxis": {
         "title": {
          "text": "Boosting Iterations"
         }
        },
        "yaxis": {
         "title": {
          "text": "Logloss"
         }
        }
       }
      }
     },
     "metadata": {},
     "output_type": "display_data"
    }
   ],
   "source": [
    "# Создание и обучение модели CatBoost\n",
    "model = CatBoostClassifier(n_estimators=500, max_depth=2, learning_rate=0.2, random_state=42)\n",
    "model.fit(features_train, target_train, eval_set=[(features_test, target_test)], early_stopping_rounds=100)\n",
    "\n",
    "# Оценка качества модели\n",
    "train_accuracy = balanced_accuracy_score(model.predict(features_train), target_train)\n",
    "test_accuracy = balanced_accuracy_score(model.predict(features_test), target_test)\n",
    "test_roc_auc = roc_auc_score(target_test, model.predict_proba(features_test)[:, 1])\n",
    "\n",
    "print(f'Точность на обучающей выборке: {train_accuracy:.4f}')\n",
    "print(f'Точность на тестовой выборке: {test_accuracy:.4f}')\n",
    "print(f'ROC AUC score: {test_roc_auc:.4f}')\n",
    "\n",
    "# Визуализация процесса обучения\n",
    "evals_result = model.get_evals_result()\n",
    "train_scores = evals_result['learn']\n",
    "test_scores = evals_result['validation']\n",
    "epochs = len(train_scores['Logloss'])\n",
    "x_axis = list(range(epochs))\n",
    "\n",
    "fig = go.Figure()\n",
    "fig.add_trace(go.Scatter(x=x_axis, y=train_scores['Logloss'], mode='lines', name='Train'))\n",
    "fig.add_trace(go.Scatter(x=x_axis, y=test_scores['Logloss'], mode='lines', name='Test'))\n",
    "\n",
    "fig.update_layout(\n",
    "    title='CatBoost Logloss',\n",
    "    xaxis_title='Boosting Iterations',\n",
    "    yaxis_title='Logloss',\n",
    "    legend_title_text='Dataset'\n",
    ")\n",
    "fig.show()"
   ]
  },
  {
   "cell_type": "markdown",
   "metadata": {},
   "source": [
    "Точность на обучающей выборке: 0.9270\n",
    "Точность на тестовой выборке: 0.8251\n",
    "ROC AUC score: 0.9136\n",
    "\n",
    "Эти метрики выше, чем в предыдущем варианте задания, где вы использовали логистическую регрессию. Это показывает, что CatBoost справился с задачей лучше.\n",
    "\n",
    "Обучение модели CatBoost может быть быстрее, чем ручная предобработка данных и обучение логистической регрессии. CatBoost автоматически обрабатывает категориальные признаки и может находить сложные взаимосвязи в данных, что существенно экономит время."
   ]
  }
 ],
 "metadata": {
  "kernelspec": {
   "display_name": "base",
   "language": "python",
   "name": "python3"
  },
  "language_info": {
   "codemirror_mode": {
    "name": "ipython",
    "version": 3
   },
   "file_extension": ".py",
   "mimetype": "text/x-python",
   "name": "python",
   "nbconvert_exporter": "python",
   "pygments_lexer": "ipython3",
   "version": "3.11.7"
  }
 },
 "nbformat": 4,
 "nbformat_minor": 2
}
